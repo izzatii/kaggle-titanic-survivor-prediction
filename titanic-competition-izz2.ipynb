{
 "cells": [
  {
   "cell_type": "code",
   "execution_count": 1,
   "id": "social-poland",
   "metadata": {
    "_cell_guid": "b1076dfc-b9ad-4769-8c92-a6c4dae69d19",
    "_uuid": "8f2839f25d086af736a60e9eeb907d3b93b6e0e5",
    "execution": {
     "iopub.execute_input": "2021-06-05T08:02:17.926056Z",
     "iopub.status.busy": "2021-06-05T08:02:17.925404Z",
     "iopub.status.idle": "2021-06-05T08:02:19.377224Z",
     "shell.execute_reply": "2021-06-05T08:02:19.377968Z",
     "shell.execute_reply.started": "2021-06-05T06:56:12.768509Z"
    },
    "papermill": {
     "duration": 1.541511,
     "end_time": "2021-06-05T08:02:19.378367",
     "exception": false,
     "start_time": "2021-06-05T08:02:17.836856",
     "status": "completed"
    },
    "tags": []
   },
   "outputs": [
    {
     "name": "stdout",
     "output_type": "stream",
     "text": [
      "/kaggle/input/titanic/train.csv\n",
      "/kaggle/input/titanic/test.csv\n",
      "/kaggle/input/titanic/gender_submission.csv\n"
     ]
    }
   ],
   "source": [
    "\n",
    "import numpy as np # linear algebra\n",
    "import pandas as pd # data processing, CSV file I/O (e.g. pd.read_csv)\n",
    "import matplotlib.pyplot as plt\n",
    "\n",
    "import seaborn as sns\n",
    "\n",
    "from sklearn.impute import SimpleImputer\n",
    "from sklearn.preprocessing import OneHotEncoder\n",
    "from sklearn.compose import ColumnTransformer\n",
    "from sklearn.pipeline import Pipeline\n",
    "from sklearn.ensemble import RandomForestClassifier\n",
    "from sklearn.model_selection import cross_val_score\n",
    "\n",
    "import os\n",
    "for dirname, _, filenames in os.walk('/kaggle/input'):\n",
    "    for filename in filenames:\n",
    "        print(os.path.join(dirname, filename))\n",
    "\n"
   ]
  },
  {
   "cell_type": "markdown",
   "id": "powered-universal",
   "metadata": {
    "papermill": {
     "duration": 0.079248,
     "end_time": "2021-06-05T08:02:19.542000",
     "exception": false,
     "start_time": "2021-06-05T08:02:19.462752",
     "status": "completed"
    },
    "tags": []
   },
   "source": [
    "# 1. Load Dataset"
   ]
  },
  {
   "cell_type": "code",
   "execution_count": 2,
   "id": "particular-platform",
   "metadata": {
    "execution": {
     "iopub.execute_input": "2021-06-05T08:02:19.699677Z",
     "iopub.status.busy": "2021-06-05T08:02:19.698974Z",
     "iopub.status.idle": "2021-06-05T08:02:19.722515Z",
     "shell.execute_reply": "2021-06-05T08:02:19.723018Z",
     "shell.execute_reply.started": "2021-06-05T06:56:12.781288Z"
    },
    "papermill": {
     "duration": 0.105891,
     "end_time": "2021-06-05T08:02:19.723211",
     "exception": false,
     "start_time": "2021-06-05T08:02:19.617320",
     "status": "completed"
    },
    "tags": []
   },
   "outputs": [],
   "source": [
    "train_df = pd.read_csv('../input/titanic/train.csv')\n",
    "test_df = pd.read_csv('../input/titanic/test.csv')"
   ]
  },
  {
   "cell_type": "code",
   "execution_count": 3,
   "id": "dependent-newport",
   "metadata": {
    "execution": {
     "iopub.execute_input": "2021-06-05T08:02:19.877284Z",
     "iopub.status.busy": "2021-06-05T08:02:19.876516Z",
     "iopub.status.idle": "2021-06-05T08:02:19.909222Z",
     "shell.execute_reply": "2021-06-05T08:02:19.908587Z",
     "shell.execute_reply.started": "2021-06-05T06:56:12.800449Z"
    },
    "papermill": {
     "duration": 0.110953,
     "end_time": "2021-06-05T08:02:19.909360",
     "exception": false,
     "start_time": "2021-06-05T08:02:19.798407",
     "status": "completed"
    },
    "tags": []
   },
   "outputs": [
    {
     "data": {
      "text/html": [
       "<div>\n",
       "<style scoped>\n",
       "    .dataframe tbody tr th:only-of-type {\n",
       "        vertical-align: middle;\n",
       "    }\n",
       "\n",
       "    .dataframe tbody tr th {\n",
       "        vertical-align: top;\n",
       "    }\n",
       "\n",
       "    .dataframe thead th {\n",
       "        text-align: right;\n",
       "    }\n",
       "</style>\n",
       "<table border=\"1\" class=\"dataframe\">\n",
       "  <thead>\n",
       "    <tr style=\"text-align: right;\">\n",
       "      <th></th>\n",
       "      <th>PassengerId</th>\n",
       "      <th>Survived</th>\n",
       "      <th>Pclass</th>\n",
       "      <th>Name</th>\n",
       "      <th>Sex</th>\n",
       "      <th>Age</th>\n",
       "      <th>SibSp</th>\n",
       "      <th>Parch</th>\n",
       "      <th>Ticket</th>\n",
       "      <th>Fare</th>\n",
       "      <th>Cabin</th>\n",
       "      <th>Embarked</th>\n",
       "    </tr>\n",
       "  </thead>\n",
       "  <tbody>\n",
       "    <tr>\n",
       "      <th>0</th>\n",
       "      <td>1</td>\n",
       "      <td>0</td>\n",
       "      <td>3</td>\n",
       "      <td>Braund, Mr. Owen Harris</td>\n",
       "      <td>male</td>\n",
       "      <td>22.0</td>\n",
       "      <td>1</td>\n",
       "      <td>0</td>\n",
       "      <td>A/5 21171</td>\n",
       "      <td>7.2500</td>\n",
       "      <td>NaN</td>\n",
       "      <td>S</td>\n",
       "    </tr>\n",
       "    <tr>\n",
       "      <th>1</th>\n",
       "      <td>2</td>\n",
       "      <td>1</td>\n",
       "      <td>1</td>\n",
       "      <td>Cumings, Mrs. John Bradley (Florence Briggs Th...</td>\n",
       "      <td>female</td>\n",
       "      <td>38.0</td>\n",
       "      <td>1</td>\n",
       "      <td>0</td>\n",
       "      <td>PC 17599</td>\n",
       "      <td>71.2833</td>\n",
       "      <td>C85</td>\n",
       "      <td>C</td>\n",
       "    </tr>\n",
       "    <tr>\n",
       "      <th>2</th>\n",
       "      <td>3</td>\n",
       "      <td>1</td>\n",
       "      <td>3</td>\n",
       "      <td>Heikkinen, Miss. Laina</td>\n",
       "      <td>female</td>\n",
       "      <td>26.0</td>\n",
       "      <td>0</td>\n",
       "      <td>0</td>\n",
       "      <td>STON/O2. 3101282</td>\n",
       "      <td>7.9250</td>\n",
       "      <td>NaN</td>\n",
       "      <td>S</td>\n",
       "    </tr>\n",
       "    <tr>\n",
       "      <th>3</th>\n",
       "      <td>4</td>\n",
       "      <td>1</td>\n",
       "      <td>1</td>\n",
       "      <td>Futrelle, Mrs. Jacques Heath (Lily May Peel)</td>\n",
       "      <td>female</td>\n",
       "      <td>35.0</td>\n",
       "      <td>1</td>\n",
       "      <td>0</td>\n",
       "      <td>113803</td>\n",
       "      <td>53.1000</td>\n",
       "      <td>C123</td>\n",
       "      <td>S</td>\n",
       "    </tr>\n",
       "    <tr>\n",
       "      <th>4</th>\n",
       "      <td>5</td>\n",
       "      <td>0</td>\n",
       "      <td>3</td>\n",
       "      <td>Allen, Mr. William Henry</td>\n",
       "      <td>male</td>\n",
       "      <td>35.0</td>\n",
       "      <td>0</td>\n",
       "      <td>0</td>\n",
       "      <td>373450</td>\n",
       "      <td>8.0500</td>\n",
       "      <td>NaN</td>\n",
       "      <td>S</td>\n",
       "    </tr>\n",
       "  </tbody>\n",
       "</table>\n",
       "</div>"
      ],
      "text/plain": [
       "   PassengerId  Survived  Pclass  \\\n",
       "0            1         0       3   \n",
       "1            2         1       1   \n",
       "2            3         1       3   \n",
       "3            4         1       1   \n",
       "4            5         0       3   \n",
       "\n",
       "                                                Name     Sex   Age  SibSp  \\\n",
       "0                            Braund, Mr. Owen Harris    male  22.0      1   \n",
       "1  Cumings, Mrs. John Bradley (Florence Briggs Th...  female  38.0      1   \n",
       "2                             Heikkinen, Miss. Laina  female  26.0      0   \n",
       "3       Futrelle, Mrs. Jacques Heath (Lily May Peel)  female  35.0      1   \n",
       "4                           Allen, Mr. William Henry    male  35.0      0   \n",
       "\n",
       "   Parch            Ticket     Fare Cabin Embarked  \n",
       "0      0         A/5 21171   7.2500   NaN        S  \n",
       "1      0          PC 17599  71.2833   C85        C  \n",
       "2      0  STON/O2. 3101282   7.9250   NaN        S  \n",
       "3      0            113803  53.1000  C123        S  \n",
       "4      0            373450   8.0500   NaN        S  "
      ]
     },
     "execution_count": 3,
     "metadata": {},
     "output_type": "execute_result"
    }
   ],
   "source": [
    "train_df.head()"
   ]
  },
  {
   "cell_type": "code",
   "execution_count": 4,
   "id": "hollow-weather",
   "metadata": {
    "execution": {
     "iopub.execute_input": "2021-06-05T08:02:20.066367Z",
     "iopub.status.busy": "2021-06-05T08:02:20.065681Z",
     "iopub.status.idle": "2021-06-05T08:02:20.080954Z",
     "shell.execute_reply": "2021-06-05T08:02:20.081467Z",
     "shell.execute_reply.started": "2021-06-05T06:56:12.818675Z"
    },
    "papermill": {
     "duration": 0.095254,
     "end_time": "2021-06-05T08:02:20.081666",
     "exception": false,
     "start_time": "2021-06-05T08:02:19.986412",
     "status": "completed"
    },
    "tags": []
   },
   "outputs": [
    {
     "data": {
      "text/html": [
       "<div>\n",
       "<style scoped>\n",
       "    .dataframe tbody tr th:only-of-type {\n",
       "        vertical-align: middle;\n",
       "    }\n",
       "\n",
       "    .dataframe tbody tr th {\n",
       "        vertical-align: top;\n",
       "    }\n",
       "\n",
       "    .dataframe thead th {\n",
       "        text-align: right;\n",
       "    }\n",
       "</style>\n",
       "<table border=\"1\" class=\"dataframe\">\n",
       "  <thead>\n",
       "    <tr style=\"text-align: right;\">\n",
       "      <th></th>\n",
       "      <th>PassengerId</th>\n",
       "      <th>Pclass</th>\n",
       "      <th>Name</th>\n",
       "      <th>Sex</th>\n",
       "      <th>Age</th>\n",
       "      <th>SibSp</th>\n",
       "      <th>Parch</th>\n",
       "      <th>Ticket</th>\n",
       "      <th>Fare</th>\n",
       "      <th>Cabin</th>\n",
       "      <th>Embarked</th>\n",
       "    </tr>\n",
       "  </thead>\n",
       "  <tbody>\n",
       "    <tr>\n",
       "      <th>0</th>\n",
       "      <td>892</td>\n",
       "      <td>3</td>\n",
       "      <td>Kelly, Mr. James</td>\n",
       "      <td>male</td>\n",
       "      <td>34.5</td>\n",
       "      <td>0</td>\n",
       "      <td>0</td>\n",
       "      <td>330911</td>\n",
       "      <td>7.8292</td>\n",
       "      <td>NaN</td>\n",
       "      <td>Q</td>\n",
       "    </tr>\n",
       "    <tr>\n",
       "      <th>1</th>\n",
       "      <td>893</td>\n",
       "      <td>3</td>\n",
       "      <td>Wilkes, Mrs. James (Ellen Needs)</td>\n",
       "      <td>female</td>\n",
       "      <td>47.0</td>\n",
       "      <td>1</td>\n",
       "      <td>0</td>\n",
       "      <td>363272</td>\n",
       "      <td>7.0000</td>\n",
       "      <td>NaN</td>\n",
       "      <td>S</td>\n",
       "    </tr>\n",
       "    <tr>\n",
       "      <th>2</th>\n",
       "      <td>894</td>\n",
       "      <td>2</td>\n",
       "      <td>Myles, Mr. Thomas Francis</td>\n",
       "      <td>male</td>\n",
       "      <td>62.0</td>\n",
       "      <td>0</td>\n",
       "      <td>0</td>\n",
       "      <td>240276</td>\n",
       "      <td>9.6875</td>\n",
       "      <td>NaN</td>\n",
       "      <td>Q</td>\n",
       "    </tr>\n",
       "    <tr>\n",
       "      <th>3</th>\n",
       "      <td>895</td>\n",
       "      <td>3</td>\n",
       "      <td>Wirz, Mr. Albert</td>\n",
       "      <td>male</td>\n",
       "      <td>27.0</td>\n",
       "      <td>0</td>\n",
       "      <td>0</td>\n",
       "      <td>315154</td>\n",
       "      <td>8.6625</td>\n",
       "      <td>NaN</td>\n",
       "      <td>S</td>\n",
       "    </tr>\n",
       "    <tr>\n",
       "      <th>4</th>\n",
       "      <td>896</td>\n",
       "      <td>3</td>\n",
       "      <td>Hirvonen, Mrs. Alexander (Helga E Lindqvist)</td>\n",
       "      <td>female</td>\n",
       "      <td>22.0</td>\n",
       "      <td>1</td>\n",
       "      <td>1</td>\n",
       "      <td>3101298</td>\n",
       "      <td>12.2875</td>\n",
       "      <td>NaN</td>\n",
       "      <td>S</td>\n",
       "    </tr>\n",
       "  </tbody>\n",
       "</table>\n",
       "</div>"
      ],
      "text/plain": [
       "   PassengerId  Pclass                                          Name     Sex  \\\n",
       "0          892       3                              Kelly, Mr. James    male   \n",
       "1          893       3              Wilkes, Mrs. James (Ellen Needs)  female   \n",
       "2          894       2                     Myles, Mr. Thomas Francis    male   \n",
       "3          895       3                              Wirz, Mr. Albert    male   \n",
       "4          896       3  Hirvonen, Mrs. Alexander (Helga E Lindqvist)  female   \n",
       "\n",
       "    Age  SibSp  Parch   Ticket     Fare Cabin Embarked  \n",
       "0  34.5      0      0   330911   7.8292   NaN        Q  \n",
       "1  47.0      1      0   363272   7.0000   NaN        S  \n",
       "2  62.0      0      0   240276   9.6875   NaN        Q  \n",
       "3  27.0      0      0   315154   8.6625   NaN        S  \n",
       "4  22.0      1      1  3101298  12.2875   NaN        S  "
      ]
     },
     "execution_count": 4,
     "metadata": {},
     "output_type": "execute_result"
    }
   ],
   "source": [
    "test_df.head()"
   ]
  },
  {
   "cell_type": "markdown",
   "id": "modular-camcorder",
   "metadata": {
    "papermill": {
     "duration": 0.076708,
     "end_time": "2021-06-05T08:02:20.234602",
     "exception": false,
     "start_time": "2021-06-05T08:02:20.157894",
     "status": "completed"
    },
    "tags": []
   },
   "source": [
    "# 2. Exploratory data analysis"
   ]
  },
  {
   "cell_type": "markdown",
   "id": "honest-treatment",
   "metadata": {
    "papermill": {
     "duration": 0.075618,
     "end_time": "2021-06-05T08:02:20.387036",
     "exception": false,
     "start_time": "2021-06-05T08:02:20.311418",
     "status": "completed"
    },
    "tags": []
   },
   "source": [
    "## 2.1 Check Missing Values"
   ]
  },
  {
   "cell_type": "code",
   "execution_count": 5,
   "id": "identical-february",
   "metadata": {
    "execution": {
     "iopub.execute_input": "2021-06-05T08:02:20.546130Z",
     "iopub.status.busy": "2021-06-05T08:02:20.545487Z",
     "iopub.status.idle": "2021-06-05T08:02:20.549832Z",
     "shell.execute_reply": "2021-06-05T08:02:20.550533Z",
     "shell.execute_reply.started": "2021-06-05T06:56:12.839240Z"
    },
    "papermill": {
     "duration": 0.085766,
     "end_time": "2021-06-05T08:02:20.550760",
     "exception": false,
     "start_time": "2021-06-05T08:02:20.464994",
     "status": "completed"
    },
    "tags": []
   },
   "outputs": [],
   "source": [
    "def plot_missing_data(dataset, title):\n",
    "    fig, ax = plt.subplots(figsize=(5,5))\n",
    "    plt.title(title)\n",
    "    sns.heatmap(dataset.isnull(), cbar=False)"
   ]
  },
  {
   "cell_type": "code",
   "execution_count": 6,
   "id": "embedded-chess",
   "metadata": {
    "execution": {
     "iopub.execute_input": "2021-06-05T08:02:20.707854Z",
     "iopub.status.busy": "2021-06-05T08:02:20.707122Z",
     "iopub.status.idle": "2021-06-05T08:02:20.729770Z",
     "shell.execute_reply": "2021-06-05T08:02:20.729099Z",
     "shell.execute_reply.started": "2021-06-05T06:56:12.848339Z"
    },
    "papermill": {
     "duration": 0.103158,
     "end_time": "2021-06-05T08:02:20.729910",
     "exception": false,
     "start_time": "2021-06-05T08:02:20.626752",
     "status": "completed"
    },
    "tags": []
   },
   "outputs": [
    {
     "name": "stdout",
     "output_type": "stream",
     "text": [
      "<class 'pandas.core.frame.DataFrame'>\n",
      "RangeIndex: 891 entries, 0 to 890\n",
      "Data columns (total 12 columns):\n",
      " #   Column       Non-Null Count  Dtype  \n",
      "---  ------       --------------  -----  \n",
      " 0   PassengerId  891 non-null    int64  \n",
      " 1   Survived     891 non-null    int64  \n",
      " 2   Pclass       891 non-null    int64  \n",
      " 3   Name         891 non-null    object \n",
      " 4   Sex          891 non-null    object \n",
      " 5   Age          714 non-null    float64\n",
      " 6   SibSp        891 non-null    int64  \n",
      " 7   Parch        891 non-null    int64  \n",
      " 8   Ticket       891 non-null    object \n",
      " 9   Fare         891 non-null    float64\n",
      " 10  Cabin        204 non-null    object \n",
      " 11  Embarked     889 non-null    object \n",
      "dtypes: float64(2), int64(5), object(5)\n",
      "memory usage: 83.7+ KB\n"
     ]
    }
   ],
   "source": [
    "train_df.info()"
   ]
  },
  {
   "cell_type": "code",
   "execution_count": 7,
   "id": "improving-portal",
   "metadata": {
    "execution": {
     "iopub.execute_input": "2021-06-05T08:02:20.890568Z",
     "iopub.status.busy": "2021-06-05T08:02:20.889897Z",
     "iopub.status.idle": "2021-06-05T08:02:21.254642Z",
     "shell.execute_reply": "2021-06-05T08:02:21.255100Z",
     "shell.execute_reply.started": "2021-06-05T06:56:12.870457Z"
    },
    "papermill": {
     "duration": 0.44733,
     "end_time": "2021-06-05T08:02:21.255350",
     "exception": false,
     "start_time": "2021-06-05T08:02:20.808020",
     "status": "completed"
    },
    "tags": []
   },
   "outputs": [
    {
     "data": {
      "image/png": "[encoded data removed]",
      "text/plain": [
       "<Figure size 360x360 with 1 Axes>"
      ]
     },
     "metadata": {
      "needs_background": "light"
     },
     "output_type": "display_data"
    }
   ],
   "source": [
    "plot_missing_data(train_df, \"Training Dataset\")"
   ]
  },
  {
   "cell_type": "code",
   "execution_count": 8,
   "id": "thirty-worry",
   "metadata": {
    "execution": {
     "iopub.execute_input": "2021-06-05T08:02:21.417700Z",
     "iopub.status.busy": "2021-06-05T08:02:21.417004Z",
     "iopub.status.idle": "2021-06-05T08:02:21.431781Z",
     "shell.execute_reply": "2021-06-05T08:02:21.432247Z",
     "shell.execute_reply.started": "2021-06-05T06:56:13.238390Z"
    },
    "papermill": {
     "duration": 0.098974,
     "end_time": "2021-06-05T08:02:21.432425",
     "exception": false,
     "start_time": "2021-06-05T08:02:21.333451",
     "status": "completed"
    },
    "tags": []
   },
   "outputs": [
    {
     "name": "stdout",
     "output_type": "stream",
     "text": [
      "<class 'pandas.core.frame.DataFrame'>\n",
      "RangeIndex: 418 entries, 0 to 417\n",
      "Data columns (total 11 columns):\n",
      " #   Column       Non-Null Count  Dtype  \n",
      "---  ------       --------------  -----  \n",
      " 0   PassengerId  418 non-null    int64  \n",
      " 1   Pclass       418 non-null    int64  \n",
      " 2   Name         418 non-null    object \n",
      " 3   Sex          418 non-null    object \n",
      " 4   Age          332 non-null    float64\n",
      " 5   SibSp        418 non-null    int64  \n",
      " 6   Parch        418 non-null    int64  \n",
      " 7   Ticket       418 non-null    object \n",
      " 8   Fare         417 non-null    float64\n",
      " 9   Cabin        91 non-null     object \n",
      " 10  Embarked     418 non-null    object \n",
      "dtypes: float64(2), int64(4), object(5)\n",
      "memory usage: 36.0+ KB\n"
     ]
    }
   ],
   "source": [
    "test_df.info()"
   ]
  },
  {
   "cell_type": "code",
   "execution_count": 9,
   "id": "rising-johns",
   "metadata": {
    "execution": {
     "iopub.execute_input": "2021-06-05T08:02:21.612055Z",
     "iopub.status.busy": "2021-06-05T08:02:21.611378Z",
     "iopub.status.idle": "2021-06-05T08:02:21.903027Z",
     "shell.execute_reply": "2021-06-05T08:02:21.902256Z",
     "shell.execute_reply.started": "2021-06-05T06:56:13.254632Z"
    },
    "papermill": {
     "duration": 0.393546,
     "end_time": "2021-06-05T08:02:21.903181",
     "exception": false,
     "start_time": "2021-06-05T08:02:21.509635",
     "status": "completed"
    },
    "tags": []
   },
   "outputs": [
    {
     "data": {
      "image/png": "[encoded data removed]",
      "text/plain": [
       "<Figure size 360x360 with 1 Axes>"
      ]
     },
     "metadata": {
      "needs_background": "light"
     },
     "output_type": "display_data"
    }
   ],
   "source": [
    "plot_missing_data(test_df, \"Test Dataset\")"
   ]
  },
  {
   "cell_type": "markdown",
   "id": "mysterious-manual",
   "metadata": {
    "papermill": {
     "duration": 0.080348,
     "end_time": "2021-06-05T08:02:22.063112",
     "exception": false,
     "start_time": "2021-06-05T08:02:21.982764",
     "status": "completed"
    },
    "tags": []
   },
   "source": [
    "Observation: \n",
    "From the plots above, both training and test data contains features with missing values in Age and Cabin "
   ]
  },
  {
   "cell_type": "code",
   "execution_count": 10,
   "id": "oriental-headline",
   "metadata": {
    "execution": {
     "iopub.execute_input": "2021-06-05T08:02:22.227457Z",
     "iopub.status.busy": "2021-06-05T08:02:22.226774Z",
     "iopub.status.idle": "2021-06-05T08:02:22.228921Z",
     "shell.execute_reply": "2021-06-05T08:02:22.229433Z",
     "shell.execute_reply.started": "2021-06-05T06:56:13.597524Z"
    },
    "papermill": {
     "duration": 0.087026,
     "end_time": "2021-06-05T08:02:22.229647",
     "exception": false,
     "start_time": "2021-06-05T08:02:22.142621",
     "status": "completed"
    },
    "tags": []
   },
   "outputs": [],
   "source": [
    "def bar_chart_stacked(dataset, feature, stacked = True):\n",
    "    survived = dataset[dataset['Survived']==1][feature].value_counts()\n",
    "    dead = dataset[dataset['Survived']==0][feature].value_counts()\n",
    "    df_survived_dead = pd.DataFrame([survived, dead])\n",
    "    df_survived_dead.index = ['Passengers Survived', 'Passengers Died']\n",
    "    ax = df_survived_dead.plot(kind='bar',stacked=stacked,figsize=(5,5))"
   ]
  },
  {
   "cell_type": "markdown",
   "id": "detected-yeast",
   "metadata": {
    "papermill": {
     "duration": 0.078857,
     "end_time": "2021-06-05T08:02:22.388896",
     "exception": false,
     "start_time": "2021-06-05T08:02:22.310039",
     "status": "completed"
    },
    "tags": []
   },
   "source": []
  },
  {
   "cell_type": "markdown",
   "id": "allied-apparel",
   "metadata": {
    "papermill": {
     "duration": 0.079228,
     "end_time": "2021-06-05T08:02:22.549514",
     "exception": false,
     "start_time": "2021-06-05T08:02:22.470286",
     "status": "completed"
    },
    "tags": []
   },
   "source": [
    "## 2.2 Analyze Feature Survived"
   ]
  },
  {
   "cell_type": "code",
   "execution_count": 11,
   "id": "manufactured-bunch",
   "metadata": {
    "execution": {
     "iopub.execute_input": "2021-06-05T08:02:22.714899Z",
     "iopub.status.busy": "2021-06-05T08:02:22.714246Z",
     "iopub.status.idle": "2021-06-05T08:02:22.720304Z",
     "shell.execute_reply": "2021-06-05T08:02:22.720809Z",
     "shell.execute_reply.started": "2021-06-05T06:56:13.605273Z"
    },
    "papermill": {
     "duration": 0.091668,
     "end_time": "2021-06-05T08:02:22.720975",
     "exception": false,
     "start_time": "2021-06-05T08:02:22.629307",
     "status": "completed"
    },
    "tags": []
   },
   "outputs": [
    {
     "data": {
      "text/plain": [
       "0    549\n",
       "1    342\n",
       "Name: Survived, dtype: int64"
      ]
     },
     "execution_count": 11,
     "metadata": {},
     "output_type": "execute_result"
    }
   ],
   "source": [
    "train_df['Survived'].value_counts()"
   ]
  },
  {
   "cell_type": "code",
   "execution_count": 12,
   "id": "worse-luther",
   "metadata": {
    "execution": {
     "iopub.execute_input": "2021-06-05T08:02:22.885415Z",
     "iopub.status.busy": "2021-06-05T08:02:22.884749Z",
     "iopub.status.idle": "2021-06-05T08:02:23.017832Z",
     "shell.execute_reply": "2021-06-05T08:02:23.017228Z",
     "shell.execute_reply.started": "2021-06-05T06:56:13.619472Z"
    },
    "papermill": {
     "duration": 0.216112,
     "end_time": "2021-06-05T08:02:23.017979",
     "exception": false,
     "start_time": "2021-06-05T08:02:22.801867",
     "status": "completed"
    },
    "tags": []
   },
   "outputs": [
    {
     "data": {
      "text/plain": [
       "0    0.616162\n",
       "1    0.383838\n",
       "Name: Survived, dtype: float64"
      ]
     },
     "execution_count": 12,
     "metadata": {},
     "output_type": "execute_result"
    }
   ],
   "source": [
    "train_df['Survived'].value_counts(normalize=True)"
   ]
  },
  {
   "cell_type": "code",
   "execution_count": 13,
   "id": "balanced-prisoner",
   "metadata": {
    "execution": {
     "iopub.execute_input": "2021-06-05T08:02:23.197681Z",
     "iopub.status.busy": "2021-06-05T08:02:23.196860Z",
     "iopub.status.idle": "2021-06-05T08:02:23.363142Z",
     "shell.execute_reply": "2021-06-05T08:02:23.362605Z",
     "shell.execute_reply.started": "2021-06-05T06:56:13.632910Z"
    },
    "papermill": {
     "duration": 0.264268,
     "end_time": "2021-06-05T08:02:23.363290",
     "exception": false,
     "start_time": "2021-06-05T08:02:23.099022",
     "status": "completed"
    },
    "tags": []
   },
   "outputs": [
    {
     "data": {
      "image/png": "[encoded data removed]",
      "text/plain": [
       "<Figure size 360x360 with 1 Axes>"
      ]
     },
     "metadata": {
      "needs_background": "light"
     },
     "output_type": "display_data"
    }
   ],
   "source": [
    "bar_chart_stacked(train_df, \"Survived\")"
   ]
  },
  {
   "cell_type": "markdown",
   "id": "actual-variable",
   "metadata": {
    "papermill": {
     "duration": 0.080662,
     "end_time": "2021-06-05T08:02:23.524193",
     "exception": false,
     "start_time": "2021-06-05T08:02:23.443531",
     "status": "completed"
    },
    "tags": []
   },
   "source": [
    "**Observation:**\n",
    "Majority of the passengers in training data died. Only 38% survived the disaster."
   ]
  },
  {
   "cell_type": "markdown",
   "id": "recreational-ottawa",
   "metadata": {
    "papermill": {
     "duration": 0.080955,
     "end_time": "2021-06-05T08:02:23.686079",
     "exception": false,
     "start_time": "2021-06-05T08:02:23.605124",
     "status": "completed"
    },
    "tags": []
   },
   "source": [
    "## 2.3 Analyze Feature Sex"
   ]
  },
  {
   "cell_type": "code",
   "execution_count": 14,
   "id": "governmental-parcel",
   "metadata": {
    "execution": {
     "iopub.execute_input": "2021-06-05T08:02:23.858026Z",
     "iopub.status.busy": "2021-06-05T08:02:23.857334Z",
     "iopub.status.idle": "2021-06-05T08:02:23.860828Z",
     "shell.execute_reply": "2021-06-05T08:02:23.861265Z",
     "shell.execute_reply.started": "2021-06-05T06:56:13.918677Z"
    },
    "papermill": {
     "duration": 0.094549,
     "end_time": "2021-06-05T08:02:23.861457",
     "exception": false,
     "start_time": "2021-06-05T08:02:23.766908",
     "status": "completed"
    },
    "tags": []
   },
   "outputs": [
    {
     "data": {
      "text/html": [
       "<div>\n",
       "<style scoped>\n",
       "    .dataframe tbody tr th:only-of-type {\n",
       "        vertical-align: middle;\n",
       "    }\n",
       "\n",
       "    .dataframe tbody tr th {\n",
       "        vertical-align: top;\n",
       "    }\n",
       "\n",
       "    .dataframe thead th {\n",
       "        text-align: right;\n",
       "    }\n",
       "</style>\n",
       "<table border=\"1\" class=\"dataframe\">\n",
       "  <thead>\n",
       "    <tr style=\"text-align: right;\">\n",
       "      <th></th>\n",
       "      <th>Sex</th>\n",
       "    </tr>\n",
       "  </thead>\n",
       "  <tbody>\n",
       "    <tr>\n",
       "      <th>male</th>\n",
       "      <td>577</td>\n",
       "    </tr>\n",
       "    <tr>\n",
       "      <th>female</th>\n",
       "      <td>314</td>\n",
       "    </tr>\n",
       "  </tbody>\n",
       "</table>\n",
       "</div>"
      ],
      "text/plain": [
       "        Sex\n",
       "male    577\n",
       "female  314"
      ]
     },
     "execution_count": 14,
     "metadata": {},
     "output_type": "execute_result"
    }
   ],
   "source": [
    "train_df['Sex'].value_counts().to_frame()"
   ]
  },
  {
   "cell_type": "code",
   "execution_count": 15,
   "id": "selected-bonus",
   "metadata": {
    "execution": {
     "iopub.execute_input": "2021-06-05T08:02:24.026053Z",
     "iopub.status.busy": "2021-06-05T08:02:24.025398Z",
     "iopub.status.idle": "2021-06-05T08:02:24.174396Z",
     "shell.execute_reply": "2021-06-05T08:02:24.174932Z",
     "shell.execute_reply.started": "2021-06-05T06:56:13.932225Z"
    },
    "papermill": {
     "duration": 0.233306,
     "end_time": "2021-06-05T08:02:24.175106",
     "exception": false,
     "start_time": "2021-06-05T08:02:23.941800",
     "status": "completed"
    },
    "tags": []
   },
   "outputs": [
    {
     "data": {
      "image/png": "[encoded data removed]",
      "text/plain": [
       "<Figure size 360x360 with 1 Axes>"
      ]
     },
     "metadata": {
      "needs_background": "light"
     },
     "output_type": "display_data"
    }
   ],
   "source": [
    "bar_chart_stacked(train_df, \"Sex\")"
   ]
  },
  {
   "cell_type": "code",
   "execution_count": 16,
   "id": "smooth-display",
   "metadata": {
    "execution": {
     "iopub.execute_input": "2021-06-05T08:02:24.343278Z",
     "iopub.status.busy": "2021-06-05T08:02:24.342628Z",
     "iopub.status.idle": "2021-06-05T08:02:24.349926Z",
     "shell.execute_reply": "2021-06-05T08:02:24.350402Z",
     "shell.execute_reply.started": "2021-06-05T06:56:14.086673Z"
    },
    "papermill": {
     "duration": 0.092097,
     "end_time": "2021-06-05T08:02:24.350595",
     "exception": false,
     "start_time": "2021-06-05T08:02:24.258498",
     "status": "completed"
    },
    "tags": []
   },
   "outputs": [
    {
     "data": {
      "text/plain": [
       "Sex\n",
       "female    0.742038\n",
       "male      0.188908\n",
       "Name: Survived, dtype: float64"
      ]
     },
     "execution_count": 16,
     "metadata": {},
     "output_type": "execute_result"
    }
   ],
   "source": [
    "train_df.groupby('Sex').Survived.mean()"
   ]
  },
  {
   "cell_type": "markdown",
   "id": "silver-kidney",
   "metadata": {
    "papermill": {
     "duration": 0.082442,
     "end_time": "2021-06-05T08:02:24.514481",
     "exception": false,
     "start_time": "2021-06-05T08:02:24.432039",
     "status": "completed"
    },
    "tags": []
   },
   "source": [
    "**Observation**:\n",
    "Eventhough the majority of passengers were male, the majority of survivors were female"
   ]
  },
  {
   "cell_type": "markdown",
   "id": "corresponding-purpose",
   "metadata": {
    "papermill": {
     "duration": 0.081104,
     "end_time": "2021-06-05T08:02:24.678628",
     "exception": false,
     "start_time": "2021-06-05T08:02:24.597524",
     "status": "completed"
    },
    "tags": []
   },
   "source": [
    "## 2.4 Analyze Feature Pclass"
   ]
  },
  {
   "cell_type": "code",
   "execution_count": 17,
   "id": "painted-dialogue",
   "metadata": {
    "execution": {
     "iopub.execute_input": "2021-06-05T08:02:24.844233Z",
     "iopub.status.busy": "2021-06-05T08:02:24.843524Z",
     "iopub.status.idle": "2021-06-05T08:02:25.001465Z",
     "shell.execute_reply": "2021-06-05T08:02:25.001955Z",
     "shell.execute_reply.started": "2021-06-05T06:56:14.095894Z"
    },
    "papermill": {
     "duration": 0.242607,
     "end_time": "2021-06-05T08:02:25.002143",
     "exception": false,
     "start_time": "2021-06-05T08:02:24.759536",
     "status": "completed"
    },
    "tags": []
   },
   "outputs": [
    {
     "data": {
      "image/png": "[encoded data removed]",
      "text/plain": [
       "<Figure size 360x360 with 1 Axes>"
      ]
     },
     "metadata": {
      "needs_background": "light"
     },
     "output_type": "display_data"
    }
   ],
   "source": [
    "bar_chart_stacked(train_df, 'Pclass')"
   ]
  },
  {
   "cell_type": "code",
   "execution_count": 18,
   "id": "trained-holly",
   "metadata": {
    "execution": {
     "iopub.execute_input": "2021-06-05T08:02:25.170340Z",
     "iopub.status.busy": "2021-06-05T08:02:25.169329Z",
     "iopub.status.idle": "2021-06-05T08:02:25.195790Z",
     "shell.execute_reply": "2021-06-05T08:02:25.196257Z",
     "shell.execute_reply.started": "2021-06-05T06:56:14.251400Z"
    },
    "papermill": {
     "duration": 0.11211,
     "end_time": "2021-06-05T08:02:25.196436",
     "exception": false,
     "start_time": "2021-06-05T08:02:25.084326",
     "status": "completed"
    },
    "tags": []
   },
   "outputs": [
    {
     "data": {
      "text/html": [
       "<div>\n",
       "<style scoped>\n",
       "    .dataframe tbody tr th:only-of-type {\n",
       "        vertical-align: middle;\n",
       "    }\n",
       "\n",
       "    .dataframe tbody tr th {\n",
       "        vertical-align: top;\n",
       "    }\n",
       "\n",
       "    .dataframe thead th {\n",
       "        text-align: right;\n",
       "    }\n",
       "</style>\n",
       "<table border=\"1\" class=\"dataframe\">\n",
       "  <thead>\n",
       "    <tr style=\"text-align: right;\">\n",
       "      <th>Pclass</th>\n",
       "      <th>1</th>\n",
       "      <th>2</th>\n",
       "      <th>3</th>\n",
       "    </tr>\n",
       "    <tr>\n",
       "      <th>Survived</th>\n",
       "      <th></th>\n",
       "      <th></th>\n",
       "      <th></th>\n",
       "    </tr>\n",
       "  </thead>\n",
       "  <tbody>\n",
       "    <tr>\n",
       "      <th>0</th>\n",
       "      <td>80</td>\n",
       "      <td>97</td>\n",
       "      <td>372</td>\n",
       "    </tr>\n",
       "    <tr>\n",
       "      <th>1</th>\n",
       "      <td>136</td>\n",
       "      <td>87</td>\n",
       "      <td>119</td>\n",
       "    </tr>\n",
       "  </tbody>\n",
       "</table>\n",
       "</div>"
      ],
      "text/plain": [
       "Pclass      1   2    3\n",
       "Survived              \n",
       "0          80  97  372\n",
       "1         136  87  119"
      ]
     },
     "execution_count": 18,
     "metadata": {},
     "output_type": "execute_result"
    }
   ],
   "source": [
    "pd.pivot_table(train_df, index = 'Survived', columns = 'Pclass', values = 'Ticket', aggfunc = 'count')"
   ]
  },
  {
   "cell_type": "code",
   "execution_count": 19,
   "id": "soviet-microwave",
   "metadata": {
    "execution": {
     "iopub.execute_input": "2021-06-05T08:02:25.366848Z",
     "iopub.status.busy": "2021-06-05T08:02:25.365870Z",
     "iopub.status.idle": "2021-06-05T08:02:25.376504Z",
     "shell.execute_reply": "2021-06-05T08:02:25.376970Z",
     "shell.execute_reply.started": "2021-06-05T06:56:14.270664Z"
    },
    "papermill": {
     "duration": 0.097717,
     "end_time": "2021-06-05T08:02:25.377145",
     "exception": false,
     "start_time": "2021-06-05T08:02:25.279428",
     "status": "completed"
    },
    "tags": []
   },
   "outputs": [
    {
     "data": {
      "text/html": [
       "<div>\n",
       "<style scoped>\n",
       "    .dataframe tbody tr th:only-of-type {\n",
       "        vertical-align: middle;\n",
       "    }\n",
       "\n",
       "    .dataframe tbody tr th {\n",
       "        vertical-align: top;\n",
       "    }\n",
       "\n",
       "    .dataframe thead th {\n",
       "        text-align: right;\n",
       "    }\n",
       "</style>\n",
       "<table border=\"1\" class=\"dataframe\">\n",
       "  <thead>\n",
       "    <tr style=\"text-align: right;\">\n",
       "      <th></th>\n",
       "      <th>Survived</th>\n",
       "    </tr>\n",
       "    <tr>\n",
       "      <th>Pclass</th>\n",
       "      <th></th>\n",
       "    </tr>\n",
       "  </thead>\n",
       "  <tbody>\n",
       "    <tr>\n",
       "      <th>1</th>\n",
       "      <td>0.629630</td>\n",
       "    </tr>\n",
       "    <tr>\n",
       "      <th>2</th>\n",
       "      <td>0.472826</td>\n",
       "    </tr>\n",
       "    <tr>\n",
       "      <th>3</th>\n",
       "      <td>0.242363</td>\n",
       "    </tr>\n",
       "  </tbody>\n",
       "</table>\n",
       "</div>"
      ],
      "text/plain": [
       "        Survived\n",
       "Pclass          \n",
       "1       0.629630\n",
       "2       0.472826\n",
       "3       0.242363"
      ]
     },
     "execution_count": 19,
     "metadata": {},
     "output_type": "execute_result"
    }
   ],
   "source": [
    "train_df.groupby(['Pclass']).Survived.mean().to_frame()"
   ]
  },
  {
   "cell_type": "markdown",
   "id": "lucky-reset",
   "metadata": {
    "papermill": {
     "duration": 0.082144,
     "end_time": "2021-06-05T08:02:25.543064",
     "exception": false,
     "start_time": "2021-06-05T08:02:25.460920",
     "status": "completed"
    },
    "tags": []
   },
   "source": [
    "**Observation**:\n",
    "From the plots and tables above, Pclass is an important factor to consider.\n",
    "* Most passengers had class 3 tickets, yet only 24% of Class 3 passengers survived\n",
    "* Almost 63% of passenger from Class 1 survived\n",
    "* Approx 50% of Class 2 passenger survived\n",
    "\n",
    "Question: Is the class or sex the deciding factor?"
   ]
  },
  {
   "cell_type": "code",
   "execution_count": 20,
   "id": "european-japan",
   "metadata": {
    "execution": {
     "iopub.execute_input": "2021-06-05T08:02:25.714667Z",
     "iopub.status.busy": "2021-06-05T08:02:25.713706Z",
     "iopub.status.idle": "2021-06-05T08:02:25.718948Z",
     "shell.execute_reply": "2021-06-05T08:02:25.719400Z",
     "shell.execute_reply.started": "2021-06-05T06:56:14.289780Z"
    },
    "papermill": {
     "duration": 0.092419,
     "end_time": "2021-06-05T08:02:25.719586",
     "exception": false,
     "start_time": "2021-06-05T08:02:25.627167",
     "status": "completed"
    },
    "tags": []
   },
   "outputs": [],
   "source": [
    "def bar_chart_compare(dataset, feature1, feature2=None, title = \"Survival rate by sex and class\"):\n",
    "    plt.figure(figsize = [5,5])\n",
    "    plt.title(title)\n",
    "    g = sns.barplot(x = feature1, y = 'Survived', hue = feature2, ci = None, data = dataset).set_ylabel('Survival rate')"
   ]
  },
  {
   "cell_type": "code",
   "execution_count": 21,
   "id": "instant-albany",
   "metadata": {
    "execution": {
     "iopub.execute_input": "2021-06-05T08:02:25.893598Z",
     "iopub.status.busy": "2021-06-05T08:02:25.892424Z",
     "iopub.status.idle": "2021-06-05T08:02:26.052701Z",
     "shell.execute_reply": "2021-06-05T08:02:26.053147Z",
     "shell.execute_reply.started": "2021-06-05T06:56:14.296154Z"
    },
    "papermill": {
     "duration": 0.250526,
     "end_time": "2021-06-05T08:02:26.053329",
     "exception": false,
     "start_time": "2021-06-05T08:02:25.802803",
     "status": "completed"
    },
    "tags": []
   },
   "outputs": [
    {
     "data": {
      "image/png": "[encoded data removed]",
      "text/plain": [
       "<Figure size 360x360 with 1 Axes>"
      ]
     },
     "metadata": {
      "needs_background": "light"
     },
     "output_type": "display_data"
    }
   ],
   "source": [
    "bar_chart_compare(train_df, \"Pclass\", \"Sex\")"
   ]
  },
  {
   "cell_type": "code",
   "execution_count": 22,
   "id": "naked-charity",
   "metadata": {
    "execution": {
     "iopub.execute_input": "2021-06-05T08:02:26.235196Z",
     "iopub.status.busy": "2021-06-05T08:02:26.234127Z",
     "iopub.status.idle": "2021-06-05T08:02:26.258368Z",
     "shell.execute_reply": "2021-06-05T08:02:26.258834Z",
     "shell.execute_reply.started": "2021-06-05T06:56:14.453437Z"
    },
    "papermill": {
     "duration": 0.114538,
     "end_time": "2021-06-05T08:02:26.259008",
     "exception": false,
     "start_time": "2021-06-05T08:02:26.144470",
     "status": "completed"
    },
    "tags": []
   },
   "outputs": [
    {
     "data": {
      "text/html": [
       "<div>\n",
       "<style scoped>\n",
       "    .dataframe tbody tr th:only-of-type {\n",
       "        vertical-align: middle;\n",
       "    }\n",
       "\n",
       "    .dataframe tbody tr th {\n",
       "        vertical-align: top;\n",
       "    }\n",
       "\n",
       "    .dataframe thead tr th {\n",
       "        text-align: left;\n",
       "    }\n",
       "\n",
       "    .dataframe thead tr:last-of-type th {\n",
       "        text-align: right;\n",
       "    }\n",
       "</style>\n",
       "<table border=\"1\" class=\"dataframe\">\n",
       "  <thead>\n",
       "    <tr>\n",
       "      <th>Pclass</th>\n",
       "      <th colspan=\"2\" halign=\"left\">1</th>\n",
       "      <th colspan=\"2\" halign=\"left\">2</th>\n",
       "      <th colspan=\"2\" halign=\"left\">3</th>\n",
       "    </tr>\n",
       "    <tr>\n",
       "      <th>Sex</th>\n",
       "      <th>female</th>\n",
       "      <th>male</th>\n",
       "      <th>female</th>\n",
       "      <th>male</th>\n",
       "      <th>female</th>\n",
       "      <th>male</th>\n",
       "    </tr>\n",
       "    <tr>\n",
       "      <th>Survived</th>\n",
       "      <th></th>\n",
       "      <th></th>\n",
       "      <th></th>\n",
       "      <th></th>\n",
       "      <th></th>\n",
       "      <th></th>\n",
       "    </tr>\n",
       "  </thead>\n",
       "  <tbody>\n",
       "    <tr>\n",
       "      <th>0</th>\n",
       "      <td>3</td>\n",
       "      <td>77</td>\n",
       "      <td>6</td>\n",
       "      <td>91</td>\n",
       "      <td>72</td>\n",
       "      <td>300</td>\n",
       "    </tr>\n",
       "    <tr>\n",
       "      <th>1</th>\n",
       "      <td>91</td>\n",
       "      <td>45</td>\n",
       "      <td>70</td>\n",
       "      <td>17</td>\n",
       "      <td>72</td>\n",
       "      <td>47</td>\n",
       "    </tr>\n",
       "  </tbody>\n",
       "</table>\n",
       "</div>"
      ],
      "text/plain": [
       "Pclass        1           2           3     \n",
       "Sex      female male female male female male\n",
       "Survived                                    \n",
       "0             3   77      6   91     72  300\n",
       "1            91   45     70   17     72   47"
      ]
     },
     "execution_count": 22,
     "metadata": {},
     "output_type": "execute_result"
    }
   ],
   "source": [
    "pd.pivot_table(train_df, index = 'Survived', columns = ['Pclass', 'Sex'], values = 'Ticket', aggfunc = 'count')"
   ]
  },
  {
   "cell_type": "code",
   "execution_count": 23,
   "id": "structural-western",
   "metadata": {
    "execution": {
     "iopub.execute_input": "2021-06-05T08:02:26.435962Z",
     "iopub.status.busy": "2021-06-05T08:02:26.434955Z",
     "iopub.status.idle": "2021-06-05T08:02:26.448540Z",
     "shell.execute_reply": "2021-06-05T08:02:26.447876Z",
     "shell.execute_reply.started": "2021-06-05T06:56:14.479028Z"
    },
    "papermill": {
     "duration": 0.102927,
     "end_time": "2021-06-05T08:02:26.448704",
     "exception": false,
     "start_time": "2021-06-05T08:02:26.345777",
     "status": "completed"
    },
    "tags": []
   },
   "outputs": [
    {
     "data": {
      "text/html": [
       "<div>\n",
       "<style scoped>\n",
       "    .dataframe tbody tr th:only-of-type {\n",
       "        vertical-align: middle;\n",
       "    }\n",
       "\n",
       "    .dataframe tbody tr th {\n",
       "        vertical-align: top;\n",
       "    }\n",
       "\n",
       "    .dataframe thead th {\n",
       "        text-align: right;\n",
       "    }\n",
       "</style>\n",
       "<table border=\"1\" class=\"dataframe\">\n",
       "  <thead>\n",
       "    <tr style=\"text-align: right;\">\n",
       "      <th></th>\n",
       "      <th></th>\n",
       "      <th>Survived</th>\n",
       "    </tr>\n",
       "    <tr>\n",
       "      <th>Pclass</th>\n",
       "      <th>Sex</th>\n",
       "      <th></th>\n",
       "    </tr>\n",
       "  </thead>\n",
       "  <tbody>\n",
       "    <tr>\n",
       "      <th rowspan=\"2\" valign=\"top\">1</th>\n",
       "      <th>female</th>\n",
       "      <td>0.968085</td>\n",
       "    </tr>\n",
       "    <tr>\n",
       "      <th>male</th>\n",
       "      <td>0.368852</td>\n",
       "    </tr>\n",
       "    <tr>\n",
       "      <th rowspan=\"2\" valign=\"top\">2</th>\n",
       "      <th>female</th>\n",
       "      <td>0.921053</td>\n",
       "    </tr>\n",
       "    <tr>\n",
       "      <th>male</th>\n",
       "      <td>0.157407</td>\n",
       "    </tr>\n",
       "    <tr>\n",
       "      <th rowspan=\"2\" valign=\"top\">3</th>\n",
       "      <th>female</th>\n",
       "      <td>0.500000</td>\n",
       "    </tr>\n",
       "    <tr>\n",
       "      <th>male</th>\n",
       "      <td>0.135447</td>\n",
       "    </tr>\n",
       "  </tbody>\n",
       "</table>\n",
       "</div>"
      ],
      "text/plain": [
       "               Survived\n",
       "Pclass Sex             \n",
       "1      female  0.968085\n",
       "       male    0.368852\n",
       "2      female  0.921053\n",
       "       male    0.157407\n",
       "3      female  0.500000\n",
       "       male    0.135447"
      ]
     },
     "execution_count": 23,
     "metadata": {},
     "output_type": "execute_result"
    }
   ],
   "source": [
    "train_df.groupby(['Pclass', 'Sex']).Survived.mean().to_frame()"
   ]
  },
  {
   "cell_type": "markdown",
   "id": "stylish-moses",
   "metadata": {
    "papermill": {
     "duration": 0.086779,
     "end_time": "2021-06-05T08:02:26.622961",
     "exception": false,
     "start_time": "2021-06-05T08:02:26.536182",
     "status": "completed"
    },
    "tags": []
   },
   "source": [
    "**Observation:**\n",
    "Irrespective of class, the most important factor when it comes to surviving was gender. Men in class 1 had a significantly higher chance of survival when they bought cass 1 tickets. Both feature gender and class should be kept as features as both provides insightful information that would help our model. \n",
    "* Survival rate females of Class 1: 96.8%\n",
    "* Survival rate females of Class 2: 92.1%\n",
    "* Survival rate females of Class 3: 50%\n",
    "* Survival rate males of Class 1: 36.8%"
   ]
  },
  {
   "cell_type": "markdown",
   "id": "infinite-kruger",
   "metadata": {
    "papermill": {
     "duration": 0.084669,
     "end_time": "2021-06-05T08:02:26.794371",
     "exception": false,
     "start_time": "2021-06-05T08:02:26.709702",
     "status": "completed"
    },
    "tags": []
   },
   "source": [
    "## 2.5 Analyze Feature Age"
   ]
  },
  {
   "cell_type": "code",
   "execution_count": 24,
   "id": "instructional-deployment",
   "metadata": {
    "execution": {
     "iopub.execute_input": "2021-06-05T08:02:26.972394Z",
     "iopub.status.busy": "2021-06-05T08:02:26.971706Z",
     "iopub.status.idle": "2021-06-05T08:02:26.975112Z",
     "shell.execute_reply": "2021-06-05T08:02:26.974609Z",
     "shell.execute_reply.started": "2021-06-05T06:56:14.492980Z"
    },
    "papermill": {
     "duration": 0.096047,
     "end_time": "2021-06-05T08:02:26.975250",
     "exception": false,
     "start_time": "2021-06-05T08:02:26.879203",
     "status": "completed"
    },
    "tags": []
   },
   "outputs": [],
   "source": [
    "def plot_distribution(dataset, feature, title, bins = 30, hist = True, fsize = (5,5)):\n",
    "    fig, ax = plt.subplots(figsize=fsize)\n",
    "    ax.set_title(title)\n",
    "    sns.distplot(train_df[feature], color='g', bins=bins, ax=ax)"
   ]
  },
  {
   "cell_type": "code",
   "execution_count": 25,
   "id": "altered-vault",
   "metadata": {
    "execution": {
     "iopub.execute_input": "2021-06-05T08:02:27.154924Z",
     "iopub.status.busy": "2021-06-05T08:02:27.154240Z",
     "iopub.status.idle": "2021-06-05T08:02:27.157386Z",
     "shell.execute_reply": "2021-06-05T08:02:27.156905Z",
     "shell.execute_reply.started": "2021-06-05T06:56:14.500045Z"
    },
    "papermill": {
     "duration": 0.095868,
     "end_time": "2021-06-05T08:02:27.157540",
     "exception": false,
     "start_time": "2021-06-05T08:02:27.061672",
     "status": "completed"
    },
    "tags": []
   },
   "outputs": [],
   "source": [
    "def plot_kernel_density_estimate_survivors(dataset, feature1, title, fsize = (5,5)):\n",
    "    fig, ax = plt.subplots(figsize=fsize)\n",
    "    ax.set_title(title)\n",
    "    sns.kdeplot(dataset[feature1].loc[train_df[\"Survived\"] ==1],\n",
    "               shade = True, ax = ax, label = 'Survived').set_xlabel(feature1)\n",
    "    sns.kdeplot(dataset[feature1].loc[train_df[\"Survived\"] == 0],\n",
    "               shade = True, ax=ax, label = 'Died')"
   ]
  },
  {
   "cell_type": "code",
   "execution_count": 26,
   "id": "normal-gasoline",
   "metadata": {
    "execution": {
     "iopub.execute_input": "2021-06-05T08:02:27.356862Z",
     "iopub.status.busy": "2021-06-05T08:02:27.356066Z",
     "iopub.status.idle": "2021-06-05T08:02:27.580142Z",
     "shell.execute_reply": "2021-06-05T08:02:27.579478Z",
     "shell.execute_reply.started": "2021-06-05T06:56:14.510796Z"
    },
    "papermill": {
     "duration": 0.337111,
     "end_time": "2021-06-05T08:02:27.580286",
     "exception": false,
     "start_time": "2021-06-05T08:02:27.243175",
     "status": "completed"
    },
    "tags": []
   },
   "outputs": [
    {
     "name": "stderr",
     "output_type": "stream",
     "text": [
      "/opt/conda/lib/python3.7/site-packages/seaborn/distributions.py:2557: FutureWarning: `distplot` is a deprecated function and will be removed in a future version. Please adapt your code to use either `displot` (a figure-level function with similar flexibility) or `histplot` (an axes-level function for histograms).\n",
      "  warnings.warn(msg, FutureWarning)\n"
     ]
    },
    {
     "data": {
      "image/png": "[encoded data removed]",
      "text/plain": [
       "<Figure size 360x360 with 1 Axes>"
      ]
     },
     "metadata": {
      "needs_background": "light"
     },
     "output_type": "display_data"
    }
   ],
   "source": [
    "plot_distribution(train_df, \"Age\", \"Age Distribution Passengers\")"
   ]
  },
  {
   "cell_type": "markdown",
   "id": "fatal-maryland",
   "metadata": {
    "papermill": {
     "duration": 0.087038,
     "end_time": "2021-06-05T08:02:27.754819",
     "exception": false,
     "start_time": "2021-06-05T08:02:27.667781",
     "status": "completed"
    },
    "tags": []
   },
   "source": [
    "**Observation**:\n",
    "Histogram shows a fairly normal distribution. KDE does not provide additional information except a raise in survivors at a very young age. We could however investigate age and sex together"
   ]
  },
  {
   "cell_type": "markdown",
   "id": "introductory-filename",
   "metadata": {
    "papermill": {
     "duration": 0.08862,
     "end_time": "2021-06-05T08:02:27.931397",
     "exception": false,
     "start_time": "2021-06-05T08:02:27.842777",
     "status": "completed"
    },
    "tags": []
   },
   "source": [
    "## 2.6 Analyze Feature Age & Sex together:"
   ]
  },
  {
   "cell_type": "code",
   "execution_count": 27,
   "id": "affiliated-welding",
   "metadata": {
    "execution": {
     "iopub.execute_input": "2021-06-05T08:02:28.115596Z",
     "iopub.status.busy": "2021-06-05T08:02:28.114366Z",
     "iopub.status.idle": "2021-06-05T08:02:28.119284Z",
     "shell.execute_reply": "2021-06-05T08:02:28.118484Z",
     "shell.execute_reply.started": "2021-06-05T06:56:14.726137Z"
    },
    "papermill": {
     "duration": 0.101466,
     "end_time": "2021-06-05T08:02:28.119457",
     "exception": false,
     "start_time": "2021-06-05T08:02:28.017991",
     "status": "completed"
    },
    "tags": []
   },
   "outputs": [],
   "source": [
    "def plot_swarm_survivors(dataset, feature1, feature2, title, fsize = (155)):\n",
    "    fig, ax = plt.subplots(figsize=(18,5))\n",
    "    ax.grid(True)\n",
    "    plt.xticks(list(range(0,100,2)))\n",
    "    sns.swarmplot(y=feature1, x=feature2, hue='Survived',data=train_df).set_title(title)\n"
   ]
  },
  {
   "cell_type": "code",
   "execution_count": 28,
   "id": "colored-librarian",
   "metadata": {
    "execution": {
     "iopub.execute_input": "2021-06-05T08:02:28.400488Z",
     "iopub.status.busy": "2021-06-05T08:02:28.399461Z",
     "iopub.status.idle": "2021-06-05T08:02:28.985800Z",
     "shell.execute_reply": "2021-06-05T08:02:28.985197Z",
     "shell.execute_reply.started": "2021-06-05T06:56:14.732148Z"
    },
    "papermill": {
     "duration": 0.776151,
     "end_time": "2021-06-05T08:02:28.985946",
     "exception": false,
     "start_time": "2021-06-05T08:02:28.209795",
     "status": "completed"
    },
    "tags": []
   },
   "outputs": [
    {
     "data": {
      "image/png": "[encoded data removed]",
      "text/plain": [
       "<Figure size 1296x360 with 1 Axes>"
      ]
     },
     "metadata": {
      "needs_background": "light"
     },
     "output_type": "display_data"
    }
   ],
   "source": [
    "plot_swarm_survivors(train_df, 'Sex', 'Age', 'Survivor Swarmplot for Age and Gender')"
   ]
  },
  {
   "cell_type": "markdown",
   "id": "shaped-badge",
   "metadata": {
    "papermill": {
     "duration": 0.116334,
     "end_time": "2021-06-05T08:02:29.193196",
     "exception": false,
     "start_time": "2021-06-05T08:02:29.076862",
     "status": "completed"
    },
    "tags": []
   },
   "source": [
    "**Observation**:\n",
    "Big portion of male survivors are between 0 - 12. Oldest man who is 80 years old survived."
   ]
  },
  {
   "cell_type": "markdown",
   "id": "maritime-broad",
   "metadata": {
    "papermill": {
     "duration": 0.087385,
     "end_time": "2021-06-05T08:02:29.373376",
     "exception": false,
     "start_time": "2021-06-05T08:02:29.285991",
     "status": "completed"
    },
    "tags": []
   },
   "source": [
    "## 2.7 Analyze Features Age and Pclass Together"
   ]
  },
  {
   "cell_type": "code",
   "execution_count": 29,
   "id": "productive-sweden",
   "metadata": {
    "execution": {
     "iopub.execute_input": "2021-06-05T08:02:29.660021Z",
     "iopub.status.busy": "2021-06-05T08:02:29.593695Z",
     "iopub.status.idle": "2021-06-05T08:02:30.315820Z",
     "shell.execute_reply": "2021-06-05T08:02:30.315262Z",
     "shell.execute_reply.started": "2021-06-05T06:56:15.398932Z"
    },
    "papermill": {
     "duration": 0.84991,
     "end_time": "2021-06-05T08:02:30.315976",
     "exception": false,
     "start_time": "2021-06-05T08:02:29.466066",
     "status": "completed"
    },
    "tags": []
   },
   "outputs": [
    {
     "data": {
      "image/png": "[encoded data removed]",
      "text/plain": [
       "<Figure size 1296x360 with 1 Axes>"
      ]
     },
     "metadata": {
      "needs_background": "light"
     },
     "output_type": "display_data"
    }
   ],
   "source": [
    "plot_swarm_survivors(train_df, 'Age', 'Pclass', 'Survivor Swarmplot for Age and Class')"
   ]
  },
  {
   "cell_type": "markdown",
   "id": "sexual-massachusetts",
   "metadata": {
    "papermill": {
     "duration": 0.09316,
     "end_time": "2021-06-05T08:02:30.500515",
     "exception": false,
     "start_time": "2021-06-05T08:02:30.407355",
     "status": "completed"
    },
    "tags": []
   },
   "source": [
    "**Observation**:Most of the survivors were in Class 1"
   ]
  },
  {
   "cell_type": "markdown",
   "id": "interracial-reserve",
   "metadata": {
    "papermill": {
     "duration": 0.091477,
     "end_time": "2021-06-05T08:02:30.683923",
     "exception": false,
     "start_time": "2021-06-05T08:02:30.592446",
     "status": "completed"
    },
    "tags": []
   },
   "source": [
    "## 2.8 Analyze Feature Fare"
   ]
  },
  {
   "cell_type": "code",
   "execution_count": 30,
   "id": "partial-harris",
   "metadata": {
    "execution": {
     "iopub.execute_input": "2021-06-05T08:02:30.874415Z",
     "iopub.status.busy": "2021-06-05T08:02:30.873641Z",
     "iopub.status.idle": "2021-06-05T08:02:30.883886Z",
     "shell.execute_reply": "2021-06-05T08:02:30.884357Z",
     "shell.execute_reply.started": "2021-06-05T06:56:16.179482Z"
    },
    "papermill": {
     "duration": 0.109659,
     "end_time": "2021-06-05T08:02:30.884536",
     "exception": false,
     "start_time": "2021-06-05T08:02:30.774877",
     "status": "completed"
    },
    "tags": []
   },
   "outputs": [
    {
     "data": {
      "text/plain": [
       "count    891.000000\n",
       "mean      32.204208\n",
       "std       49.693429\n",
       "min        0.000000\n",
       "25%        7.910400\n",
       "50%       14.454200\n",
       "75%       31.000000\n",
       "max      512.329200\n",
       "Name: Fare, dtype: float64"
      ]
     },
     "execution_count": 30,
     "metadata": {},
     "output_type": "execute_result"
    }
   ],
   "source": [
    "train_df.Fare.describe()"
   ]
  },
  {
   "cell_type": "code",
   "execution_count": 31,
   "id": "knowing-message",
   "metadata": {
    "execution": {
     "iopub.execute_input": "2021-06-05T08:02:31.071313Z",
     "iopub.status.busy": "2021-06-05T08:02:31.070342Z",
     "iopub.status.idle": "2021-06-05T08:02:31.291665Z",
     "shell.execute_reply": "2021-06-05T08:02:31.291006Z",
     "shell.execute_reply.started": "2021-06-05T06:56:16.190240Z"
    },
    "papermill": {
     "duration": 0.316385,
     "end_time": "2021-06-05T08:02:31.291811",
     "exception": false,
     "start_time": "2021-06-05T08:02:30.975426",
     "status": "completed"
    },
    "tags": []
   },
   "outputs": [
    {
     "name": "stderr",
     "output_type": "stream",
     "text": [
      "/opt/conda/lib/python3.7/site-packages/seaborn/distributions.py:2557: FutureWarning: `distplot` is a deprecated function and will be removed in a future version. Please adapt your code to use either `displot` (a figure-level function with similar flexibility) or `histplot` (an axes-level function for histograms).\n",
      "  warnings.warn(msg, FutureWarning)\n"
     ]
    },
    {
     "data": {
      "image/png": "[encoded data removed]",
      "text/plain": [
       "<Figure size 360x360 with 1 Axes>"
      ]
     },
     "metadata": {
      "needs_background": "light"
     },
     "output_type": "display_data"
    }
   ],
   "source": [
    "plot_distribution(train_df, 'Fare', 'Fare Distribution Passengers')"
   ]
  },
  {
   "cell_type": "markdown",
   "id": "median-construction",
   "metadata": {
    "papermill": {
     "duration": 0.094267,
     "end_time": "2021-06-05T08:02:31.477640",
     "exception": false,
     "start_time": "2021-06-05T08:02:31.383373",
     "status": "completed"
    },
    "tags": []
   },
   "source": [
    "**Observation**:\n",
    " * Fare does not follow a normal distribution and has a huge spike at the price range 0-100. \n",
    " * The distribution is skewed to the left with 75% of the fare paid under 31% and a max paid fare of 512$"
   ]
  },
  {
   "cell_type": "code",
   "execution_count": 32,
   "id": "grave-desperate",
   "metadata": {
    "execution": {
     "iopub.execute_input": "2021-06-05T08:02:31.673670Z",
     "iopub.status.busy": "2021-06-05T08:02:31.672684Z",
     "iopub.status.idle": "2021-06-05T08:02:31.675650Z",
     "shell.execute_reply": "2021-06-05T08:02:31.675006Z",
     "shell.execute_reply.started": "2021-06-05T06:56:16.391042Z"
    },
    "papermill": {
     "duration": 0.105091,
     "end_time": "2021-06-05T08:02:31.675789",
     "exception": false,
     "start_time": "2021-06-05T08:02:31.570698",
     "status": "completed"
    },
    "tags": []
   },
   "outputs": [],
   "source": [
    "def plot_quartiles(dataset, feature, title, categories):\n",
    "    fig, axarr = plt.subplots(figsize=(5,5))\n",
    "    fare_ranges = pd.qcut(dataset[feature], len(categories), labels = categories)\n",
    "    axarr.set_title(title)\n",
    "    sns.barplot(x=fare_ranges, y=dataset.Survived, ci=None, ax=axarr).set_ylabel('Survival rate')"
   ]
  },
  {
   "cell_type": "code",
   "execution_count": 33,
   "id": "attended-robinson",
   "metadata": {
    "execution": {
     "iopub.execute_input": "2021-06-05T08:02:31.884070Z",
     "iopub.status.busy": "2021-06-05T08:02:31.881891Z",
     "iopub.status.idle": "2021-06-05T08:02:32.004314Z",
     "shell.execute_reply": "2021-06-05T08:02:32.004799Z",
     "shell.execute_reply.started": "2021-06-05T06:56:16.398594Z"
    },
    "papermill": {
     "duration": 0.236213,
     "end_time": "2021-06-05T08:02:32.004979",
     "exception": false,
     "start_time": "2021-06-05T08:02:31.768766",
     "status": "completed"
    },
    "tags": []
   },
   "outputs": [
    {
     "data": {
      "image/png": "[encoded data removed]",
      "text/plain": [
       "<Figure size 360x360 with 1 Axes>"
      ]
     },
     "metadata": {
      "needs_background": "light"
     },
     "output_type": "display_data"
    }
   ],
   "source": [
    "categories = ['Cheap','Standard','Expensive','Luxury']\n",
    "plot_quartiles(train_df, 'Fare', 'Survival Rate by Fare Ranges/Categories', categories)"
   ]
  },
  {
   "cell_type": "markdown",
   "id": "united-nomination",
   "metadata": {
    "papermill": {
     "duration": 0.096483,
     "end_time": "2021-06-05T08:02:32.198835",
     "exception": false,
     "start_time": "2021-06-05T08:02:32.102352",
     "status": "completed"
    },
    "tags": []
   },
   "source": [
    "**Observation**:\n",
    "Likelihood of survival is definitely influenced by the fare price paid"
   ]
  },
  {
   "cell_type": "code",
   "execution_count": 34,
   "id": "contained-curtis",
   "metadata": {
    "execution": {
     "iopub.execute_input": "2021-06-05T08:02:32.392219Z",
     "iopub.status.busy": "2021-06-05T08:02:32.391531Z",
     "iopub.status.idle": "2021-06-05T08:02:37.576094Z",
     "shell.execute_reply": "2021-06-05T08:02:37.576676Z",
     "shell.execute_reply.started": "2021-06-05T06:56:16.536279Z"
    },
    "papermill": {
     "duration": 5.282357,
     "end_time": "2021-06-05T08:02:37.576872",
     "exception": false,
     "start_time": "2021-06-05T08:02:32.294515",
     "status": "completed"
    },
    "tags": []
   },
   "outputs": [
    {
     "name": "stderr",
     "output_type": "stream",
     "text": [
      "/opt/conda/lib/python3.7/site-packages/seaborn/categorical.py:1296: UserWarning: 45.8% of the points cannot be placed; you may want to decrease the size of the markers or use stripplot.\n",
      "  warnings.warn(msg, UserWarning)\n",
      "/opt/conda/lib/python3.7/site-packages/seaborn/categorical.py:1296: UserWarning: 16.2% of the points cannot be placed; you may want to decrease the size of the markers or use stripplot.\n",
      "  warnings.warn(msg, UserWarning)\n"
     ]
    },
    {
     "data": {
      "image/png": "[encoded data removed]",
      "text/plain": [
       "<Figure size 1296x360 with 1 Axes>"
      ]
     },
     "metadata": {
      "needs_background": "light"
     },
     "output_type": "display_data"
    }
   ],
   "source": [
    "plot_swarm_survivors(train_df, 'Fare', 'Sex', 'Survivor Swarmplor for Age and Gender')"
   ]
  },
  {
   "cell_type": "markdown",
   "id": "elegant-underground",
   "metadata": {
    "papermill": {
     "duration": 0.096927,
     "end_time": "2021-06-05T08:02:37.769414",
     "exception": false,
     "start_time": "2021-06-05T08:02:37.672487",
     "status": "completed"
    },
    "tags": []
   },
   "source": [
    "**Observation**:\n",
    "* Irrespective of gender, all passengers with fare above [500] survived\n",
    "* All male passengers that paid fare between [200-300] died"
   ]
  },
  {
   "cell_type": "code",
   "execution_count": 35,
   "id": "recent-budapest",
   "metadata": {
    "execution": {
     "iopub.execute_input": "2021-06-05T08:02:37.987494Z",
     "iopub.status.busy": "2021-06-05T08:02:37.986593Z",
     "iopub.status.idle": "2021-06-05T08:02:37.991403Z",
     "shell.execute_reply": "2021-06-05T08:02:37.990925Z",
     "shell.execute_reply.started": "2021-06-05T06:58:00.937612Z"
    },
    "papermill": {
     "duration": 0.125879,
     "end_time": "2021-06-05T08:02:37.991544",
     "exception": false,
     "start_time": "2021-06-05T08:02:37.865665",
     "status": "completed"
    },
    "tags": []
   },
   "outputs": [
    {
     "data": {
      "text/html": [
       "<div>\n",
       "<style scoped>\n",
       "    .dataframe tbody tr th:only-of-type {\n",
       "        vertical-align: middle;\n",
       "    }\n",
       "\n",
       "    .dataframe tbody tr th {\n",
       "        vertical-align: top;\n",
       "    }\n",
       "\n",
       "    .dataframe thead th {\n",
       "        text-align: right;\n",
       "    }\n",
       "</style>\n",
       "<table border=\"1\" class=\"dataframe\">\n",
       "  <thead>\n",
       "    <tr style=\"text-align: right;\">\n",
       "      <th></th>\n",
       "      <th>PassengerId</th>\n",
       "      <th>Survived</th>\n",
       "      <th>Pclass</th>\n",
       "      <th>Name</th>\n",
       "      <th>Sex</th>\n",
       "      <th>Age</th>\n",
       "      <th>SibSp</th>\n",
       "      <th>Parch</th>\n",
       "      <th>Ticket</th>\n",
       "      <th>Fare</th>\n",
       "      <th>Cabin</th>\n",
       "      <th>Embarked</th>\n",
       "    </tr>\n",
       "  </thead>\n",
       "  <tbody>\n",
       "    <tr>\n",
       "      <th>179</th>\n",
       "      <td>180</td>\n",
       "      <td>0</td>\n",
       "      <td>3</td>\n",
       "      <td>Leonard, Mr. Lionel</td>\n",
       "      <td>male</td>\n",
       "      <td>36.0</td>\n",
       "      <td>0</td>\n",
       "      <td>0</td>\n",
       "      <td>LINE</td>\n",
       "      <td>0.0</td>\n",
       "      <td>NaN</td>\n",
       "      <td>S</td>\n",
       "    </tr>\n",
       "    <tr>\n",
       "      <th>263</th>\n",
       "      <td>264</td>\n",
       "      <td>0</td>\n",
       "      <td>1</td>\n",
       "      <td>Harrison, Mr. William</td>\n",
       "      <td>male</td>\n",
       "      <td>40.0</td>\n",
       "      <td>0</td>\n",
       "      <td>0</td>\n",
       "      <td>112059</td>\n",
       "      <td>0.0</td>\n",
       "      <td>B94</td>\n",
       "      <td>S</td>\n",
       "    </tr>\n",
       "    <tr>\n",
       "      <th>271</th>\n",
       "      <td>272</td>\n",
       "      <td>1</td>\n",
       "      <td>3</td>\n",
       "      <td>Tornquist, Mr. William Henry</td>\n",
       "      <td>male</td>\n",
       "      <td>25.0</td>\n",
       "      <td>0</td>\n",
       "      <td>0</td>\n",
       "      <td>LINE</td>\n",
       "      <td>0.0</td>\n",
       "      <td>NaN</td>\n",
       "      <td>S</td>\n",
       "    </tr>\n",
       "    <tr>\n",
       "      <th>277</th>\n",
       "      <td>278</td>\n",
       "      <td>0</td>\n",
       "      <td>2</td>\n",
       "      <td>Parkes, Mr. Francis \"Frank\"</td>\n",
       "      <td>male</td>\n",
       "      <td>NaN</td>\n",
       "      <td>0</td>\n",
       "      <td>0</td>\n",
       "      <td>239853</td>\n",
       "      <td>0.0</td>\n",
       "      <td>NaN</td>\n",
       "      <td>S</td>\n",
       "    </tr>\n",
       "    <tr>\n",
       "      <th>302</th>\n",
       "      <td>303</td>\n",
       "      <td>0</td>\n",
       "      <td>3</td>\n",
       "      <td>Johnson, Mr. William Cahoone Jr</td>\n",
       "      <td>male</td>\n",
       "      <td>19.0</td>\n",
       "      <td>0</td>\n",
       "      <td>0</td>\n",
       "      <td>LINE</td>\n",
       "      <td>0.0</td>\n",
       "      <td>NaN</td>\n",
       "      <td>S</td>\n",
       "    </tr>\n",
       "    <tr>\n",
       "      <th>413</th>\n",
       "      <td>414</td>\n",
       "      <td>0</td>\n",
       "      <td>2</td>\n",
       "      <td>Cunningham, Mr. Alfred Fleming</td>\n",
       "      <td>male</td>\n",
       "      <td>NaN</td>\n",
       "      <td>0</td>\n",
       "      <td>0</td>\n",
       "      <td>239853</td>\n",
       "      <td>0.0</td>\n",
       "      <td>NaN</td>\n",
       "      <td>S</td>\n",
       "    </tr>\n",
       "    <tr>\n",
       "      <th>466</th>\n",
       "      <td>467</td>\n",
       "      <td>0</td>\n",
       "      <td>2</td>\n",
       "      <td>Campbell, Mr. William</td>\n",
       "      <td>male</td>\n",
       "      <td>NaN</td>\n",
       "      <td>0</td>\n",
       "      <td>0</td>\n",
       "      <td>239853</td>\n",
       "      <td>0.0</td>\n",
       "      <td>NaN</td>\n",
       "      <td>S</td>\n",
       "    </tr>\n",
       "    <tr>\n",
       "      <th>481</th>\n",
       "      <td>482</td>\n",
       "      <td>0</td>\n",
       "      <td>2</td>\n",
       "      <td>Frost, Mr. Anthony Wood \"Archie\"</td>\n",
       "      <td>male</td>\n",
       "      <td>NaN</td>\n",
       "      <td>0</td>\n",
       "      <td>0</td>\n",
       "      <td>239854</td>\n",
       "      <td>0.0</td>\n",
       "      <td>NaN</td>\n",
       "      <td>S</td>\n",
       "    </tr>\n",
       "    <tr>\n",
       "      <th>597</th>\n",
       "      <td>598</td>\n",
       "      <td>0</td>\n",
       "      <td>3</td>\n",
       "      <td>Johnson, Mr. Alfred</td>\n",
       "      <td>male</td>\n",
       "      <td>49.0</td>\n",
       "      <td>0</td>\n",
       "      <td>0</td>\n",
       "      <td>LINE</td>\n",
       "      <td>0.0</td>\n",
       "      <td>NaN</td>\n",
       "      <td>S</td>\n",
       "    </tr>\n",
       "    <tr>\n",
       "      <th>633</th>\n",
       "      <td>634</td>\n",
       "      <td>0</td>\n",
       "      <td>1</td>\n",
       "      <td>Parr, Mr. William Henry Marsh</td>\n",
       "      <td>male</td>\n",
       "      <td>NaN</td>\n",
       "      <td>0</td>\n",
       "      <td>0</td>\n",
       "      <td>112052</td>\n",
       "      <td>0.0</td>\n",
       "      <td>NaN</td>\n",
       "      <td>S</td>\n",
       "    </tr>\n",
       "    <tr>\n",
       "      <th>674</th>\n",
       "      <td>675</td>\n",
       "      <td>0</td>\n",
       "      <td>2</td>\n",
       "      <td>Watson, Mr. Ennis Hastings</td>\n",
       "      <td>male</td>\n",
       "      <td>NaN</td>\n",
       "      <td>0</td>\n",
       "      <td>0</td>\n",
       "      <td>239856</td>\n",
       "      <td>0.0</td>\n",
       "      <td>NaN</td>\n",
       "      <td>S</td>\n",
       "    </tr>\n",
       "    <tr>\n",
       "      <th>732</th>\n",
       "      <td>733</td>\n",
       "      <td>0</td>\n",
       "      <td>2</td>\n",
       "      <td>Knight, Mr. Robert J</td>\n",
       "      <td>male</td>\n",
       "      <td>NaN</td>\n",
       "      <td>0</td>\n",
       "      <td>0</td>\n",
       "      <td>239855</td>\n",
       "      <td>0.0</td>\n",
       "      <td>NaN</td>\n",
       "      <td>S</td>\n",
       "    </tr>\n",
       "    <tr>\n",
       "      <th>806</th>\n",
       "      <td>807</td>\n",
       "      <td>0</td>\n",
       "      <td>1</td>\n",
       "      <td>Andrews, Mr. Thomas Jr</td>\n",
       "      <td>male</td>\n",
       "      <td>39.0</td>\n",
       "      <td>0</td>\n",
       "      <td>0</td>\n",
       "      <td>112050</td>\n",
       "      <td>0.0</td>\n",
       "      <td>A36</td>\n",
       "      <td>S</td>\n",
       "    </tr>\n",
       "    <tr>\n",
       "      <th>815</th>\n",
       "      <td>816</td>\n",
       "      <td>0</td>\n",
       "      <td>1</td>\n",
       "      <td>Fry, Mr. Richard</td>\n",
       "      <td>male</td>\n",
       "      <td>NaN</td>\n",
       "      <td>0</td>\n",
       "      <td>0</td>\n",
       "      <td>112058</td>\n",
       "      <td>0.0</td>\n",
       "      <td>B102</td>\n",
       "      <td>S</td>\n",
       "    </tr>\n",
       "    <tr>\n",
       "      <th>822</th>\n",
       "      <td>823</td>\n",
       "      <td>0</td>\n",
       "      <td>1</td>\n",
       "      <td>Reuchlin, Jonkheer. John George</td>\n",
       "      <td>male</td>\n",
       "      <td>38.0</td>\n",
       "      <td>0</td>\n",
       "      <td>0</td>\n",
       "      <td>19972</td>\n",
       "      <td>0.0</td>\n",
       "      <td>NaN</td>\n",
       "      <td>S</td>\n",
       "    </tr>\n",
       "  </tbody>\n",
       "</table>\n",
       "</div>"
      ],
      "text/plain": [
       "     PassengerId  Survived  Pclass                              Name   Sex  \\\n",
       "179          180         0       3               Leonard, Mr. Lionel  male   \n",
       "263          264         0       1             Harrison, Mr. William  male   \n",
       "271          272         1       3      Tornquist, Mr. William Henry  male   \n",
       "277          278         0       2       Parkes, Mr. Francis \"Frank\"  male   \n",
       "302          303         0       3   Johnson, Mr. William Cahoone Jr  male   \n",
       "413          414         0       2    Cunningham, Mr. Alfred Fleming  male   \n",
       "466          467         0       2             Campbell, Mr. William  male   \n",
       "481          482         0       2  Frost, Mr. Anthony Wood \"Archie\"  male   \n",
       "597          598         0       3               Johnson, Mr. Alfred  male   \n",
       "633          634         0       1     Parr, Mr. William Henry Marsh  male   \n",
       "674          675         0       2        Watson, Mr. Ennis Hastings  male   \n",
       "732          733         0       2              Knight, Mr. Robert J  male   \n",
       "806          807         0       1            Andrews, Mr. Thomas Jr  male   \n",
       "815          816         0       1                  Fry, Mr. Richard  male   \n",
       "822          823         0       1   Reuchlin, Jonkheer. John George  male   \n",
       "\n",
       "      Age  SibSp  Parch  Ticket  Fare Cabin Embarked  \n",
       "179  36.0      0      0    LINE   0.0   NaN        S  \n",
       "263  40.0      0      0  112059   0.0   B94        S  \n",
       "271  25.0      0      0    LINE   0.0   NaN        S  \n",
       "277   NaN      0      0  239853   0.0   NaN        S  \n",
       "302  19.0      0      0    LINE   0.0   NaN        S  \n",
       "413   NaN      0      0  239853   0.0   NaN        S  \n",
       "466   NaN      0      0  239853   0.0   NaN        S  \n",
       "481   NaN      0      0  239854   0.0   NaN        S  \n",
       "597  49.0      0      0    LINE   0.0   NaN        S  \n",
       "633   NaN      0      0  112052   0.0   NaN        S  \n",
       "674   NaN      0      0  239856   0.0   NaN        S  \n",
       "732   NaN      0      0  239855   0.0   NaN        S  \n",
       "806  39.0      0      0  112050   0.0   A36        S  \n",
       "815   NaN      0      0  112058   0.0  B102        S  \n",
       "822  38.0      0      0   19972   0.0   NaN        S  "
      ]
     },
     "execution_count": 35,
     "metadata": {},
     "output_type": "execute_result"
    }
   ],
   "source": [
    "train_df.loc[train_df.Fare==0]"
   ]
  },
  {
   "cell_type": "code",
   "execution_count": 36,
   "id": "cathedral-contamination",
   "metadata": {
    "execution": {
     "iopub.execute_input": "2021-06-05T08:02:38.242057Z",
     "iopub.status.busy": "2021-06-05T08:02:38.241346Z",
     "iopub.status.idle": "2021-06-05T08:02:38.244761Z",
     "shell.execute_reply": "2021-06-05T08:02:38.244170Z",
     "shell.execute_reply.started": "2021-06-05T06:58:31.213526Z"
    },
    "papermill": {
     "duration": 0.105749,
     "end_time": "2021-06-05T08:02:38.244901",
     "exception": false,
     "start_time": "2021-06-05T08:02:38.139152",
     "status": "completed"
    },
    "tags": []
   },
   "outputs": [
    {
     "data": {
      "text/plain": [
       "15"
      ]
     },
     "execution_count": 36,
     "metadata": {},
     "output_type": "execute_result"
    }
   ],
   "source": [
    "len(train_df.loc[train_df.Fare==0])"
   ]
  },
  {
   "cell_type": "markdown",
   "id": "bulgarian-burning",
   "metadata": {
    "papermill": {
     "duration": 0.098211,
     "end_time": "2021-06-05T08:02:38.439705",
     "exception": false,
     "start_time": "2021-06-05T08:02:38.341494",
     "status": "completed"
    },
    "tags": []
   },
   "source": [
    "**Observation**: 15 passengers paid no fare. We will replace the values with 0 for nan for now."
   ]
  },
  {
   "cell_type": "code",
   "execution_count": 37,
   "id": "entire-lunch",
   "metadata": {
    "execution": {
     "iopub.execute_input": "2021-06-05T08:02:38.645716Z",
     "iopub.status.busy": "2021-06-05T08:02:38.645041Z",
     "iopub.status.idle": "2021-06-05T08:02:38.651420Z",
     "shell.execute_reply": "2021-06-05T08:02:38.651940Z",
     "shell.execute_reply.started": "2021-06-05T07:00:21.212097Z"
    },
    "papermill": {
     "duration": 0.11007,
     "end_time": "2021-06-05T08:02:38.652126",
     "exception": false,
     "start_time": "2021-06-05T08:02:38.542056",
     "status": "completed"
    },
    "tags": []
   },
   "outputs": [],
   "source": [
    "train_df.loc[train_df['Fare'] == 0, 'Fare'] = np.NaN\n",
    "test_df.loc[train_df['Fare'] == 0, 'Fare'] = np.NaN"
   ]
  },
  {
   "cell_type": "markdown",
   "id": "square-medicaid",
   "metadata": {
    "papermill": {
     "duration": 0.102342,
     "end_time": "2021-06-05T08:02:38.852296",
     "exception": false,
     "start_time": "2021-06-05T08:02:38.749954",
     "status": "completed"
    },
    "tags": []
   },
   "source": [
    "## 2.9 Analyze Feature Embarked"
   ]
  },
  {
   "cell_type": "code",
   "execution_count": 38,
   "id": "available-arena",
   "metadata": {
    "execution": {
     "iopub.execute_input": "2021-06-05T08:02:39.054447Z",
     "iopub.status.busy": "2021-06-05T08:02:39.053476Z",
     "iopub.status.idle": "2021-06-05T08:02:39.059889Z",
     "shell.execute_reply": "2021-06-05T08:02:39.060437Z",
     "shell.execute_reply.started": "2021-06-05T07:03:21.767292Z"
    },
    "papermill": {
     "duration": 0.108665,
     "end_time": "2021-06-05T08:02:39.060628",
     "exception": false,
     "start_time": "2021-06-05T08:02:38.951963",
     "status": "completed"
    },
    "tags": []
   },
   "outputs": [],
   "source": [
    "def show_countplot(dataset, feature, title, fsize = (5,5)):\n",
    "    fig, ax = plt.subplots(figsize = fsize)\n",
    "    sns.countplot(dataset[feature], ax=ax).set_title(title)\n",
    "    \n",
    "def show_compare_countplot(dataset, feature1, feature2, title):\n",
    "    fig, ax = plt.subplots(figsize=(5,5))\n",
    "    p = sns.countplot(x = feature1, hue = feature2, data = dataset, ax=ax).set_title(title)"
   ]
  },
  {
   "cell_type": "code",
   "execution_count": 39,
   "id": "interracial-advertising",
   "metadata": {
    "execution": {
     "iopub.execute_input": "2021-06-05T08:02:39.276998Z",
     "iopub.status.busy": "2021-06-05T08:02:39.265214Z",
     "iopub.status.idle": "2021-06-05T08:02:39.423672Z",
     "shell.execute_reply": "2021-06-05T08:02:39.423019Z",
     "shell.execute_reply.started": "2021-06-05T07:03:46.685733Z"
    },
    "papermill": {
     "duration": 0.263159,
     "end_time": "2021-06-05T08:02:39.423812",
     "exception": false,
     "start_time": "2021-06-05T08:02:39.160653",
     "status": "completed"
    },
    "tags": []
   },
   "outputs": [
    {
     "data": {
      "image/png": "[encoded data removed]",
      "text/plain": [
       "<Figure size 360x360 with 1 Axes>"
      ]
     },
     "metadata": {
      "needs_background": "light"
     },
     "output_type": "display_data"
    }
   ],
   "source": [
    "bar_chart_stacked(train_df, 'Embarked')"
   ]
  },
  {
   "cell_type": "code",
   "execution_count": 40,
   "id": "received-boring",
   "metadata": {
    "execution": {
     "iopub.execute_input": "2021-06-05T08:02:39.650988Z",
     "iopub.status.busy": "2021-06-05T08:02:39.650184Z",
     "iopub.status.idle": "2021-06-05T08:02:39.760068Z",
     "shell.execute_reply": "2021-06-05T08:02:39.759204Z",
     "shell.execute_reply.started": "2021-06-05T07:04:23.845133Z"
    },
    "papermill": {
     "duration": 0.235274,
     "end_time": "2021-06-05T08:02:39.760246",
     "exception": false,
     "start_time": "2021-06-05T08:02:39.524972",
     "status": "completed"
    },
    "tags": []
   },
   "outputs": [
    {
     "name": "stderr",
     "output_type": "stream",
     "text": [
      "/opt/conda/lib/python3.7/site-packages/seaborn/_decorators.py:43: FutureWarning: Pass the following variable as a keyword arg: x. From version 0.12, the only valid positional argument will be `data`, and passing other arguments without an explicit keyword will result in an error or misinterpretation.\n",
      "  FutureWarning\n"
     ]
    },
    {
     "data": {
      "image/png": "[encoded data removed]",
      "text/plain": [
       "<Figure size 360x360 with 1 Axes>"
      ]
     },
     "metadata": {
      "needs_background": "light"
     },
     "output_type": "display_data"
    }
   ],
   "source": [
    "show_countplot(train_df, \"Embarked\", 'Passengers count by boarding point')"
   ]
  },
  {
   "cell_type": "code",
   "execution_count": 41,
   "id": "signal-confirmation",
   "metadata": {
    "execution": {
     "iopub.execute_input": "2021-06-05T08:02:39.974512Z",
     "iopub.status.busy": "2021-06-05T08:02:39.973546Z",
     "iopub.status.idle": "2021-06-05T08:02:39.978238Z",
     "shell.execute_reply": "2021-06-05T08:02:39.978935Z",
     "shell.execute_reply.started": "2021-06-05T07:04:48.647079Z"
    },
    "papermill": {
     "duration": 0.115449,
     "end_time": "2021-06-05T08:02:39.979111",
     "exception": false,
     "start_time": "2021-06-05T08:02:39.863662",
     "status": "completed"
    },
    "tags": []
   },
   "outputs": [
    {
     "data": {
      "text/html": [
       "<div>\n",
       "<style scoped>\n",
       "    .dataframe tbody tr th:only-of-type {\n",
       "        vertical-align: middle;\n",
       "    }\n",
       "\n",
       "    .dataframe tbody tr th {\n",
       "        vertical-align: top;\n",
       "    }\n",
       "\n",
       "    .dataframe thead th {\n",
       "        text-align: right;\n",
       "    }\n",
       "</style>\n",
       "<table border=\"1\" class=\"dataframe\">\n",
       "  <thead>\n",
       "    <tr style=\"text-align: right;\">\n",
       "      <th></th>\n",
       "      <th>Embarked</th>\n",
       "    </tr>\n",
       "  </thead>\n",
       "  <tbody>\n",
       "    <tr>\n",
       "      <th>S</th>\n",
       "      <td>644</td>\n",
       "    </tr>\n",
       "    <tr>\n",
       "      <th>C</th>\n",
       "      <td>168</td>\n",
       "    </tr>\n",
       "    <tr>\n",
       "      <th>Q</th>\n",
       "      <td>77</td>\n",
       "    </tr>\n",
       "  </tbody>\n",
       "</table>\n",
       "</div>"
      ],
      "text/plain": [
       "   Embarked\n",
       "S       644\n",
       "C       168\n",
       "Q        77"
      ]
     },
     "execution_count": 41,
     "metadata": {},
     "output_type": "execute_result"
    }
   ],
   "source": [
    "train_df['Embarked'].value_counts().to_frame()"
   ]
  },
  {
   "cell_type": "code",
   "execution_count": 42,
   "id": "outer-racing",
   "metadata": {
    "execution": {
     "iopub.execute_input": "2021-06-05T08:02:40.225728Z",
     "iopub.status.busy": "2021-06-05T08:02:40.225039Z",
     "iopub.status.idle": "2021-06-05T08:02:40.381640Z",
     "shell.execute_reply": "2021-06-05T08:02:40.381114Z",
     "shell.execute_reply.started": "2021-06-05T07:05:37.712539Z"
    },
    "papermill": {
     "duration": 0.303514,
     "end_time": "2021-06-05T08:02:40.381793",
     "exception": false,
     "start_time": "2021-06-05T08:02:40.078279",
     "status": "completed"
    },
    "tags": []
   },
   "outputs": [
    {
     "data": {
      "image/png": "[encoded data removed]",
      "text/plain": [
       "<Figure size 360x360 with 1 Axes>"
      ]
     },
     "metadata": {
      "needs_background": "light"
     },
     "output_type": "display_data"
    }
   ],
   "source": [
    "show_compare_countplot(train_df, \"Embarked\", \"Survived\", \"Survivor count by place of embarktion\")"
   ]
  },
  {
   "cell_type": "code",
   "execution_count": 43,
   "id": "crude-event",
   "metadata": {
    "execution": {
     "iopub.execute_input": "2021-06-05T08:02:40.601225Z",
     "iopub.status.busy": "2021-06-05T08:02:40.597964Z",
     "iopub.status.idle": "2021-06-05T08:02:40.615381Z",
     "shell.execute_reply": "2021-06-05T08:02:40.614738Z",
     "shell.execute_reply.started": "2021-06-05T07:07:18.133899Z"
    },
    "papermill": {
     "duration": 0.130449,
     "end_time": "2021-06-05T08:02:40.615516",
     "exception": false,
     "start_time": "2021-06-05T08:02:40.485067",
     "status": "completed"
    },
    "tags": []
   },
   "outputs": [
    {
     "data": {
      "text/html": [
       "<div>\n",
       "<style scoped>\n",
       "    .dataframe tbody tr th:only-of-type {\n",
       "        vertical-align: middle;\n",
       "    }\n",
       "\n",
       "    .dataframe tbody tr th {\n",
       "        vertical-align: top;\n",
       "    }\n",
       "\n",
       "    .dataframe thead th {\n",
       "        text-align: right;\n",
       "    }\n",
       "</style>\n",
       "<table border=\"1\" class=\"dataframe\">\n",
       "  <thead>\n",
       "    <tr style=\"text-align: right;\">\n",
       "      <th>Embarked</th>\n",
       "      <th>C</th>\n",
       "      <th>Q</th>\n",
       "      <th>S</th>\n",
       "    </tr>\n",
       "    <tr>\n",
       "      <th>Survived</th>\n",
       "      <th></th>\n",
       "      <th></th>\n",
       "      <th></th>\n",
       "    </tr>\n",
       "  </thead>\n",
       "  <tbody>\n",
       "    <tr>\n",
       "      <th>0</th>\n",
       "      <td>75</td>\n",
       "      <td>47</td>\n",
       "      <td>427</td>\n",
       "    </tr>\n",
       "    <tr>\n",
       "      <th>1</th>\n",
       "      <td>93</td>\n",
       "      <td>30</td>\n",
       "      <td>217</td>\n",
       "    </tr>\n",
       "  </tbody>\n",
       "</table>\n",
       "</div>"
      ],
      "text/plain": [
       "Embarked   C   Q    S\n",
       "Survived             \n",
       "0         75  47  427\n",
       "1         93  30  217"
      ]
     },
     "execution_count": 43,
     "metadata": {},
     "output_type": "execute_result"
    }
   ],
   "source": [
    "pd.pivot_table(train_df, index = 'Survived', columns = 'Embarked', values = 'Ticket', aggfunc = 'count')"
   ]
  },
  {
   "cell_type": "code",
   "execution_count": 44,
   "id": "according-december",
   "metadata": {
    "execution": {
     "iopub.execute_input": "2021-06-05T08:02:40.836904Z",
     "iopub.status.busy": "2021-06-05T08:02:40.835864Z",
     "iopub.status.idle": "2021-06-05T08:02:40.841221Z",
     "shell.execute_reply": "2021-06-05T08:02:40.840721Z",
     "shell.execute_reply.started": "2021-06-05T07:07:51.486571Z"
    },
    "papermill": {
     "duration": 0.120002,
     "end_time": "2021-06-05T08:02:40.841366",
     "exception": false,
     "start_time": "2021-06-05T08:02:40.721364",
     "status": "completed"
    },
    "tags": []
   },
   "outputs": [
    {
     "data": {
      "text/html": [
       "<div>\n",
       "<style scoped>\n",
       "    .dataframe tbody tr th:only-of-type {\n",
       "        vertical-align: middle;\n",
       "    }\n",
       "\n",
       "    .dataframe tbody tr th {\n",
       "        vertical-align: top;\n",
       "    }\n",
       "\n",
       "    .dataframe thead th {\n",
       "        text-align: right;\n",
       "    }\n",
       "</style>\n",
       "<table border=\"1\" class=\"dataframe\">\n",
       "  <thead>\n",
       "    <tr style=\"text-align: right;\">\n",
       "      <th></th>\n",
       "      <th>Survived</th>\n",
       "    </tr>\n",
       "    <tr>\n",
       "      <th>Embarked</th>\n",
       "      <th></th>\n",
       "    </tr>\n",
       "  </thead>\n",
       "  <tbody>\n",
       "    <tr>\n",
       "      <th>C</th>\n",
       "      <td>0.553571</td>\n",
       "    </tr>\n",
       "    <tr>\n",
       "      <th>Q</th>\n",
       "      <td>0.389610</td>\n",
       "    </tr>\n",
       "    <tr>\n",
       "      <th>S</th>\n",
       "      <td>0.336957</td>\n",
       "    </tr>\n",
       "  </tbody>\n",
       "</table>\n",
       "</div>"
      ],
      "text/plain": [
       "          Survived\n",
       "Embarked          \n",
       "C         0.553571\n",
       "Q         0.389610\n",
       "S         0.336957"
      ]
     },
     "execution_count": 44,
     "metadata": {},
     "output_type": "execute_result"
    }
   ],
   "source": [
    "train_df.groupby(['Embarked']).Survived.mean().to_frame()"
   ]
  },
  {
   "cell_type": "markdown",
   "id": "initial-hands",
   "metadata": {
    "papermill": {
     "duration": 0.102635,
     "end_time": "2021-06-05T08:02:41.049342",
     "exception": false,
     "start_time": "2021-06-05T08:02:40.946707",
     "status": "completed"
    },
    "tags": []
   },
   "source": [
    "**Observation:**\n",
    "There are three possible values for the Embarked feature:\n",
    "* Southampton, Cherbourg and Queenstown\n",
    "\n",
    "Majority of passengers embarked from Southampton, but only 33% survived.\n",
    "\n",
    "The highest rate of survival is for people embarked from Cherbourg with 55%. "
   ]
  },
  {
   "cell_type": "markdown",
   "id": "interracial-georgia",
   "metadata": {
    "papermill": {
     "duration": 0.101375,
     "end_time": "2021-06-05T08:02:41.253784",
     "exception": false,
     "start_time": "2021-06-05T08:02:41.152409",
     "status": "completed"
    },
    "tags": []
   },
   "source": [
    "## 2.10 Analyze Features Embarked and Pclass Together"
   ]
  },
  {
   "cell_type": "code",
   "execution_count": 45,
   "id": "comparable-provider",
   "metadata": {
    "execution": {
     "iopub.execute_input": "2021-06-05T08:02:41.464079Z",
     "iopub.status.busy": "2021-06-05T08:02:41.463424Z",
     "iopub.status.idle": "2021-06-05T08:02:41.788041Z",
     "shell.execute_reply": "2021-06-05T08:02:41.788545Z",
     "shell.execute_reply.started": "2021-06-05T07:11:25.921095Z"
    },
    "papermill": {
     "duration": 0.434245,
     "end_time": "2021-06-05T08:02:41.788741",
     "exception": false,
     "start_time": "2021-06-05T08:02:41.354496",
     "status": "completed"
    },
    "tags": []
   },
   "outputs": [
    {
     "data": {
      "image/png": "[encoded data removed]",
      "text/plain": [
       "<Figure size 360x360 with 1 Axes>"
      ]
     },
     "metadata": {
      "needs_background": "light"
     },
     "output_type": "display_data"
    }
   ],
   "source": [
    "show_compare_countplot(train_df, \"Embarked\", \"Pclass\", \"Passenger count by place of embark and class\")"
   ]
  },
  {
   "cell_type": "code",
   "execution_count": 46,
   "id": "indie-battlefield",
   "metadata": {
    "execution": {
     "iopub.execute_input": "2021-06-05T08:02:41.995886Z",
     "iopub.status.busy": "2021-06-05T08:02:41.995015Z",
     "iopub.status.idle": "2021-06-05T08:02:42.007535Z",
     "shell.execute_reply": "2021-06-05T08:02:42.008104Z",
     "shell.execute_reply.started": "2021-06-05T07:12:05.050235Z"
    },
    "papermill": {
     "duration": 0.116921,
     "end_time": "2021-06-05T08:02:42.008296",
     "exception": false,
     "start_time": "2021-06-05T08:02:41.891375",
     "status": "completed"
    },
    "tags": []
   },
   "outputs": [
    {
     "data": {
      "text/html": [
       "<div>\n",
       "<style scoped>\n",
       "    .dataframe tbody tr th:only-of-type {\n",
       "        vertical-align: middle;\n",
       "    }\n",
       "\n",
       "    .dataframe tbody tr th {\n",
       "        vertical-align: top;\n",
       "    }\n",
       "\n",
       "    .dataframe thead th {\n",
       "        text-align: right;\n",
       "    }\n",
       "</style>\n",
       "<table border=\"1\" class=\"dataframe\">\n",
       "  <thead>\n",
       "    <tr style=\"text-align: right;\">\n",
       "      <th></th>\n",
       "      <th></th>\n",
       "      <th>Survived</th>\n",
       "    </tr>\n",
       "    <tr>\n",
       "      <th>Embarked</th>\n",
       "      <th>Pclass</th>\n",
       "      <th></th>\n",
       "    </tr>\n",
       "  </thead>\n",
       "  <tbody>\n",
       "    <tr>\n",
       "      <th rowspan=\"3\" valign=\"top\">C</th>\n",
       "      <th>1</th>\n",
       "      <td>59</td>\n",
       "    </tr>\n",
       "    <tr>\n",
       "      <th>2</th>\n",
       "      <td>9</td>\n",
       "    </tr>\n",
       "    <tr>\n",
       "      <th>3</th>\n",
       "      <td>25</td>\n",
       "    </tr>\n",
       "    <tr>\n",
       "      <th rowspan=\"3\" valign=\"top\">Q</th>\n",
       "      <th>1</th>\n",
       "      <td>1</td>\n",
       "    </tr>\n",
       "    <tr>\n",
       "      <th>2</th>\n",
       "      <td>2</td>\n",
       "    </tr>\n",
       "    <tr>\n",
       "      <th>3</th>\n",
       "      <td>27</td>\n",
       "    </tr>\n",
       "    <tr>\n",
       "      <th rowspan=\"3\" valign=\"top\">S</th>\n",
       "      <th>1</th>\n",
       "      <td>74</td>\n",
       "    </tr>\n",
       "    <tr>\n",
       "      <th>2</th>\n",
       "      <td>76</td>\n",
       "    </tr>\n",
       "    <tr>\n",
       "      <th>3</th>\n",
       "      <td>67</td>\n",
       "    </tr>\n",
       "  </tbody>\n",
       "</table>\n",
       "</div>"
      ],
      "text/plain": [
       "                 Survived\n",
       "Embarked Pclass          \n",
       "C        1             59\n",
       "         2              9\n",
       "         3             25\n",
       "Q        1              1\n",
       "         2              2\n",
       "         3             27\n",
       "S        1             74\n",
       "         2             76\n",
       "         3             67"
      ]
     },
     "execution_count": 46,
     "metadata": {},
     "output_type": "execute_result"
    }
   ],
   "source": [
    "train_df.groupby(['Embarked', 'Pclass']).Survived.sum().to_frame()"
   ]
  },
  {
   "cell_type": "markdown",
   "id": "separated-penetration",
   "metadata": {
    "papermill": {
     "duration": 0.102538,
     "end_time": "2021-06-05T08:02:42.215391",
     "exception": false,
     "start_time": "2021-06-05T08:02:42.112853",
     "status": "completed"
    },
    "tags": []
   },
   "source": [
    "**Observation:**\n",
    "* Majority embarked at Cherbourg were class 1 passengers\n"
   ]
  },
  {
   "cell_type": "markdown",
   "id": "identical-biology",
   "metadata": {
    "papermill": {
     "duration": 0.104208,
     "end_time": "2021-06-05T08:02:42.424295",
     "exception": false,
     "start_time": "2021-06-05T08:02:42.320087",
     "status": "completed"
    },
    "tags": []
   },
   "source": [
    "# 3. Feature Engineering"
   ]
  },
  {
   "cell_type": "code",
   "execution_count": 47,
   "id": "settled-christopher",
   "metadata": {
    "execution": {
     "iopub.execute_input": "2021-06-05T08:02:42.635941Z",
     "iopub.status.busy": "2021-06-05T08:02:42.635158Z",
     "iopub.status.idle": "2021-06-05T08:02:42.647721Z",
     "shell.execute_reply": "2021-06-05T08:02:42.648347Z",
     "shell.execute_reply.started": "2021-06-05T07:15:12.155476Z"
    },
    "papermill": {
     "duration": 0.121203,
     "end_time": "2021-06-05T08:02:42.648542",
     "exception": false,
     "start_time": "2021-06-05T08:02:42.527339",
     "status": "completed"
    },
    "tags": []
   },
   "outputs": [
    {
     "data": {
      "text/plain": [
       "array(['Braund, Mr. Owen Harris',\n",
       "       'Cumings, Mrs. John Bradley (Florence Briggs Thayer)',\n",
       "       'Heikkinen, Miss. Laina',\n",
       "       'Futrelle, Mrs. Jacques Heath (Lily May Peel)',\n",
       "       'Allen, Mr. William Henry', 'Moran, Mr. James',\n",
       "       'McCarthy, Mr. Timothy J', 'Palsson, Master. Gosta Leonard',\n",
       "       'Johnson, Mrs. Oscar W (Elisabeth Vilhelmina Berg)',\n",
       "       'Nasser, Mrs. Nicholas (Adele Achem)',\n",
       "       'Sandstrom, Miss. Marguerite Rut', 'Bonnell, Miss. Elizabeth',\n",
       "       'Saundercock, Mr. William Henry', 'Andersson, Mr. Anders Johan',\n",
       "       'Vestrom, Miss. Hulda Amanda Adolfina',\n",
       "       'Hewlett, Mrs. (Mary D Kingcome) ', 'Rice, Master. Eugene',\n",
       "       'Williams, Mr. Charles Eugene',\n",
       "       'Vander Planke, Mrs. Julius (Emelia Maria Vandemoortele)',\n",
       "       'Masselmani, Mrs. Fatima', 'Fynney, Mr. Joseph J',\n",
       "       'Beesley, Mr. Lawrence', 'McGowan, Miss. Anna \"Annie\"',\n",
       "       'Sloper, Mr. William Thompson', 'Palsson, Miss. Torborg Danira',\n",
       "       'Asplund, Mrs. Carl Oscar (Selma Augusta Emilia Johansson)',\n",
       "       'Emir, Mr. Farred Chehab', 'Fortune, Mr. Charles Alexander',\n",
       "       'O\\'Dwyer, Miss. Ellen \"Nellie\"', 'Todoroff, Mr. Lalio',\n",
       "       'Uruchurtu, Don. Manuel E',\n",
       "       'Spencer, Mrs. William Augustus (Marie Eugenie)',\n",
       "       'Glynn, Miss. Mary Agatha', 'Wheadon, Mr. Edward H',\n",
       "       'Meyer, Mr. Edgar Joseph', 'Holverson, Mr. Alexander Oskar',\n",
       "       'Mamee, Mr. Hanna', 'Cann, Mr. Ernest Charles',\n",
       "       'Vander Planke, Miss. Augusta Maria',\n",
       "       'Nicola-Yarred, Miss. Jamila',\n",
       "       'Ahlin, Mrs. Johan (Johanna Persdotter Larsson)',\n",
       "       'Turpin, Mrs. William John Robert (Dorothy Ann Wonnacott)',\n",
       "       'Kraeff, Mr. Theodor', 'Laroche, Miss. Simonne Marie Anne Andree',\n",
       "       'Devaney, Miss. Margaret Delia', 'Rogers, Mr. William John',\n",
       "       'Lennon, Mr. Denis', \"O'Driscoll, Miss. Bridget\",\n",
       "       'Samaan, Mr. Youssef',\n",
       "       'Arnold-Franchi, Mrs. Josef (Josefine Franchi)',\n",
       "       'Panula, Master. Juha Niilo', 'Nosworthy, Mr. Richard Cater',\n",
       "       'Harper, Mrs. Henry Sleeper (Myna Haxtun)',\n",
       "       'Faunthorpe, Mrs. Lizzie (Elizabeth Anne Wilkinson)',\n",
       "       'Ostby, Mr. Engelhart Cornelius', 'Woolner, Mr. Hugh',\n",
       "       'Rugg, Miss. Emily', 'Novel, Mr. Mansouer',\n",
       "       'West, Miss. Constance Mirium',\n",
       "       'Goodwin, Master. William Frederick', 'Sirayanian, Mr. Orsen',\n",
       "       'Icard, Miss. Amelie', 'Harris, Mr. Henry Birkhardt',\n",
       "       'Skoog, Master. Harald', 'Stewart, Mr. Albert A',\n",
       "       'Moubarek, Master. Gerios', 'Nye, Mrs. (Elizabeth Ramell)',\n",
       "       'Crease, Mr. Ernest James', 'Andersson, Miss. Erna Alexandra',\n",
       "       'Kink, Mr. Vincenz', 'Jenkin, Mr. Stephen Curnow',\n",
       "       'Goodwin, Miss. Lillian Amy', 'Hood, Mr. Ambrose Jr',\n",
       "       'Chronopoulos, Mr. Apostolos', 'Bing, Mr. Lee',\n",
       "       'Moen, Mr. Sigurd Hansen', 'Staneff, Mr. Ivan',\n",
       "       'Moutal, Mr. Rahamin Haim', 'Caldwell, Master. Alden Gates',\n",
       "       'Dowdell, Miss. Elizabeth', 'Waelens, Mr. Achille',\n",
       "       'Sheerlinck, Mr. Jan Baptist', 'McDermott, Miss. Brigdet Delia',\n",
       "       'Carrau, Mr. Francisco M', 'Ilett, Miss. Bertha',\n",
       "       'Backstrom, Mrs. Karl Alfred (Maria Mathilda Gustafsson)',\n",
       "       'Ford, Mr. William Neal', 'Slocovski, Mr. Selman Francis',\n",
       "       'Fortune, Miss. Mabel Helen', 'Celotti, Mr. Francesco',\n",
       "       'Christmann, Mr. Emil', 'Andreasson, Mr. Paul Edvin',\n",
       "       'Chaffee, Mr. Herbert Fuller', 'Dean, Mr. Bertram Frank',\n",
       "       'Coxon, Mr. Daniel', 'Shorney, Mr. Charles Joseph',\n",
       "       'Goldschmidt, Mr. George B', 'Greenfield, Mr. William Bertram',\n",
       "       'Doling, Mrs. John T (Ada Julia Bone)', 'Kantor, Mr. Sinai',\n",
       "       'Petranec, Miss. Matilda', 'Petroff, Mr. Pastcho (\"Pentcho\")',\n",
       "       'White, Mr. Richard Frasar', 'Johansson, Mr. Gustaf Joel',\n",
       "       'Gustafsson, Mr. Anders Vilhelm', 'Mionoff, Mr. Stoytcho',\n",
       "       'Salkjelsvik, Miss. Anna Kristine', 'Moss, Mr. Albert Johan',\n",
       "       'Rekic, Mr. Tido', 'Moran, Miss. Bertha',\n",
       "       'Porter, Mr. Walter Chamberlain', 'Zabour, Miss. Hileni',\n",
       "       'Barton, Mr. David John', 'Jussila, Miss. Katriina',\n",
       "       'Attalah, Miss. Malake', 'Pekoniemi, Mr. Edvard',\n",
       "       'Connors, Mr. Patrick', 'Turpin, Mr. William John Robert',\n",
       "       'Baxter, Mr. Quigg Edmond', 'Andersson, Miss. Ellis Anna Maria',\n",
       "       'Hickman, Mr. Stanley George', 'Moore, Mr. Leonard Charles',\n",
       "       'Nasser, Mr. Nicholas', 'Webber, Miss. Susan',\n",
       "       'White, Mr. Percival Wayland', 'Nicola-Yarred, Master. Elias',\n",
       "       'McMahon, Mr. Martin', 'Madsen, Mr. Fridtjof Arne',\n",
       "       'Peter, Miss. Anna', 'Ekstrom, Mr. Johan', 'Drazenoic, Mr. Jozef',\n",
       "       'Coelho, Mr. Domingos Fernandeo',\n",
       "       'Robins, Mrs. Alexander A (Grace Charity Laury)',\n",
       "       'Weisz, Mrs. Leopold (Mathilde Francoise Pede)',\n",
       "       'Sobey, Mr. Samuel James Hayden', 'Richard, Mr. Emile',\n",
       "       'Newsom, Miss. Helen Monypeny', 'Futrelle, Mr. Jacques Heath',\n",
       "       'Osen, Mr. Olaf Elon', 'Giglio, Mr. Victor',\n",
       "       'Boulos, Mrs. Joseph (Sultana)', 'Nysten, Miss. Anna Sofia',\n",
       "       'Hakkarainen, Mrs. Pekka Pietari (Elin Matilda Dolck)',\n",
       "       'Burke, Mr. Jeremiah', 'Andrew, Mr. Edgardo Samuel',\n",
       "       'Nicholls, Mr. Joseph Charles',\n",
       "       'Andersson, Mr. August Edvard (\"Wennerstrom\")',\n",
       "       'Ford, Miss. Robina Maggie \"Ruby\"',\n",
       "       'Navratil, Mr. Michel (\"Louis M Hoffman\")',\n",
       "       'Byles, Rev. Thomas Roussel Davids', 'Bateman, Rev. Robert James',\n",
       "       'Pears, Mrs. Thomas (Edith Wearne)', 'Meo, Mr. Alfonzo',\n",
       "       'van Billiard, Mr. Austin Blyler', 'Olsen, Mr. Ole Martin',\n",
       "       'Williams, Mr. Charles Duane', 'Gilnagh, Miss. Katherine \"Katie\"',\n",
       "       'Corn, Mr. Harry', 'Smiljanic, Mr. Mile',\n",
       "       'Sage, Master. Thomas Henry', 'Cribb, Mr. John Hatfield',\n",
       "       'Watt, Mrs. James (Elizabeth \"Bessie\" Inglis Milne)',\n",
       "       'Bengtsson, Mr. John Viktor', 'Calic, Mr. Jovo',\n",
       "       'Panula, Master. Eino Viljami',\n",
       "       'Goldsmith, Master. Frank John William \"Frankie\"',\n",
       "       'Chibnall, Mrs. (Edith Martha Bowerman)',\n",
       "       'Skoog, Mrs. William (Anna Bernhardina Karlsson)',\n",
       "       'Baumann, Mr. John D', 'Ling, Mr. Lee',\n",
       "       'Van der hoef, Mr. Wyckoff', 'Rice, Master. Arthur',\n",
       "       'Johnson, Miss. Eleanor Ileen', 'Sivola, Mr. Antti Wilhelm',\n",
       "       'Smith, Mr. James Clinch', 'Klasen, Mr. Klas Albin',\n",
       "       'Lefebre, Master. Henry Forbes', 'Isham, Miss. Ann Elizabeth',\n",
       "       'Hale, Mr. Reginald', 'Leonard, Mr. Lionel',\n",
       "       'Sage, Miss. Constance Gladys', 'Pernot, Mr. Rene',\n",
       "       'Asplund, Master. Clarence Gustaf Hugo',\n",
       "       'Becker, Master. Richard F', 'Kink-Heilmann, Miss. Luise Gretchen',\n",
       "       'Rood, Mr. Hugh Roscoe',\n",
       "       'O\\'Brien, Mrs. Thomas (Johanna \"Hannah\" Godfrey)',\n",
       "       'Romaine, Mr. Charles Hallace (\"Mr C Rolmane\")',\n",
       "       'Bourke, Mr. John', 'Turcin, Mr. Stjepan', 'Pinsky, Mrs. (Rosa)',\n",
       "       'Carbines, Mr. William',\n",
       "       'Andersen-Jensen, Miss. Carla Christine Nielsine',\n",
       "       'Navratil, Master. Michel M',\n",
       "       'Brown, Mrs. James Joseph (Margaret Tobin)',\n",
       "       'Lurette, Miss. Elise', 'Mernagh, Mr. Robert',\n",
       "       'Olsen, Mr. Karl Siegwart Andreas',\n",
       "       'Madigan, Miss. Margaret \"Maggie\"',\n",
       "       'Yrois, Miss. Henriette (\"Mrs Harbeck\")',\n",
       "       'Vande Walle, Mr. Nestor Cyriel', 'Sage, Mr. Frederick',\n",
       "       'Johanson, Mr. Jakob Alfred', 'Youseff, Mr. Gerious',\n",
       "       'Cohen, Mr. Gurshon \"Gus\"', 'Strom, Miss. Telma Matilda',\n",
       "       'Backstrom, Mr. Karl Alfred', 'Albimona, Mr. Nassef Cassem',\n",
       "       'Carr, Miss. Helen \"Ellen\"', 'Blank, Mr. Henry', 'Ali, Mr. Ahmed',\n",
       "       'Cameron, Miss. Clear Annie', 'Perkin, Mr. John Henry',\n",
       "       'Givard, Mr. Hans Kristensen', 'Kiernan, Mr. Philip',\n",
       "       'Newell, Miss. Madeleine', 'Honkanen, Miss. Eliina',\n",
       "       'Jacobsohn, Mr. Sidney Samuel', 'Bazzani, Miss. Albina',\n",
       "       'Harris, Mr. Walter', 'Sunderland, Mr. Victor Francis',\n",
       "       'Bracken, Mr. James H', 'Green, Mr. George Henry',\n",
       "       'Nenkoff, Mr. Christo', 'Hoyt, Mr. Frederick Maxfield',\n",
       "       'Berglund, Mr. Karl Ivar Sven', 'Mellors, Mr. William John',\n",
       "       'Lovell, Mr. John Hall (\"Henry\")', 'Fahlstrom, Mr. Arne Jonas',\n",
       "       'Lefebre, Miss. Mathilde',\n",
       "       'Harris, Mrs. Henry Birkhardt (Irene Wallach)',\n",
       "       'Larsson, Mr. Bengt Edvin', 'Sjostedt, Mr. Ernst Adolf',\n",
       "       'Asplund, Miss. Lillian Gertrud',\n",
       "       'Leyson, Mr. Robert William Norman',\n",
       "       'Harknett, Miss. Alice Phoebe', 'Hold, Mr. Stephen',\n",
       "       'Collyer, Miss. Marjorie \"Lottie\"',\n",
       "       'Pengelly, Mr. Frederick William', 'Hunt, Mr. George Henry',\n",
       "       'Zabour, Miss. Thamine', 'Murphy, Miss. Katherine \"Kate\"',\n",
       "       'Coleridge, Mr. Reginald Charles', 'Maenpaa, Mr. Matti Alexanteri',\n",
       "       'Attalah, Mr. Sleiman', 'Minahan, Dr. William Edward',\n",
       "       'Lindahl, Miss. Agda Thorilda Viktoria',\n",
       "       'Hamalainen, Mrs. William (Anna)', 'Beckwith, Mr. Richard Leonard',\n",
       "       'Carter, Rev. Ernest Courtenay', 'Reed, Mr. James George',\n",
       "       'Strom, Mrs. Wilhelm (Elna Matilda Persson)',\n",
       "       'Stead, Mr. William Thomas', 'Lobb, Mr. William Arthur',\n",
       "       'Rosblom, Mrs. Viktor (Helena Wilhelmina)',\n",
       "       'Touma, Mrs. Darwis (Hanne Youssef Razi)',\n",
       "       'Thorne, Mrs. Gertrude Maybelle', 'Cherry, Miss. Gladys',\n",
       "       'Ward, Miss. Anna', 'Parrish, Mrs. (Lutie Davis)',\n",
       "       'Smith, Mr. Thomas', 'Asplund, Master. Edvin Rojj Felix',\n",
       "       'Taussig, Mr. Emil', 'Harrison, Mr. William', 'Henry, Miss. Delia',\n",
       "       'Reeves, Mr. David', 'Panula, Mr. Ernesti Arvid',\n",
       "       'Persson, Mr. Ernst Ulrik',\n",
       "       'Graham, Mrs. William Thompson (Edith Junkins)',\n",
       "       'Bissette, Miss. Amelia', 'Cairns, Mr. Alexander',\n",
       "       'Tornquist, Mr. William Henry',\n",
       "       'Mellinger, Mrs. (Elizabeth Anne Maidment)',\n",
       "       'Natsch, Mr. Charles H', 'Healy, Miss. Hanora \"Nora\"',\n",
       "       'Andrews, Miss. Kornelia Theodosia',\n",
       "       'Lindblom, Miss. Augusta Charlotta', 'Parkes, Mr. Francis \"Frank\"',\n",
       "       'Rice, Master. Eric', 'Abbott, Mrs. Stanton (Rosa Hunt)',\n",
       "       'Duane, Mr. Frank', 'Olsson, Mr. Nils Johan Goransson',\n",
       "       'de Pelsmaeker, Mr. Alfons', 'Dorking, Mr. Edward Arthur',\n",
       "       'Smith, Mr. Richard William', 'Stankovic, Mr. Ivan',\n",
       "       'de Mulder, Mr. Theodore', 'Naidenoff, Mr. Penko',\n",
       "       'Hosono, Mr. Masabumi', 'Connolly, Miss. Kate',\n",
       "       'Barber, Miss. Ellen \"Nellie\"',\n",
       "       'Bishop, Mrs. Dickinson H (Helen Walton)',\n",
       "       'Levy, Mr. Rene Jacques', 'Haas, Miss. Aloisia',\n",
       "       'Mineff, Mr. Ivan', 'Lewy, Mr. Ervin G', 'Hanna, Mr. Mansour',\n",
       "       'Allison, Miss. Helen Loraine', 'Saalfeld, Mr. Adolphe',\n",
       "       'Baxter, Mrs. James (Helene DeLaudeniere Chaput)',\n",
       "       'Kelly, Miss. Anna Katherine \"Annie Kate\"', 'McCoy, Mr. Bernard',\n",
       "       'Johnson, Mr. William Cahoone Jr', 'Keane, Miss. Nora A',\n",
       "       'Williams, Mr. Howard Hugh \"Harry\"',\n",
       "       'Allison, Master. Hudson Trevor', 'Fleming, Miss. Margaret',\n",
       "       'Penasco y Castellana, Mrs. Victor de Satode (Maria Josefa Perez de Soto y Vallejo)',\n",
       "       'Abelson, Mr. Samuel', 'Francatelli, Miss. Laura Mabel',\n",
       "       'Hays, Miss. Margaret Bechstein', 'Ryerson, Miss. Emily Borie',\n",
       "       'Lahtinen, Mrs. William (Anna Sylfven)', 'Hendekovic, Mr. Ignjac',\n",
       "       'Hart, Mr. Benjamin', 'Nilsson, Miss. Helmina Josefina',\n",
       "       'Kantor, Mrs. Sinai (Miriam Sternin)', 'Moraweck, Dr. Ernest',\n",
       "       'Wick, Miss. Mary Natalie',\n",
       "       'Spedden, Mrs. Frederic Oakley (Margaretta Corning Stone)',\n",
       "       'Dennis, Mr. Samuel', 'Danoff, Mr. Yoto',\n",
       "       'Slayter, Miss. Hilda Mary',\n",
       "       'Caldwell, Mrs. Albert Francis (Sylvia Mae Harbaugh)',\n",
       "       'Sage, Mr. George John Jr', 'Young, Miss. Marie Grice',\n",
       "       'Nysveen, Mr. Johan Hansen', 'Ball, Mrs. (Ada E Hall)',\n",
       "       'Goldsmith, Mrs. Frank John (Emily Alice Brown)',\n",
       "       'Hippach, Miss. Jean Gertrude', 'McCoy, Miss. Agnes',\n",
       "       'Partner, Mr. Austen', 'Graham, Mr. George Edward',\n",
       "       'Vander Planke, Mr. Leo Edmondus',\n",
       "       'Frauenthal, Mrs. Henry William (Clara Heinsheimer)',\n",
       "       'Denkoff, Mr. Mitto', 'Pears, Mr. Thomas Clinton',\n",
       "       'Burns, Miss. Elizabeth Margaret', 'Dahl, Mr. Karl Edwart',\n",
       "       'Blackwell, Mr. Stephen Weart', 'Navratil, Master. Edmond Roger',\n",
       "       'Fortune, Miss. Alice Elizabeth', 'Collander, Mr. Erik Gustaf',\n",
       "       'Sedgwick, Mr. Charles Frederick Waddington',\n",
       "       'Fox, Mr. Stanley Hubert', 'Brown, Miss. Amelia \"Mildred\"',\n",
       "       'Smith, Miss. Marion Elsie',\n",
       "       'Davison, Mrs. Thomas Henry (Mary E Finck)',\n",
       "       'Coutts, Master. William Loch \"William\"', 'Dimic, Mr. Jovan',\n",
       "       'Odahl, Mr. Nils Martin', 'Williams-Lambert, Mr. Fletcher Fellows',\n",
       "       'Elias, Mr. Tannous', 'Arnold-Franchi, Mr. Josef',\n",
       "       'Yousif, Mr. Wazli', 'Vanden Steen, Mr. Leo Peter',\n",
       "       'Bowerman, Miss. Elsie Edith', 'Funk, Miss. Annie Clemmer',\n",
       "       'McGovern, Miss. Mary', 'Mockler, Miss. Helen Mary \"Ellie\"',\n",
       "       'Skoog, Mr. Wilhelm', 'del Carlo, Mr. Sebastiano',\n",
       "       'Barbara, Mrs. (Catherine David)', 'Asim, Mr. Adola',\n",
       "       \"O'Brien, Mr. Thomas\", 'Adahl, Mr. Mauritz Nils Martin',\n",
       "       'Warren, Mrs. Frank Manley (Anna Sophia Atkinson)',\n",
       "       'Moussa, Mrs. (Mantoura Boulos)', 'Jermyn, Miss. Annie',\n",
       "       'Aubart, Mme. Leontine Pauline', 'Harder, Mr. George Achilles',\n",
       "       'Wiklund, Mr. Jakob Alfred', 'Beavan, Mr. William Thomas',\n",
       "       'Ringhini, Mr. Sante', 'Palsson, Miss. Stina Viola',\n",
       "       'Meyer, Mrs. Edgar Joseph (Leila Saks)',\n",
       "       'Landergren, Miss. Aurora Adelia', 'Widener, Mr. Harry Elkins',\n",
       "       'Betros, Mr. Tannous', 'Gustafsson, Mr. Karl Gideon',\n",
       "       'Bidois, Miss. Rosalie', 'Nakid, Miss. Maria (\"Mary\")',\n",
       "       'Tikkanen, Mr. Juho',\n",
       "       'Holverson, Mrs. Alexander Oskar (Mary Aline Towner)',\n",
       "       'Plotcharsky, Mr. Vasil', 'Davies, Mr. Charles Henry',\n",
       "       'Goodwin, Master. Sidney Leonard', 'Buss, Miss. Kate',\n",
       "       'Sadlier, Mr. Matthew', 'Lehmann, Miss. Bertha',\n",
       "       'Carter, Mr. William Ernest', 'Jansson, Mr. Carl Olof',\n",
       "       'Gustafsson, Mr. Johan Birger', 'Newell, Miss. Marjorie',\n",
       "       'Sandstrom, Mrs. Hjalmar (Agnes Charlotta Bengtsson)',\n",
       "       'Johansson, Mr. Erik', 'Olsson, Miss. Elina',\n",
       "       'McKane, Mr. Peter David', 'Pain, Dr. Alfred',\n",
       "       'Trout, Mrs. William H (Jessie L)', 'Niskanen, Mr. Juha',\n",
       "       'Adams, Mr. John', 'Jussila, Miss. Mari Aina',\n",
       "       'Hakkarainen, Mr. Pekka Pietari', 'Oreskovic, Miss. Marija',\n",
       "       'Gale, Mr. Shadrach', 'Widegren, Mr. Carl/Charles Peter',\n",
       "       'Richards, Master. William Rowe',\n",
       "       'Birkeland, Mr. Hans Martin Monsen', 'Lefebre, Miss. Ida',\n",
       "       'Sdycoff, Mr. Todor', 'Hart, Mr. Henry', 'Minahan, Miss. Daisy E',\n",
       "       'Cunningham, Mr. Alfred Fleming', 'Sundman, Mr. Johan Julian',\n",
       "       'Meek, Mrs. Thomas (Annie Louise Rowley)',\n",
       "       'Drew, Mrs. James Vivian (Lulu Thorne Christian)',\n",
       "       'Silven, Miss. Lyyli Karoliina', 'Matthews, Mr. William John',\n",
       "       'Van Impe, Miss. Catharina', 'Gheorgheff, Mr. Stanio',\n",
       "       'Charters, Mr. David', 'Zimmerman, Mr. Leo',\n",
       "       'Danbom, Mrs. Ernst Gilbert (Anna Sigrid Maria Brogren)',\n",
       "       'Rosblom, Mr. Viktor Richard', 'Wiseman, Mr. Phillippe',\n",
       "       'Clarke, Mrs. Charles V (Ada Maria Winfield)',\n",
       "       'Phillips, Miss. Kate Florence (\"Mrs Kate Louise Phillips Marshall\")',\n",
       "       'Flynn, Mr. James', 'Pickard, Mr. Berk (Berk Trembisky)',\n",
       "       'Bjornstrom-Steffansson, Mr. Mauritz Hakan',\n",
       "       'Thorneycroft, Mrs. Percival (Florence Kate White)',\n",
       "       'Louch, Mrs. Charles Alexander (Alice Adelaide Slow)',\n",
       "       'Kallio, Mr. Nikolai Erland', 'Silvey, Mr. William Baird',\n",
       "       'Carter, Miss. Lucile Polk',\n",
       "       'Ford, Miss. Doolina Margaret \"Daisy\"',\n",
       "       'Richards, Mrs. Sidney (Emily Hocking)', 'Fortune, Mr. Mark',\n",
       "       'Kvillner, Mr. Johan Henrik Johannesson',\n",
       "       'Hart, Mrs. Benjamin (Esther Ada Bloomfield)', 'Hampe, Mr. Leon',\n",
       "       'Petterson, Mr. Johan Emil', 'Reynaldo, Ms. Encarnacion',\n",
       "       'Johannesen-Bratthammer, Mr. Bernt', 'Dodge, Master. Washington',\n",
       "       'Mellinger, Miss. Madeleine Violet', 'Seward, Mr. Frederic Kimber',\n",
       "       'Baclini, Miss. Marie Catherine', 'Peuchen, Major. Arthur Godfrey',\n",
       "       'West, Mr. Edwy Arthur', 'Hagland, Mr. Ingvald Olai Olsen',\n",
       "       'Foreman, Mr. Benjamin Laventall', 'Goldenberg, Mr. Samuel L',\n",
       "       'Peduzzi, Mr. Joseph', 'Jalsevac, Mr. Ivan',\n",
       "       'Millet, Mr. Francis Davis', 'Kenyon, Mrs. Frederick R (Marion)',\n",
       "       'Toomey, Miss. Ellen', \"O'Connor, Mr. Maurice\",\n",
       "       'Anderson, Mr. Harry', 'Morley, Mr. William', 'Gee, Mr. Arthur H',\n",
       "       'Milling, Mr. Jacob Christian', 'Maisner, Mr. Simon',\n",
       "       'Goncalves, Mr. Manuel Estanslas', 'Campbell, Mr. William',\n",
       "       'Smart, Mr. John Montgomery', 'Scanlan, Mr. James',\n",
       "       'Baclini, Miss. Helene Barbara', 'Keefe, Mr. Arthur',\n",
       "       'Cacic, Mr. Luka', 'West, Mrs. Edwy Arthur (Ada Mary Worth)',\n",
       "       'Jerwan, Mrs. Amin S (Marie Marthe Thuillard)',\n",
       "       'Strandberg, Miss. Ida Sofia', 'Clifford, Mr. George Quincy',\n",
       "       'Renouf, Mr. Peter Henry', 'Braund, Mr. Lewis Richard',\n",
       "       'Karlsson, Mr. Nils August', 'Hirvonen, Miss. Hildur E',\n",
       "       'Goodwin, Master. Harold Victor',\n",
       "       'Frost, Mr. Anthony Wood \"Archie\"', 'Rouse, Mr. Richard Henry',\n",
       "       'Turkula, Mrs. (Hedwig)', 'Bishop, Mr. Dickinson H',\n",
       "       'Lefebre, Miss. Jeannie',\n",
       "       'Hoyt, Mrs. Frederick Maxfield (Jane Anne Forby)',\n",
       "       'Kent, Mr. Edward Austin', 'Somerton, Mr. Francis William',\n",
       "       'Coutts, Master. Eden Leslie \"Neville\"',\n",
       "       'Hagland, Mr. Konrad Mathias Reiersen', 'Windelov, Mr. Einar',\n",
       "       'Molson, Mr. Harry Markland', 'Artagaveytia, Mr. Ramon',\n",
       "       'Stanley, Mr. Edward Roland', 'Yousseff, Mr. Gerious',\n",
       "       'Eustis, Miss. Elizabeth Mussey',\n",
       "       'Shellard, Mr. Frederick William',\n",
       "       'Allison, Mrs. Hudson J C (Bessie Waldo Daniels)',\n",
       "       'Svensson, Mr. Olof', 'Calic, Mr. Petar', 'Canavan, Miss. Mary',\n",
       "       \"O'Sullivan, Miss. Bridget Mary\", 'Laitinen, Miss. Kristina Sofia',\n",
       "       'Maioni, Miss. Roberta',\n",
       "       'Penasco y Castellana, Mr. Victor de Satode',\n",
       "       'Quick, Mrs. Frederick Charles (Jane Richards)',\n",
       "       'Bradley, Mr. George (\"George Arthur Brayton\")',\n",
       "       'Olsen, Mr. Henry Margido', 'Lang, Mr. Fang',\n",
       "       'Daly, Mr. Eugene Patrick', 'Webber, Mr. James',\n",
       "       'McGough, Mr. James Robert',\n",
       "       'Rothschild, Mrs. Martin (Elizabeth L. Barrett)',\n",
       "       'Coleff, Mr. Satio', 'Walker, Mr. William Anderson',\n",
       "       'Lemore, Mrs. (Amelia Milley)', 'Ryan, Mr. Patrick',\n",
       "       'Angle, Mrs. William A (Florence \"Mary\" Agnes Hughes)',\n",
       "       'Pavlovic, Mr. Stefo', 'Perreault, Miss. Anne', 'Vovk, Mr. Janko',\n",
       "       'Lahoud, Mr. Sarkis',\n",
       "       'Hippach, Mrs. Louis Albert (Ida Sophia Fischer)',\n",
       "       'Kassem, Mr. Fared', 'Farrell, Mr. James', 'Ridsdale, Miss. Lucy',\n",
       "       'Farthing, Mr. John', 'Salonen, Mr. Johan Werner',\n",
       "       'Hocking, Mr. Richard George', 'Quick, Miss. Phyllis May',\n",
       "       'Toufik, Mr. Nakli', 'Elias, Mr. Joseph Jr',\n",
       "       'Peter, Mrs. Catherine (Catherine Rizk)', 'Cacic, Miss. Marija',\n",
       "       'Hart, Miss. Eva Miriam', 'Butt, Major. Archibald Willingham',\n",
       "       'LeRoy, Miss. Bertha', 'Risien, Mr. Samuel Beard',\n",
       "       'Frolicher, Miss. Hedwig Margaritha', 'Crosby, Miss. Harriet R',\n",
       "       'Andersson, Miss. Ingeborg Constanzia',\n",
       "       'Andersson, Miss. Sigrid Elisabeth', 'Beane, Mr. Edward',\n",
       "       'Douglas, Mr. Walter Donald', 'Nicholson, Mr. Arthur Ernest',\n",
       "       'Beane, Mrs. Edward (Ethel Clarke)', 'Padro y Manent, Mr. Julian',\n",
       "       'Goldsmith, Mr. Frank John', 'Davies, Master. John Morgan Jr',\n",
       "       'Thayer, Mr. John Borland Jr', 'Sharp, Mr. Percival James R',\n",
       "       \"O'Brien, Mr. Timothy\", 'Leeni, Mr. Fahim (\"Philip Zenni\")',\n",
       "       'Ohman, Miss. Velin', 'Wright, Mr. George',\n",
       "       'Duff Gordon, Lady. (Lucille Christiana Sutherland) (\"Mrs Morgan\")',\n",
       "       'Robbins, Mr. Victor', 'Taussig, Mrs. Emil (Tillie Mandelbaum)',\n",
       "       'de Messemaeker, Mrs. Guillaume Joseph (Emma)',\n",
       "       'Morrow, Mr. Thomas Rowan', 'Sivic, Mr. Husein',\n",
       "       'Norman, Mr. Robert Douglas', 'Simmons, Mr. John',\n",
       "       'Meanwell, Miss. (Marion Ogden)', 'Davies, Mr. Alfred J',\n",
       "       'Stoytcheff, Mr. Ilia',\n",
       "       'Palsson, Mrs. Nils (Alma Cornelia Berglund)',\n",
       "       'Doharr, Mr. Tannous', 'Jonsson, Mr. Carl', 'Harris, Mr. George',\n",
       "       'Appleton, Mrs. Edward Dale (Charlotte Lamson)',\n",
       "       'Flynn, Mr. John Irwin (\"Irving\")', 'Kelly, Miss. Mary',\n",
       "       'Rush, Mr. Alfred George John', 'Patchett, Mr. George',\n",
       "       'Garside, Miss. Ethel',\n",
       "       'Silvey, Mrs. William Baird (Alice Munger)',\n",
       "       'Caram, Mrs. Joseph (Maria Elias)', 'Jussila, Mr. Eiriik',\n",
       "       'Christy, Miss. Julie Rachel',\n",
       "       'Thayer, Mrs. John Borland (Marian Longstreth Morris)',\n",
       "       'Downton, Mr. William James', 'Ross, Mr. John Hugo',\n",
       "       'Paulner, Mr. Uscher', 'Taussig, Miss. Ruth',\n",
       "       'Jarvis, Mr. John Denzil', 'Frolicher-Stehli, Mr. Maxmillian',\n",
       "       'Gilinski, Mr. Eliezer', 'Murdlin, Mr. Joseph',\n",
       "       'Rintamaki, Mr. Matti',\n",
       "       'Stephenson, Mrs. Walter Bertram (Martha Eustis)',\n",
       "       'Elsbury, Mr. William James', 'Bourke, Miss. Mary',\n",
       "       'Chapman, Mr. John Henry', 'Van Impe, Mr. Jean Baptiste',\n",
       "       'Leitch, Miss. Jessie Wills', 'Johnson, Mr. Alfred',\n",
       "       'Boulos, Mr. Hanna',\n",
       "       'Duff Gordon, Sir. Cosmo Edmund (\"Mr Morgan\")',\n",
       "       'Jacobsohn, Mrs. Sidney Samuel (Amy Frances Christy)',\n",
       "       'Slabenoff, Mr. Petco', 'Harrington, Mr. Charles H',\n",
       "       'Torber, Mr. Ernst William', 'Homer, Mr. Harry (\"Mr E Haven\")',\n",
       "       'Lindell, Mr. Edvard Bengtsson', 'Karaic, Mr. Milan',\n",
       "       'Daniel, Mr. Robert Williams',\n",
       "       'Laroche, Mrs. Joseph (Juliette Marie Louise Lafargue)',\n",
       "       'Shutes, Miss. Elizabeth W',\n",
       "       'Andersson, Mrs. Anders Johan (Alfrida Konstantia Brogren)',\n",
       "       'Jardin, Mr. Jose Neto', 'Murphy, Miss. Margaret Jane',\n",
       "       'Horgan, Mr. John', 'Brocklebank, Mr. William Alfred',\n",
       "       'Herman, Miss. Alice', 'Danbom, Mr. Ernst Gilbert',\n",
       "       'Lobb, Mrs. William Arthur (Cordelia K Stanlick)',\n",
       "       'Becker, Miss. Marion Louise', 'Gavey, Mr. Lawrence',\n",
       "       'Yasbeck, Mr. Antoni', 'Kimball, Mr. Edwin Nelson Jr',\n",
       "       'Nakid, Mr. Sahid', 'Hansen, Mr. Henry Damsgaard',\n",
       "       'Bowen, Mr. David John \"Dai\"', 'Sutton, Mr. Frederick',\n",
       "       'Kirkland, Rev. Charles Leonard', 'Longley, Miss. Gretchen Fiske',\n",
       "       'Bostandyeff, Mr. Guentcho', \"O'Connell, Mr. Patrick D\",\n",
       "       'Barkworth, Mr. Algernon Henry Wilson',\n",
       "       'Lundahl, Mr. Johan Svensson', 'Stahelin-Maeglin, Dr. Max',\n",
       "       'Parr, Mr. William Henry Marsh', 'Skoog, Miss. Mabel',\n",
       "       'Davis, Miss. Mary', 'Leinonen, Mr. Antti Gustaf',\n",
       "       'Collyer, Mr. Harvey', 'Panula, Mrs. Juha (Maria Emilia Ojala)',\n",
       "       'Thorneycroft, Mr. Percival', 'Jensen, Mr. Hans Peder',\n",
       "       'Sagesser, Mlle. Emma', 'Skoog, Miss. Margit Elizabeth',\n",
       "       'Foo, Mr. Choong', 'Baclini, Miss. Eugenie',\n",
       "       'Harper, Mr. Henry Sleeper', 'Cor, Mr. Liudevit',\n",
       "       'Simonius-Blumer, Col. Oberst Alfons', 'Willey, Mr. Edward',\n",
       "       'Stanley, Miss. Amy Zillah Elsie', 'Mitkoff, Mr. Mito',\n",
       "       'Doling, Miss. Elsie', 'Kalvik, Mr. Johannes Halvorsen',\n",
       "       'O\\'Leary, Miss. Hanora \"Norah\"', 'Hegarty, Miss. Hanora \"Nora\"',\n",
       "       'Hickman, Mr. Leonard Mark', 'Radeff, Mr. Alexander',\n",
       "       'Bourke, Mrs. John (Catherine)', 'Eitemiller, Mr. George Floyd',\n",
       "       'Newell, Mr. Arthur Webster', 'Frauenthal, Dr. Henry William',\n",
       "       'Badt, Mr. Mohamed', 'Colley, Mr. Edward Pomeroy',\n",
       "       'Coleff, Mr. Peju', 'Lindqvist, Mr. Eino William',\n",
       "       'Hickman, Mr. Lewis', 'Butler, Mr. Reginald Fenton',\n",
       "       'Rommetvedt, Mr. Knud Paust', 'Cook, Mr. Jacob',\n",
       "       'Taylor, Mrs. Elmer Zebley (Juliet Cummins Wright)',\n",
       "       'Brown, Mrs. Thomas William Solomon (Elizabeth Catherine Ford)',\n",
       "       'Davidson, Mr. Thornton', 'Mitchell, Mr. Henry Michael',\n",
       "       'Wilhelms, Mr. Charles', 'Watson, Mr. Ennis Hastings',\n",
       "       'Edvardsson, Mr. Gustaf Hjalmar', 'Sawyer, Mr. Frederick Charles',\n",
       "       'Turja, Miss. Anna Sofia',\n",
       "       'Goodwin, Mrs. Frederick (Augusta Tyler)',\n",
       "       'Cardeza, Mr. Thomas Drake Martinez', 'Peters, Miss. Katie',\n",
       "       'Hassab, Mr. Hammad', 'Olsvigen, Mr. Thor Anderson',\n",
       "       'Goodwin, Mr. Charles Edward', 'Brown, Mr. Thomas William Solomon',\n",
       "       'Laroche, Mr. Joseph Philippe Lemercier',\n",
       "       'Panula, Mr. Jaako Arnold', 'Dakic, Mr. Branko',\n",
       "       'Fischer, Mr. Eberhard Thelander',\n",
       "       'Madill, Miss. Georgette Alexandra', 'Dick, Mr. Albert Adrian',\n",
       "       'Karun, Miss. Manca', 'Lam, Mr. Ali', 'Saad, Mr. Khalil',\n",
       "       'Weir, Col. John', 'Chapman, Mr. Charles Henry',\n",
       "       'Kelly, Mr. James', 'Mullens, Miss. Katherine \"Katie\"',\n",
       "       'Thayer, Mr. John Borland',\n",
       "       'Humblen, Mr. Adolf Mathias Nicolai Olsen',\n",
       "       'Astor, Mrs. John Jacob (Madeleine Talmadge Force)',\n",
       "       'Silverthorne, Mr. Spencer Victor', 'Barbara, Miss. Saiide',\n",
       "       'Gallagher, Mr. Martin', 'Hansen, Mr. Henrik Juul',\n",
       "       'Morley, Mr. Henry Samuel (\"Mr Henry Marshall\")',\n",
       "       'Kelly, Mrs. Florence \"Fannie\"',\n",
       "       'Calderhead, Mr. Edward Pennington', 'Cleaver, Miss. Alice',\n",
       "       'Moubarek, Master. Halim Gonios (\"William George\")',\n",
       "       'Mayne, Mlle. Berthe Antonine (\"Mrs de Villiers\")',\n",
       "       'Klaber, Mr. Herman', 'Taylor, Mr. Elmer Zebley',\n",
       "       'Larsson, Mr. August Viktor', 'Greenberg, Mr. Samuel',\n",
       "       'Soholt, Mr. Peter Andreas Lauritz Andersen',\n",
       "       'Endres, Miss. Caroline Louise',\n",
       "       'Troutt, Miss. Edwina Celia \"Winnie\"', 'McEvoy, Mr. Michael',\n",
       "       'Johnson, Mr. Malkolm Joackim',\n",
       "       'Harper, Miss. Annie Jessie \"Nina\"', 'Jensen, Mr. Svend Lauritz',\n",
       "       'Gillespie, Mr. William Henry', 'Hodges, Mr. Henry Price',\n",
       "       'Chambers, Mr. Norman Campbell', 'Oreskovic, Mr. Luka',\n",
       "       'Renouf, Mrs. Peter Henry (Lillian Jefferys)',\n",
       "       'Mannion, Miss. Margareth', 'Bryhl, Mr. Kurt Arnold Gottfrid',\n",
       "       'Ilmakangas, Miss. Pieta Sofia', 'Allen, Miss. Elisabeth Walton',\n",
       "       'Hassan, Mr. Houssein G N', 'Knight, Mr. Robert J',\n",
       "       'Berriman, Mr. William John', 'Troupiansky, Mr. Moses Aaron',\n",
       "       'Williams, Mr. Leslie', 'Ford, Mrs. Edward (Margaret Ann Watson)',\n",
       "       'Lesurer, Mr. Gustave J', 'Ivanoff, Mr. Kanio',\n",
       "       'Nankoff, Mr. Minko', 'Hawksford, Mr. Walter James',\n",
       "       'Cavendish, Mr. Tyrell William',\n",
       "       'Ryerson, Miss. Susan Parker \"Suzette\"', 'McNamee, Mr. Neal',\n",
       "       'Stranden, Mr. Juho', 'Crosby, Capt. Edward Gifford',\n",
       "       'Abbott, Mr. Rossmore Edward', 'Sinkkonen, Miss. Anna',\n",
       "       'Marvin, Mr. Daniel Warner', 'Connaghton, Mr. Michael',\n",
       "       'Wells, Miss. Joan', 'Moor, Master. Meier',\n",
       "       'Vande Velde, Mr. Johannes Joseph', 'Jonkoff, Mr. Lalio',\n",
       "       'Herman, Mrs. Samuel (Jane Laver)', 'Hamalainen, Master. Viljo',\n",
       "       'Carlsson, Mr. August Sigfrid', 'Bailey, Mr. Percy Andrew',\n",
       "       'Theobald, Mr. Thomas Leonard',\n",
       "       'Rothes, the Countess. of (Lucy Noel Martha Dyer-Edwards)',\n",
       "       'Garfirth, Mr. John', 'Nirva, Mr. Iisakki Antino Aijo',\n",
       "       'Barah, Mr. Hanna Assi',\n",
       "       'Carter, Mrs. William Ernest (Lucile Polk)',\n",
       "       'Eklund, Mr. Hans Linus', 'Hogeboom, Mrs. John C (Anna Andrews)',\n",
       "       'Brewe, Dr. Arthur Jackson', 'Mangan, Miss. Mary',\n",
       "       'Moran, Mr. Daniel J', 'Gronnestad, Mr. Daniel Danielsen',\n",
       "       'Lievens, Mr. Rene Aime', 'Jensen, Mr. Niels Peder',\n",
       "       'Mack, Mrs. (Mary)', 'Elias, Mr. Dibo',\n",
       "       'Hocking, Mrs. Elizabeth (Eliza Needs)',\n",
       "       'Myhrman, Mr. Pehr Fabian Oliver Malkolm', 'Tobin, Mr. Roger',\n",
       "       'Emanuel, Miss. Virginia Ethel', 'Kilgannon, Mr. Thomas J',\n",
       "       'Robert, Mrs. Edward Scott (Elisabeth Walton McMillan)',\n",
       "       'Ayoub, Miss. Banoura',\n",
       "       'Dick, Mrs. Albert Adrian (Vera Gillespie)',\n",
       "       'Long, Mr. Milton Clyde', 'Johnston, Mr. Andrew G',\n",
       "       'Ali, Mr. William', 'Harmer, Mr. Abraham (David Lishin)',\n",
       "       'Sjoblom, Miss. Anna Sofia', 'Rice, Master. George Hugh',\n",
       "       'Dean, Master. Bertram Vere', 'Guggenheim, Mr. Benjamin',\n",
       "       'Keane, Mr. Andrew \"Andy\"', 'Gaskell, Mr. Alfred',\n",
       "       'Sage, Miss. Stella Anna', 'Hoyt, Mr. William Fisher',\n",
       "       'Dantcheff, Mr. Ristiu', 'Otter, Mr. Richard',\n",
       "       'Leader, Dr. Alice (Farnham)', 'Osman, Mrs. Mara',\n",
       "       'Ibrahim Shawah, Mr. Yousseff',\n",
       "       'Van Impe, Mrs. Jean Baptiste (Rosalie Paula Govaert)',\n",
       "       'Ponesell, Mr. Martin',\n",
       "       'Collyer, Mrs. Harvey (Charlotte Annie Tate)',\n",
       "       'Carter, Master. William Thornton II',\n",
       "       'Thomas, Master. Assad Alexander', 'Hedman, Mr. Oskar Arvid',\n",
       "       'Johansson, Mr. Karl Johan', 'Andrews, Mr. Thomas Jr',\n",
       "       'Pettersson, Miss. Ellen Natalia', 'Meyer, Mr. August',\n",
       "       'Chambers, Mrs. Norman Campbell (Bertha Griggs)',\n",
       "       'Alexander, Mr. William', 'Lester, Mr. James',\n",
       "       'Slemen, Mr. Richard James', 'Andersson, Miss. Ebba Iris Alfrida',\n",
       "       'Tomlin, Mr. Ernest Portage', 'Fry, Mr. Richard',\n",
       "       'Heininen, Miss. Wendla Maria', 'Mallet, Mr. Albert',\n",
       "       'Holm, Mr. John Fredrik Alexander', 'Skoog, Master. Karl Thorsten',\n",
       "       'Hays, Mrs. Charles Melville (Clara Jennings Gregg)',\n",
       "       'Lulic, Mr. Nikola', 'Reuchlin, Jonkheer. John George',\n",
       "       'Moor, Mrs. (Beila)', 'Panula, Master. Urho Abraham',\n",
       "       'Flynn, Mr. John', 'Lam, Mr. Len', 'Mallet, Master. Andre',\n",
       "       'McCormack, Mr. Thomas Joseph',\n",
       "       'Stone, Mrs. George Nelson (Martha Evelyn)',\n",
       "       'Yasbeck, Mrs. Antoni (Selini Alexander)',\n",
       "       'Richards, Master. George Sibley', 'Saad, Mr. Amin',\n",
       "       'Augustsson, Mr. Albert', 'Allum, Mr. Owen George',\n",
       "       'Compton, Miss. Sara Rebecca', 'Pasic, Mr. Jakob',\n",
       "       'Sirota, Mr. Maurice', 'Chip, Mr. Chang', 'Marechal, Mr. Pierre',\n",
       "       'Alhomaki, Mr. Ilmari Rudolf', 'Mudd, Mr. Thomas Charles',\n",
       "       'Serepeca, Miss. Augusta', 'Lemberopolous, Mr. Peter L',\n",
       "       'Culumovic, Mr. Jeso', 'Abbing, Mr. Anthony',\n",
       "       'Sage, Mr. Douglas Bullen', 'Markoff, Mr. Marin',\n",
       "       'Harper, Rev. John',\n",
       "       'Goldenberg, Mrs. Samuel L (Edwiga Grabowska)',\n",
       "       'Andersson, Master. Sigvard Harald Elias', 'Svensson, Mr. Johan',\n",
       "       'Boulos, Miss. Nourelain', 'Lines, Miss. Mary Conover',\n",
       "       'Carter, Mrs. Ernest Courtenay (Lilian Hughes)',\n",
       "       'Aks, Mrs. Sam (Leah Rosen)',\n",
       "       'Wick, Mrs. George Dennick (Mary Hitchcock)',\n",
       "       'Daly, Mr. Peter Denis ', 'Baclini, Mrs. Solomon (Latifa Qurban)',\n",
       "       'Razi, Mr. Raihed', 'Hansen, Mr. Claus Peter',\n",
       "       'Giles, Mr. Frederick Edward',\n",
       "       'Swift, Mrs. Frederick Joel (Margaret Welles Barron)',\n",
       "       'Sage, Miss. Dorothy Edith \"Dolly\"', 'Gill, Mr. John William',\n",
       "       'Bystrom, Mrs. (Karolina)', 'Duran y More, Miss. Asuncion',\n",
       "       'Roebling, Mr. Washington Augustus II',\n",
       "       'van Melkebeke, Mr. Philemon', 'Johnson, Master. Harold Theodor',\n",
       "       'Balkic, Mr. Cerin',\n",
       "       'Beckwith, Mrs. Richard Leonard (Sallie Monypeny)',\n",
       "       'Carlsson, Mr. Frans Olof', 'Vander Cruyssen, Mr. Victor',\n",
       "       'Abelson, Mrs. Samuel (Hannah Wizosky)',\n",
       "       'Najib, Miss. Adele Kiamie \"Jane\"',\n",
       "       'Gustafsson, Mr. Alfred Ossian', 'Petroff, Mr. Nedelio',\n",
       "       'Laleff, Mr. Kristo',\n",
       "       'Potter, Mrs. Thomas Jr (Lily Alexenia Wilson)',\n",
       "       'Shelley, Mrs. William (Imanita Parrish Hall)',\n",
       "       'Markun, Mr. Johann', 'Dahlberg, Miss. Gerda Ulrika',\n",
       "       'Banfield, Mr. Frederick James', 'Sutehall, Mr. Henry Jr',\n",
       "       'Rice, Mrs. William (Margaret Norton)', 'Montvila, Rev. Juozas',\n",
       "       'Graham, Miss. Margaret Edith',\n",
       "       'Johnston, Miss. Catherine Helen \"Carrie\"',\n",
       "       'Behr, Mr. Karl Howell', 'Dooley, Mr. Patrick'], dtype=object)"
      ]
     },
     "execution_count": 47,
     "metadata": {},
     "output_type": "execute_result"
    }
   ],
   "source": [
    "pd.unique(train_df['Name'])"
   ]
  },
  {
   "cell_type": "markdown",
   "id": "trained-nirvana",
   "metadata": {
    "papermill": {
     "duration": 0.104302,
     "end_time": "2021-06-05T08:02:42.858307",
     "exception": false,
     "start_time": "2021-06-05T08:02:42.754005",
     "status": "completed"
    },
    "tags": []
   },
   "source": [
    "**Observation:**\n",
    "We can create new feature by extracting the Titles from the name"
   ]
  },
  {
   "cell_type": "code",
   "execution_count": 48,
   "id": "arranged-ridge",
   "metadata": {
    "execution": {
     "iopub.execute_input": "2021-06-05T08:02:43.071545Z",
     "iopub.status.busy": "2021-06-05T08:02:43.070909Z",
     "iopub.status.idle": "2021-06-05T08:02:43.078990Z",
     "shell.execute_reply": "2021-06-05T08:02:43.079522Z",
     "shell.execute_reply.started": "2021-06-05T07:19:26.410282Z"
    },
    "papermill": {
     "duration": 0.114957,
     "end_time": "2021-06-05T08:02:43.079724",
     "exception": false,
     "start_time": "2021-06-05T08:02:42.964767",
     "status": "completed"
    },
    "tags": []
   },
   "outputs": [],
   "source": [
    "train_df['Title'] = train_df['Name'].apply(lambda x: x.split(',')[1].split('.')[0].strip())\n",
    "test_df['Title'] = test_df['Name'].apply(lambda x: x.split(',')[1].split('.')[0].strip())"
   ]
  },
  {
   "cell_type": "code",
   "execution_count": 49,
   "id": "determined-trainer",
   "metadata": {
    "execution": {
     "iopub.execute_input": "2021-06-05T08:02:43.293674Z",
     "iopub.status.busy": "2021-06-05T08:02:43.292974Z",
     "iopub.status.idle": "2021-06-05T08:02:43.309033Z",
     "shell.execute_reply": "2021-06-05T08:02:43.309483Z",
     "shell.execute_reply.started": "2021-06-05T07:19:38.612784Z"
    },
    "papermill": {
     "duration": 0.123361,
     "end_time": "2021-06-05T08:02:43.309682",
     "exception": false,
     "start_time": "2021-06-05T08:02:43.186321",
     "status": "completed"
    },
    "tags": []
   },
   "outputs": [
    {
     "data": {
      "text/html": [
       "<div>\n",
       "<style scoped>\n",
       "    .dataframe tbody tr th:only-of-type {\n",
       "        vertical-align: middle;\n",
       "    }\n",
       "\n",
       "    .dataframe tbody tr th {\n",
       "        vertical-align: top;\n",
       "    }\n",
       "\n",
       "    .dataframe thead th {\n",
       "        text-align: right;\n",
       "    }\n",
       "</style>\n",
       "<table border=\"1\" class=\"dataframe\">\n",
       "  <thead>\n",
       "    <tr style=\"text-align: right;\">\n",
       "      <th></th>\n",
       "      <th>PassengerId</th>\n",
       "      <th>Survived</th>\n",
       "      <th>Pclass</th>\n",
       "      <th>Name</th>\n",
       "      <th>Sex</th>\n",
       "      <th>Age</th>\n",
       "      <th>SibSp</th>\n",
       "      <th>Parch</th>\n",
       "      <th>Ticket</th>\n",
       "      <th>Fare</th>\n",
       "      <th>Cabin</th>\n",
       "      <th>Embarked</th>\n",
       "      <th>Title</th>\n",
       "    </tr>\n",
       "  </thead>\n",
       "  <tbody>\n",
       "    <tr>\n",
       "      <th>0</th>\n",
       "      <td>1</td>\n",
       "      <td>0</td>\n",
       "      <td>3</td>\n",
       "      <td>Braund, Mr. Owen Harris</td>\n",
       "      <td>male</td>\n",
       "      <td>22.0</td>\n",
       "      <td>1</td>\n",
       "      <td>0</td>\n",
       "      <td>A/5 21171</td>\n",
       "      <td>7.2500</td>\n",
       "      <td>NaN</td>\n",
       "      <td>S</td>\n",
       "      <td>Mr</td>\n",
       "    </tr>\n",
       "    <tr>\n",
       "      <th>1</th>\n",
       "      <td>2</td>\n",
       "      <td>1</td>\n",
       "      <td>1</td>\n",
       "      <td>Cumings, Mrs. John Bradley (Florence Briggs Th...</td>\n",
       "      <td>female</td>\n",
       "      <td>38.0</td>\n",
       "      <td>1</td>\n",
       "      <td>0</td>\n",
       "      <td>PC 17599</td>\n",
       "      <td>71.2833</td>\n",
       "      <td>C85</td>\n",
       "      <td>C</td>\n",
       "      <td>Mrs</td>\n",
       "    </tr>\n",
       "    <tr>\n",
       "      <th>2</th>\n",
       "      <td>3</td>\n",
       "      <td>1</td>\n",
       "      <td>3</td>\n",
       "      <td>Heikkinen, Miss. Laina</td>\n",
       "      <td>female</td>\n",
       "      <td>26.0</td>\n",
       "      <td>0</td>\n",
       "      <td>0</td>\n",
       "      <td>STON/O2. 3101282</td>\n",
       "      <td>7.9250</td>\n",
       "      <td>NaN</td>\n",
       "      <td>S</td>\n",
       "      <td>Miss</td>\n",
       "    </tr>\n",
       "    <tr>\n",
       "      <th>3</th>\n",
       "      <td>4</td>\n",
       "      <td>1</td>\n",
       "      <td>1</td>\n",
       "      <td>Futrelle, Mrs. Jacques Heath (Lily May Peel)</td>\n",
       "      <td>female</td>\n",
       "      <td>35.0</td>\n",
       "      <td>1</td>\n",
       "      <td>0</td>\n",
       "      <td>113803</td>\n",
       "      <td>53.1000</td>\n",
       "      <td>C123</td>\n",
       "      <td>S</td>\n",
       "      <td>Mrs</td>\n",
       "    </tr>\n",
       "    <tr>\n",
       "      <th>4</th>\n",
       "      <td>5</td>\n",
       "      <td>0</td>\n",
       "      <td>3</td>\n",
       "      <td>Allen, Mr. William Henry</td>\n",
       "      <td>male</td>\n",
       "      <td>35.0</td>\n",
       "      <td>0</td>\n",
       "      <td>0</td>\n",
       "      <td>373450</td>\n",
       "      <td>8.0500</td>\n",
       "      <td>NaN</td>\n",
       "      <td>S</td>\n",
       "      <td>Mr</td>\n",
       "    </tr>\n",
       "  </tbody>\n",
       "</table>\n",
       "</div>"
      ],
      "text/plain": [
       "   PassengerId  Survived  Pclass  \\\n",
       "0            1         0       3   \n",
       "1            2         1       1   \n",
       "2            3         1       3   \n",
       "3            4         1       1   \n",
       "4            5         0       3   \n",
       "\n",
       "                                                Name     Sex   Age  SibSp  \\\n",
       "0                            Braund, Mr. Owen Harris    male  22.0      1   \n",
       "1  Cumings, Mrs. John Bradley (Florence Briggs Th...  female  38.0      1   \n",
       "2                             Heikkinen, Miss. Laina  female  26.0      0   \n",
       "3       Futrelle, Mrs. Jacques Heath (Lily May Peel)  female  35.0      1   \n",
       "4                           Allen, Mr. William Henry    male  35.0      0   \n",
       "\n",
       "   Parch            Ticket     Fare Cabin Embarked Title  \n",
       "0      0         A/5 21171   7.2500   NaN        S    Mr  \n",
       "1      0          PC 17599  71.2833   C85        C   Mrs  \n",
       "2      0  STON/O2. 3101282   7.9250   NaN        S  Miss  \n",
       "3      0            113803  53.1000  C123        S   Mrs  \n",
       "4      0            373450   8.0500   NaN        S    Mr  "
      ]
     },
     "execution_count": 49,
     "metadata": {},
     "output_type": "execute_result"
    }
   ],
   "source": [
    "train_df.head()"
   ]
  },
  {
   "cell_type": "code",
   "execution_count": 50,
   "id": "technological-console",
   "metadata": {
    "execution": {
     "iopub.execute_input": "2021-06-05T08:02:43.521851Z",
     "iopub.status.busy": "2021-06-05T08:02:43.521164Z",
     "iopub.status.idle": "2021-06-05T08:02:43.531140Z",
     "shell.execute_reply": "2021-06-05T08:02:43.531643Z",
     "shell.execute_reply.started": "2021-06-05T07:20:18.971959Z"
    },
    "papermill": {
     "duration": 0.117408,
     "end_time": "2021-06-05T08:02:43.531822",
     "exception": false,
     "start_time": "2021-06-05T08:02:43.414414",
     "status": "completed"
    },
    "tags": []
   },
   "outputs": [
    {
     "data": {
      "text/html": [
       "<div>\n",
       "<style scoped>\n",
       "    .dataframe tbody tr th:only-of-type {\n",
       "        vertical-align: middle;\n",
       "    }\n",
       "\n",
       "    .dataframe tbody tr th {\n",
       "        vertical-align: top;\n",
       "    }\n",
       "\n",
       "    .dataframe thead th {\n",
       "        text-align: right;\n",
       "    }\n",
       "</style>\n",
       "<table border=\"1\" class=\"dataframe\">\n",
       "  <thead>\n",
       "    <tr style=\"text-align: right;\">\n",
       "      <th></th>\n",
       "      <th>Title</th>\n",
       "    </tr>\n",
       "  </thead>\n",
       "  <tbody>\n",
       "    <tr>\n",
       "      <th>Mr</th>\n",
       "      <td>517</td>\n",
       "    </tr>\n",
       "    <tr>\n",
       "      <th>Miss</th>\n",
       "      <td>182</td>\n",
       "    </tr>\n",
       "    <tr>\n",
       "      <th>Mrs</th>\n",
       "      <td>125</td>\n",
       "    </tr>\n",
       "    <tr>\n",
       "      <th>Master</th>\n",
       "      <td>40</td>\n",
       "    </tr>\n",
       "    <tr>\n",
       "      <th>Dr</th>\n",
       "      <td>7</td>\n",
       "    </tr>\n",
       "    <tr>\n",
       "      <th>Rev</th>\n",
       "      <td>6</td>\n",
       "    </tr>\n",
       "    <tr>\n",
       "      <th>Major</th>\n",
       "      <td>2</td>\n",
       "    </tr>\n",
       "    <tr>\n",
       "      <th>Col</th>\n",
       "      <td>2</td>\n",
       "    </tr>\n",
       "    <tr>\n",
       "      <th>Mlle</th>\n",
       "      <td>2</td>\n",
       "    </tr>\n",
       "    <tr>\n",
       "      <th>Lady</th>\n",
       "      <td>1</td>\n",
       "    </tr>\n",
       "    <tr>\n",
       "      <th>the Countess</th>\n",
       "      <td>1</td>\n",
       "    </tr>\n",
       "    <tr>\n",
       "      <th>Ms</th>\n",
       "      <td>1</td>\n",
       "    </tr>\n",
       "    <tr>\n",
       "      <th>Jonkheer</th>\n",
       "      <td>1</td>\n",
       "    </tr>\n",
       "    <tr>\n",
       "      <th>Mme</th>\n",
       "      <td>1</td>\n",
       "    </tr>\n",
       "    <tr>\n",
       "      <th>Don</th>\n",
       "      <td>1</td>\n",
       "    </tr>\n",
       "    <tr>\n",
       "      <th>Sir</th>\n",
       "      <td>1</td>\n",
       "    </tr>\n",
       "    <tr>\n",
       "      <th>Capt</th>\n",
       "      <td>1</td>\n",
       "    </tr>\n",
       "  </tbody>\n",
       "</table>\n",
       "</div>"
      ],
      "text/plain": [
       "              Title\n",
       "Mr              517\n",
       "Miss            182\n",
       "Mrs             125\n",
       "Master           40\n",
       "Dr                7\n",
       "Rev               6\n",
       "Major             2\n",
       "Col               2\n",
       "Mlle              2\n",
       "Lady              1\n",
       "the Countess      1\n",
       "Ms                1\n",
       "Jonkheer          1\n",
       "Mme               1\n",
       "Don               1\n",
       "Sir               1\n",
       "Capt              1"
      ]
     },
     "execution_count": 50,
     "metadata": {},
     "output_type": "execute_result"
    }
   ],
   "source": [
    "train_df['Title'].value_counts().to_frame()"
   ]
  },
  {
   "cell_type": "code",
   "execution_count": 51,
   "id": "generic-kitchen",
   "metadata": {
    "execution": {
     "iopub.execute_input": "2021-06-05T08:02:43.747000Z",
     "iopub.status.busy": "2021-06-05T08:02:43.746343Z",
     "iopub.status.idle": "2021-06-05T08:02:43.970705Z",
     "shell.execute_reply": "2021-06-05T08:02:43.971169Z",
     "shell.execute_reply.started": "2021-06-05T07:20:54.926601Z"
    },
    "papermill": {
     "duration": 0.333804,
     "end_time": "2021-06-05T08:02:43.971341",
     "exception": false,
     "start_time": "2021-06-05T08:02:43.637537",
     "status": "completed"
    },
    "tags": []
   },
   "outputs": [
    {
     "name": "stderr",
     "output_type": "stream",
     "text": [
      "/opt/conda/lib/python3.7/site-packages/seaborn/_decorators.py:43: FutureWarning: Pass the following variable as a keyword arg: x. From version 0.12, the only valid positional argument will be `data`, and passing other arguments without an explicit keyword will result in an error or misinterpretation.\n",
      "  FutureWarning\n"
     ]
    },
    {
     "data": {
      "image/png": "[encoded data removed]",
      "text/plain": [
       "<Figure size 1080x216 with 1 Axes>"
      ]
     },
     "metadata": {
      "needs_background": "light"
     },
     "output_type": "display_data"
    }
   ],
   "source": [
    "show_countplot(train_df, 'Title', 'Title Distribution', (15,3))"
   ]
  },
  {
   "cell_type": "code",
   "execution_count": 52,
   "id": "solved-temple",
   "metadata": {
    "execution": {
     "iopub.execute_input": "2021-06-05T08:02:44.197688Z",
     "iopub.status.busy": "2021-06-05T08:02:44.196986Z",
     "iopub.status.idle": "2021-06-05T08:02:44.199981Z",
     "shell.execute_reply": "2021-06-05T08:02:44.199452Z",
     "shell.execute_reply.started": "2021-06-05T07:23:48.874659Z"
    },
    "papermill": {
     "duration": 0.121142,
     "end_time": "2021-06-05T08:02:44.200118",
     "exception": false,
     "start_time": "2021-06-05T08:02:44.078976",
     "status": "completed"
    },
    "tags": []
   },
   "outputs": [],
   "source": [
    "train_df['Title'].replace(['Mme', 'Ms', 'Lady', 'Mlle', 'the Countess', 'Dona'], 'Miss', inplace = True)\n",
    "test_df['Title'].replace(['Mme', 'Ms', 'Lady', 'Mlle', 'the Countess', 'Dona'], 'Miss', inplace = True)\n",
    "train_df['Title'].replace(['Major', 'Col', 'Capt', 'Don', 'Sir', 'Jonkheer'], 'Mr', inplace = True)\n",
    "test_df['Title'].replace(['Major', 'Col', 'Capt', 'Don', 'Sir', 'Jonkheer'], 'Mr', inplace = True)"
   ]
  },
  {
   "cell_type": "code",
   "execution_count": 53,
   "id": "polish-gamma",
   "metadata": {
    "execution": {
     "iopub.execute_input": "2021-06-05T08:02:44.449933Z",
     "iopub.status.busy": "2021-06-05T08:02:44.449253Z",
     "iopub.status.idle": "2021-06-05T08:02:44.574128Z",
     "shell.execute_reply": "2021-06-05T08:02:44.574642Z",
     "shell.execute_reply.started": "2021-06-05T07:24:20.946647Z"
    },
    "papermill": {
     "duration": 0.269632,
     "end_time": "2021-06-05T08:02:44.574819",
     "exception": false,
     "start_time": "2021-06-05T08:02:44.305187",
     "status": "completed"
    },
    "tags": []
   },
   "outputs": [
    {
     "name": "stderr",
     "output_type": "stream",
     "text": [
      "/opt/conda/lib/python3.7/site-packages/seaborn/_decorators.py:43: FutureWarning: Pass the following variable as a keyword arg: x. From version 0.12, the only valid positional argument will be `data`, and passing other arguments without an explicit keyword will result in an error or misinterpretation.\n",
      "  FutureWarning\n"
     ]
    },
    {
     "data": {
      "image/png": "[encoded data removed]",
      "text/plain": [
       "<Figure size 1080x216 with 1 Axes>"
      ]
     },
     "metadata": {
      "needs_background": "light"
     },
     "output_type": "display_data"
    }
   ],
   "source": [
    "show_countplot(train_df, 'Title', 'Title Distribution after Substitution', (15,3))"
   ]
  },
  {
   "cell_type": "code",
   "execution_count": 54,
   "id": "better-hygiene",
   "metadata": {
    "execution": {
     "iopub.execute_input": "2021-06-05T08:02:44.833140Z",
     "iopub.status.busy": "2021-06-05T08:02:44.826218Z",
     "iopub.status.idle": "2021-06-05T08:02:44.987353Z",
     "shell.execute_reply": "2021-06-05T08:02:44.986848Z",
     "shell.execute_reply.started": "2021-06-05T07:24:41.437306Z"
    },
    "papermill": {
     "duration": 0.305562,
     "end_time": "2021-06-05T08:02:44.987504",
     "exception": false,
     "start_time": "2021-06-05T08:02:44.681942",
     "status": "completed"
    },
    "tags": []
   },
   "outputs": [
    {
     "data": {
      "image/png": "[encoded data removed]",
      "text/plain": [
       "<Figure size 360x360 with 1 Axes>"
      ]
     },
     "metadata": {
      "needs_background": "light"
     },
     "output_type": "display_data"
    }
   ],
   "source": [
    "bar_chart_stacked(train_df, 'Title')"
   ]
  },
  {
   "cell_type": "code",
   "execution_count": 55,
   "id": "loaded-address",
   "metadata": {
    "execution": {
     "iopub.execute_input": "2021-06-05T08:02:45.226246Z",
     "iopub.status.busy": "2021-06-05T08:02:45.225583Z",
     "iopub.status.idle": "2021-06-05T08:02:45.366018Z",
     "shell.execute_reply": "2021-06-05T08:02:45.365427Z",
     "shell.execute_reply.started": "2021-06-05T07:25:25.972375Z"
    },
    "papermill": {
     "duration": 0.270809,
     "end_time": "2021-06-05T08:02:45.366168",
     "exception": false,
     "start_time": "2021-06-05T08:02:45.095359",
     "status": "completed"
    },
    "tags": []
   },
   "outputs": [
    {
     "data": {
      "image/png": "[encoded data removed]",
      "text/plain": [
       "<Figure size 360x360 with 1 Axes>"
      ]
     },
     "metadata": {
      "needs_background": "light"
     },
     "output_type": "display_data"
    }
   ],
   "source": [
    "bar_chart_compare(train_df, \"Title\", title = 'Survival rate by Title')"
   ]
  },
  {
   "cell_type": "markdown",
   "id": "lucky-jewel",
   "metadata": {
    "papermill": {
     "duration": 0.11118,
     "end_time": "2021-06-05T08:02:45.589503",
     "exception": false,
     "start_time": "2021-06-05T08:02:45.478323",
     "status": "completed"
    },
    "tags": []
   },
   "source": [
    "**Observation:**\n",
    "* Female titles have higher survival rate\n",
    "* Master and Dr have high survival rate even though both are male titles\n",
    "* All reverends died"
   ]
  },
  {
   "cell_type": "markdown",
   "id": "sorted-boston",
   "metadata": {
    "papermill": {
     "duration": 0.107442,
     "end_time": "2021-06-05T08:02:45.804644",
     "exception": false,
     "start_time": "2021-06-05T08:02:45.697202",
     "status": "completed"
    },
    "tags": []
   },
   "source": [
    "## 3.2 Cabin and Ticket"
   ]
  },
  {
   "cell_type": "code",
   "execution_count": 56,
   "id": "random-gnome",
   "metadata": {
    "execution": {
     "iopub.execute_input": "2021-06-05T08:02:46.037114Z",
     "iopub.status.busy": "2021-06-05T08:02:46.036423Z",
     "iopub.status.idle": "2021-06-05T08:02:46.041314Z",
     "shell.execute_reply": "2021-06-05T08:02:46.040767Z",
     "shell.execute_reply.started": "2021-06-05T07:27:16.303533Z"
    },
    "papermill": {
     "duration": 0.127991,
     "end_time": "2021-06-05T08:02:46.041458",
     "exception": false,
     "start_time": "2021-06-05T08:02:45.913467",
     "status": "completed"
    },
    "tags": []
   },
   "outputs": [
    {
     "data": {
      "text/html": [
       "<div>\n",
       "<style scoped>\n",
       "    .dataframe tbody tr th:only-of-type {\n",
       "        vertical-align: middle;\n",
       "    }\n",
       "\n",
       "    .dataframe tbody tr th {\n",
       "        vertical-align: top;\n",
       "    }\n",
       "\n",
       "    .dataframe thead th {\n",
       "        text-align: right;\n",
       "    }\n",
       "</style>\n",
       "<table border=\"1\" class=\"dataframe\">\n",
       "  <thead>\n",
       "    <tr style=\"text-align: right;\">\n",
       "      <th></th>\n",
       "      <th>Cabin</th>\n",
       "      <th>Ticket</th>\n",
       "    </tr>\n",
       "  </thead>\n",
       "  <tbody>\n",
       "    <tr>\n",
       "      <th>0</th>\n",
       "      <td>NaN</td>\n",
       "      <td>A/5 21171</td>\n",
       "    </tr>\n",
       "    <tr>\n",
       "      <th>1</th>\n",
       "      <td>C85</td>\n",
       "      <td>PC 17599</td>\n",
       "    </tr>\n",
       "    <tr>\n",
       "      <th>2</th>\n",
       "      <td>NaN</td>\n",
       "      <td>STON/O2. 3101282</td>\n",
       "    </tr>\n",
       "    <tr>\n",
       "      <th>3</th>\n",
       "      <td>C123</td>\n",
       "      <td>113803</td>\n",
       "    </tr>\n",
       "    <tr>\n",
       "      <th>4</th>\n",
       "      <td>NaN</td>\n",
       "      <td>373450</td>\n",
       "    </tr>\n",
       "    <tr>\n",
       "      <th>...</th>\n",
       "      <td>...</td>\n",
       "      <td>...</td>\n",
       "    </tr>\n",
       "    <tr>\n",
       "      <th>886</th>\n",
       "      <td>NaN</td>\n",
       "      <td>211536</td>\n",
       "    </tr>\n",
       "    <tr>\n",
       "      <th>887</th>\n",
       "      <td>B42</td>\n",
       "      <td>112053</td>\n",
       "    </tr>\n",
       "    <tr>\n",
       "      <th>888</th>\n",
       "      <td>NaN</td>\n",
       "      <td>W./C. 6607</td>\n",
       "    </tr>\n",
       "    <tr>\n",
       "      <th>889</th>\n",
       "      <td>C148</td>\n",
       "      <td>111369</td>\n",
       "    </tr>\n",
       "    <tr>\n",
       "      <th>890</th>\n",
       "      <td>NaN</td>\n",
       "      <td>370376</td>\n",
       "    </tr>\n",
       "  </tbody>\n",
       "</table>\n",
       "<p>891 rows × 2 columns</p>\n",
       "</div>"
      ],
      "text/plain": [
       "    Cabin            Ticket\n",
       "0     NaN         A/5 21171\n",
       "1     C85          PC 17599\n",
       "2     NaN  STON/O2. 3101282\n",
       "3    C123            113803\n",
       "4     NaN            373450\n",
       "..    ...               ...\n",
       "886   NaN            211536\n",
       "887   B42            112053\n",
       "888   NaN        W./C. 6607\n",
       "889  C148            111369\n",
       "890   NaN            370376\n",
       "\n",
       "[891 rows x 2 columns]"
      ]
     },
     "execution_count": 56,
     "metadata": {},
     "output_type": "execute_result"
    }
   ],
   "source": [
    "train_df[['Cabin', 'Ticket']]"
   ]
  },
  {
   "cell_type": "markdown",
   "id": "behind-first",
   "metadata": {
    "papermill": {
     "duration": 0.107602,
     "end_time": "2021-06-05T08:02:46.262668",
     "exception": false,
     "start_time": "2021-06-05T08:02:46.155066",
     "status": "completed"
    },
    "tags": []
   },
   "source": [
    "**Observation:**\n",
    "Cabins contains a lot of Nans and tickets doesn't provide any useful information\n",
    "\n",
    "But what we can try to do:\n",
    "* Extract two leading letters to create new feature\n",
    "* Extract number of letter in ticket to create new feature\n",
    "* Extract number of cabins used\n",
    "* Extract cabin letter"
   ]
  },
  {
   "cell_type": "code",
   "execution_count": 57,
   "id": "varied-music",
   "metadata": {
    "execution": {
     "iopub.execute_input": "2021-06-05T08:02:46.486584Z",
     "iopub.status.busy": "2021-06-05T08:02:46.485900Z",
     "iopub.status.idle": "2021-06-05T08:02:46.490623Z",
     "shell.execute_reply": "2021-06-05T08:02:46.491093Z",
     "shell.execute_reply.started": "2021-06-05T07:31:08.777818Z"
    },
    "papermill": {
     "duration": 0.119476,
     "end_time": "2021-06-05T08:02:46.491271",
     "exception": false,
     "start_time": "2021-06-05T08:02:46.371795",
     "status": "completed"
    },
    "tags": []
   },
   "outputs": [],
   "source": [
    "# Extract Leading Letter:\n",
    "train_df['Ticket_2letter'] = train_df.Ticket.apply(lambda x:x[:2])\n",
    "test_df['Ticket_2letter'] = train_df.Ticket.apply(lambda x:x[:2])"
   ]
  },
  {
   "cell_type": "code",
   "execution_count": 58,
   "id": "invisible-franchise",
   "metadata": {
    "execution": {
     "iopub.execute_input": "2021-06-05T08:02:46.713628Z",
     "iopub.status.busy": "2021-06-05T08:02:46.712963Z",
     "iopub.status.idle": "2021-06-05T08:02:46.721248Z",
     "shell.execute_reply": "2021-06-05T08:02:46.720640Z",
     "shell.execute_reply.started": "2021-06-05T07:32:20.870228Z"
    },
    "papermill": {
     "duration": 0.120113,
     "end_time": "2021-06-05T08:02:46.721386",
     "exception": false,
     "start_time": "2021-06-05T08:02:46.601273",
     "status": "completed"
    },
    "tags": []
   },
   "outputs": [],
   "source": [
    "# Extract Ticket Length:\n",
    "train_df['Ticket_len'] = train_df.Ticket.apply(lambda x: len(x))\n",
    "test_df['Ticket_len'] = test_df.Ticket.apply(lambda x: len(x))"
   ]
  },
  {
   "cell_type": "code",
   "execution_count": 59,
   "id": "mysterious-devices",
   "metadata": {
    "execution": {
     "iopub.execute_input": "2021-06-05T08:02:46.943997Z",
     "iopub.status.busy": "2021-06-05T08:02:46.943370Z",
     "iopub.status.idle": "2021-06-05T08:02:46.950549Z",
     "shell.execute_reply": "2021-06-05T08:02:46.951035Z",
     "shell.execute_reply.started": "2021-06-05T07:33:19.879281Z"
    },
    "papermill": {
     "duration": 0.119504,
     "end_time": "2021-06-05T08:02:46.951202",
     "exception": false,
     "start_time": "2021-06-05T08:02:46.831698",
     "status": "completed"
    },
    "tags": []
   },
   "outputs": [],
   "source": [
    "# Extract Number of Cabins:\n",
    "train_df['Cabin_num'] = train_df.Ticket.apply(lambda x: len(x.split()))\n",
    "test_df['Cabin_num'] = test_df.Ticket.apply(lambda x: len(x.split()))\n"
   ]
  },
  {
   "cell_type": "code",
   "execution_count": 60,
   "id": "respected-shareware",
   "metadata": {
    "execution": {
     "iopub.execute_input": "2021-06-05T08:02:47.173301Z",
     "iopub.status.busy": "2021-06-05T08:02:47.172308Z",
     "iopub.status.idle": "2021-06-05T08:02:47.179622Z",
     "shell.execute_reply": "2021-06-05T08:02:47.180087Z",
     "shell.execute_reply.started": "2021-06-05T07:34:13.400168Z"
    },
    "papermill": {
     "duration": 0.119844,
     "end_time": "2021-06-05T08:02:47.180275",
     "exception": false,
     "start_time": "2021-06-05T08:02:47.060431",
     "status": "completed"
    },
    "tags": []
   },
   "outputs": [],
   "source": [
    "# Extract Leading Letter:\n",
    "train_df['Cabin_1letter'] = train_df.Ticket.apply(lambda x: x[:1])\n",
    "test_df['Cabin_num'] = test_df.Ticket.apply(lambda x: len(x.split()))\n"
   ]
  },
  {
   "cell_type": "markdown",
   "id": "certified-pitch",
   "metadata": {
    "papermill": {
     "duration": 0.110023,
     "end_time": "2021-06-05T08:02:47.398391",
     "exception": false,
     "start_time": "2021-06-05T08:02:47.288368",
     "status": "completed"
    },
    "tags": []
   },
   "source": []
  },
  {
   "cell_type": "markdown",
   "id": "anonymous-channels",
   "metadata": {
    "papermill": {
     "duration": 0.110285,
     "end_time": "2021-06-05T08:02:47.616694",
     "exception": false,
     "start_time": "2021-06-05T08:02:47.506409",
     "status": "completed"
    },
    "tags": []
   },
   "source": [
    "**Investigation Results:**\n",
    "Tickets"
   ]
  },
  {
   "cell_type": "code",
   "execution_count": 61,
   "id": "serial-holocaust",
   "metadata": {
    "execution": {
     "iopub.execute_input": "2021-06-05T08:02:47.839496Z",
     "iopub.status.busy": "2021-06-05T08:02:47.838420Z",
     "iopub.status.idle": "2021-06-05T08:02:47.848866Z",
     "shell.execute_reply": "2021-06-05T08:02:47.848123Z",
     "shell.execute_reply.started": "2021-06-05T07:35:52.450695Z"
    },
    "papermill": {
     "duration": 0.122703,
     "end_time": "2021-06-05T08:02:47.849013",
     "exception": false,
     "start_time": "2021-06-05T08:02:47.726310",
     "status": "completed"
    },
    "tags": []
   },
   "outputs": [
    {
     "data": {
      "text/plain": [
       "681"
      ]
     },
     "execution_count": 61,
     "metadata": {},
     "output_type": "execute_result"
    }
   ],
   "source": [
    "len(train_df['Ticket'].value_counts().to_frame())"
   ]
  },
  {
   "cell_type": "code",
   "execution_count": 62,
   "id": "material-workplace",
   "metadata": {
    "execution": {
     "iopub.execute_input": "2021-06-05T08:02:48.082410Z",
     "iopub.status.busy": "2021-06-05T08:02:48.081023Z",
     "iopub.status.idle": "2021-06-05T08:02:48.085181Z",
     "shell.execute_reply": "2021-06-05T08:02:48.084596Z",
     "shell.execute_reply.started": "2021-06-05T07:36:17.760094Z"
    },
    "papermill": {
     "duration": 0.122738,
     "end_time": "2021-06-05T08:02:48.085347",
     "exception": false,
     "start_time": "2021-06-05T08:02:47.962609",
     "status": "completed"
    },
    "tags": []
   },
   "outputs": [
    {
     "data": {
      "text/plain": [
       "56"
      ]
     },
     "execution_count": 62,
     "metadata": {},
     "output_type": "execute_result"
    }
   ],
   "source": [
    "len(train_df[\"Ticket_2letter\"].value_counts().to_frame())"
   ]
  },
  {
   "cell_type": "code",
   "execution_count": 63,
   "id": "introductory-triple",
   "metadata": {
    "execution": {
     "iopub.execute_input": "2021-06-05T08:02:48.314160Z",
     "iopub.status.busy": "2021-06-05T08:02:48.313409Z",
     "iopub.status.idle": "2021-06-05T08:02:48.317632Z",
     "shell.execute_reply": "2021-06-05T08:02:48.317065Z",
     "shell.execute_reply.started": "2021-06-05T07:36:41.197697Z"
    },
    "papermill": {
     "duration": 0.121339,
     "end_time": "2021-06-05T08:02:48.317781",
     "exception": false,
     "start_time": "2021-06-05T08:02:48.196442",
     "status": "completed"
    },
    "tags": []
   },
   "outputs": [
    {
     "data": {
      "text/plain": [
       "15"
      ]
     },
     "execution_count": 63,
     "metadata": {},
     "output_type": "execute_result"
    }
   ],
   "source": [
    "len(train_df[\"Ticket_len\"].value_counts().to_frame())"
   ]
  },
  {
   "cell_type": "code",
   "execution_count": 64,
   "id": "christian-conversation",
   "metadata": {
    "execution": {
     "iopub.execute_input": "2021-06-05T08:02:48.560362Z",
     "iopub.status.busy": "2021-06-05T08:02:48.559728Z",
     "iopub.status.idle": "2021-06-05T08:02:48.564180Z",
     "shell.execute_reply": "2021-06-05T08:02:48.564644Z",
     "shell.execute_reply.started": "2021-06-05T07:37:36.118172Z"
    },
    "papermill": {
     "duration": 0.136428,
     "end_time": "2021-06-05T08:02:48.564829",
     "exception": false,
     "start_time": "2021-06-05T08:02:48.428401",
     "status": "completed"
    },
    "tags": []
   },
   "outputs": [
    {
     "data": {
      "text/html": [
       "<div>\n",
       "<style scoped>\n",
       "    .dataframe tbody tr th:only-of-type {\n",
       "        vertical-align: middle;\n",
       "    }\n",
       "\n",
       "    .dataframe tbody tr th {\n",
       "        vertical-align: top;\n",
       "    }\n",
       "\n",
       "    .dataframe thead th {\n",
       "        text-align: right;\n",
       "    }\n",
       "</style>\n",
       "<table border=\"1\" class=\"dataframe\">\n",
       "  <thead>\n",
       "    <tr style=\"text-align: right;\">\n",
       "      <th></th>\n",
       "      <th>PassengerId</th>\n",
       "      <th>Survived</th>\n",
       "      <th>Pclass</th>\n",
       "      <th>Name</th>\n",
       "      <th>Sex</th>\n",
       "      <th>Age</th>\n",
       "      <th>SibSp</th>\n",
       "      <th>Parch</th>\n",
       "      <th>Ticket</th>\n",
       "      <th>Fare</th>\n",
       "      <th>Cabin</th>\n",
       "      <th>Embarked</th>\n",
       "      <th>Title</th>\n",
       "      <th>Ticket_2letter</th>\n",
       "      <th>Ticket_len</th>\n",
       "      <th>Cabin_num</th>\n",
       "      <th>Cabin_1letter</th>\n",
       "    </tr>\n",
       "  </thead>\n",
       "  <tbody>\n",
       "    <tr>\n",
       "      <th>0</th>\n",
       "      <td>1</td>\n",
       "      <td>0</td>\n",
       "      <td>3</td>\n",
       "      <td>Braund, Mr. Owen Harris</td>\n",
       "      <td>male</td>\n",
       "      <td>22.0</td>\n",
       "      <td>1</td>\n",
       "      <td>0</td>\n",
       "      <td>A/5 21171</td>\n",
       "      <td>7.2500</td>\n",
       "      <td>NaN</td>\n",
       "      <td>S</td>\n",
       "      <td>Mr</td>\n",
       "      <td>A/</td>\n",
       "      <td>9</td>\n",
       "      <td>2</td>\n",
       "      <td>A</td>\n",
       "    </tr>\n",
       "    <tr>\n",
       "      <th>1</th>\n",
       "      <td>2</td>\n",
       "      <td>1</td>\n",
       "      <td>1</td>\n",
       "      <td>Cumings, Mrs. John Bradley (Florence Briggs Th...</td>\n",
       "      <td>female</td>\n",
       "      <td>38.0</td>\n",
       "      <td>1</td>\n",
       "      <td>0</td>\n",
       "      <td>PC 17599</td>\n",
       "      <td>71.2833</td>\n",
       "      <td>C85</td>\n",
       "      <td>C</td>\n",
       "      <td>Mrs</td>\n",
       "      <td>PC</td>\n",
       "      <td>8</td>\n",
       "      <td>2</td>\n",
       "      <td>P</td>\n",
       "    </tr>\n",
       "    <tr>\n",
       "      <th>2</th>\n",
       "      <td>3</td>\n",
       "      <td>1</td>\n",
       "      <td>3</td>\n",
       "      <td>Heikkinen, Miss. Laina</td>\n",
       "      <td>female</td>\n",
       "      <td>26.0</td>\n",
       "      <td>0</td>\n",
       "      <td>0</td>\n",
       "      <td>STON/O2. 3101282</td>\n",
       "      <td>7.9250</td>\n",
       "      <td>NaN</td>\n",
       "      <td>S</td>\n",
       "      <td>Miss</td>\n",
       "      <td>ST</td>\n",
       "      <td>16</td>\n",
       "      <td>2</td>\n",
       "      <td>S</td>\n",
       "    </tr>\n",
       "    <tr>\n",
       "      <th>3</th>\n",
       "      <td>4</td>\n",
       "      <td>1</td>\n",
       "      <td>1</td>\n",
       "      <td>Futrelle, Mrs. Jacques Heath (Lily May Peel)</td>\n",
       "      <td>female</td>\n",
       "      <td>35.0</td>\n",
       "      <td>1</td>\n",
       "      <td>0</td>\n",
       "      <td>113803</td>\n",
       "      <td>53.1000</td>\n",
       "      <td>C123</td>\n",
       "      <td>S</td>\n",
       "      <td>Mrs</td>\n",
       "      <td>11</td>\n",
       "      <td>6</td>\n",
       "      <td>1</td>\n",
       "      <td>1</td>\n",
       "    </tr>\n",
       "    <tr>\n",
       "      <th>4</th>\n",
       "      <td>5</td>\n",
       "      <td>0</td>\n",
       "      <td>3</td>\n",
       "      <td>Allen, Mr. William Henry</td>\n",
       "      <td>male</td>\n",
       "      <td>35.0</td>\n",
       "      <td>0</td>\n",
       "      <td>0</td>\n",
       "      <td>373450</td>\n",
       "      <td>8.0500</td>\n",
       "      <td>NaN</td>\n",
       "      <td>S</td>\n",
       "      <td>Mr</td>\n",
       "      <td>37</td>\n",
       "      <td>6</td>\n",
       "      <td>1</td>\n",
       "      <td>3</td>\n",
       "    </tr>\n",
       "  </tbody>\n",
       "</table>\n",
       "</div>"
      ],
      "text/plain": [
       "   PassengerId  Survived  Pclass  \\\n",
       "0            1         0       3   \n",
       "1            2         1       1   \n",
       "2            3         1       3   \n",
       "3            4         1       1   \n",
       "4            5         0       3   \n",
       "\n",
       "                                                Name     Sex   Age  SibSp  \\\n",
       "0                            Braund, Mr. Owen Harris    male  22.0      1   \n",
       "1  Cumings, Mrs. John Bradley (Florence Briggs Th...  female  38.0      1   \n",
       "2                             Heikkinen, Miss. Laina  female  26.0      0   \n",
       "3       Futrelle, Mrs. Jacques Heath (Lily May Peel)  female  35.0      1   \n",
       "4                           Allen, Mr. William Henry    male  35.0      0   \n",
       "\n",
       "   Parch            Ticket     Fare Cabin Embarked Title Ticket_2letter  \\\n",
       "0      0         A/5 21171   7.2500   NaN        S    Mr             A/   \n",
       "1      0          PC 17599  71.2833   C85        C   Mrs             PC   \n",
       "2      0  STON/O2. 3101282   7.9250   NaN        S  Miss             ST   \n",
       "3      0            113803  53.1000  C123        S   Mrs             11   \n",
       "4      0            373450   8.0500   NaN        S    Mr             37   \n",
       "\n",
       "   Ticket_len  Cabin_num Cabin_1letter  \n",
       "0           9          2             A  \n",
       "1           8          2             P  \n",
       "2          16          2             S  \n",
       "3           6          1             1  \n",
       "4           6          1             3  "
      ]
     },
     "execution_count": 64,
     "metadata": {},
     "output_type": "execute_result"
    }
   ],
   "source": [
    "train_df.head()"
   ]
  },
  {
   "cell_type": "markdown",
   "id": "organic-suspension",
   "metadata": {
    "papermill": {
     "duration": 0.109423,
     "end_time": "2021-06-05T08:02:48.784365",
     "exception": false,
     "start_time": "2021-06-05T08:02:48.674942",
     "status": "completed"
    },
    "tags": []
   },
   "source": [
    "## 3.3 Feature Family Size"
   ]
  },
  {
   "cell_type": "code",
   "execution_count": 65,
   "id": "marine-ghana",
   "metadata": {
    "execution": {
     "iopub.execute_input": "2021-06-05T08:02:49.012637Z",
     "iopub.status.busy": "2021-06-05T08:02:49.011960Z",
     "iopub.status.idle": "2021-06-05T08:02:49.014775Z",
     "shell.execute_reply": "2021-06-05T08:02:49.015222Z",
     "shell.execute_reply.started": "2021-06-05T07:39:19.495954Z"
    },
    "papermill": {
     "duration": 0.120159,
     "end_time": "2021-06-05T08:02:49.015410",
     "exception": false,
     "start_time": "2021-06-05T08:02:48.895251",
     "status": "completed"
    },
    "tags": []
   },
   "outputs": [],
   "source": [
    "train_df['Fam_size'] = train_df['SibSp'] + train_df['Parch'] + 1\n",
    "test_df['Fam_size'] = test_df['SibSp'] + test_df['Parch'] + 1"
   ]
  },
  {
   "cell_type": "code",
   "execution_count": 66,
   "id": "written-thanksgiving",
   "metadata": {
    "execution": {
     "iopub.execute_input": "2021-06-05T08:02:49.265363Z",
     "iopub.status.busy": "2021-06-05T08:02:49.259729Z",
     "iopub.status.idle": "2021-06-05T08:02:49.421622Z",
     "shell.execute_reply": "2021-06-05T08:02:49.420987Z",
     "shell.execute_reply.started": "2021-06-05T07:39:57.016162Z"
    },
    "papermill": {
     "duration": 0.294309,
     "end_time": "2021-06-05T08:02:49.421764",
     "exception": false,
     "start_time": "2021-06-05T08:02:49.127455",
     "status": "completed"
    },
    "tags": []
   },
   "outputs": [
    {
     "data": {
      "image/png": "[encoded data removed]",
      "text/plain": [
       "<Figure size 360x360 with 1 Axes>"
      ]
     },
     "metadata": {
      "needs_background": "light"
     },
     "output_type": "display_data"
    }
   ],
   "source": [
    "bar_chart_compare(train_df, \"Fam_size\", title = \"Survival rate by family size\")"
   ]
  },
  {
   "cell_type": "code",
   "execution_count": 67,
   "id": "racial-biology",
   "metadata": {
    "execution": {
     "iopub.execute_input": "2021-06-05T08:02:49.673220Z",
     "iopub.status.busy": "2021-06-05T08:02:49.668879Z",
     "iopub.status.idle": "2021-06-05T08:02:49.888343Z",
     "shell.execute_reply": "2021-06-05T08:02:49.888890Z",
     "shell.execute_reply.started": "2021-06-05T07:40:31.673977Z"
    },
    "papermill": {
     "duration": 0.354797,
     "end_time": "2021-06-05T08:02:49.889060",
     "exception": false,
     "start_time": "2021-06-05T08:02:49.534263",
     "status": "completed"
    },
    "tags": []
   },
   "outputs": [
    {
     "data": {
      "image/png": "[encoded data removed]",
      "text/plain": [
       "<Figure size 360x360 with 1 Axes>"
      ]
     },
     "metadata": {
      "needs_background": "light"
     },
     "output_type": "display_data"
    }
   ],
   "source": [
    "show_compare_countplot(train_df, \"Fam_size\", \"Survived\", \"Survivor count by family size\")"
   ]
  },
  {
   "cell_type": "markdown",
   "id": "bright-blind",
   "metadata": {
    "papermill": {
     "duration": 0.121673,
     "end_time": "2021-06-05T08:02:50.127112",
     "exception": false,
     "start_time": "2021-06-05T08:02:50.005439",
     "status": "completed"
    },
    "tags": []
   },
   "source": [
    "## 3.4 Feature Family Type\n",
    "Create four groups for family size"
   ]
  },
  {
   "cell_type": "code",
   "execution_count": 68,
   "id": "million-chicken",
   "metadata": {
    "execution": {
     "iopub.execute_input": "2021-06-05T08:02:50.371992Z",
     "iopub.status.busy": "2021-06-05T08:02:50.371318Z",
     "iopub.status.idle": "2021-06-05T08:02:50.373993Z",
     "shell.execute_reply": "2021-06-05T08:02:50.373349Z",
     "shell.execute_reply.started": "2021-06-05T07:42:40.937041Z"
    },
    "papermill": {
     "duration": 0.131599,
     "end_time": "2021-06-05T08:02:50.374143",
     "exception": false,
     "start_time": "2021-06-05T08:02:50.242544",
     "status": "completed"
    },
    "tags": []
   },
   "outputs": [],
   "source": [
    "train_df['Fam_type'] = pd.cut(train_df.Fam_size, [0,1,4,7,11], labels = ['Solo', 'Small', 'Big', 'Very Big'])\n",
    "test_df['Fam_type'] = pd.cut(test_df.Fam_size, [0,1,4,7,11], labels = ['Solo', 'Small', 'Big', 'Very Big'])"
   ]
  },
  {
   "cell_type": "code",
   "execution_count": 69,
   "id": "fancy-burner",
   "metadata": {
    "execution": {
     "iopub.execute_input": "2021-06-05T08:02:50.645480Z",
     "iopub.status.busy": "2021-06-05T08:02:50.644711Z",
     "iopub.status.idle": "2021-06-05T08:02:50.757979Z",
     "shell.execute_reply": "2021-06-05T08:02:50.758442Z",
     "shell.execute_reply.started": "2021-06-05T07:43:06.616420Z"
    },
    "papermill": {
     "duration": 0.267449,
     "end_time": "2021-06-05T08:02:50.758659",
     "exception": false,
     "start_time": "2021-06-05T08:02:50.491210",
     "status": "completed"
    },
    "tags": []
   },
   "outputs": [
    {
     "data": {
      "image/png": "[encoded data removed]",
      "text/plain": [
       "<Figure size 360x360 with 1 Axes>"
      ]
     },
     "metadata": {
      "needs_background": "light"
     },
     "output_type": "display_data"
    }
   ],
   "source": [
    "bar_chart_compare(train_df, \"Fam_type\", title = \"Survival rate by family type\")"
   ]
  },
  {
   "cell_type": "code",
   "execution_count": 70,
   "id": "applied-latest",
   "metadata": {
    "execution": {
     "iopub.execute_input": "2021-06-05T08:02:51.016306Z",
     "iopub.status.busy": "2021-06-05T08:02:51.012055Z",
     "iopub.status.idle": "2021-06-05T08:02:51.206780Z",
     "shell.execute_reply": "2021-06-05T08:02:51.206005Z",
     "shell.execute_reply.started": "2021-06-05T07:43:39.760057Z"
    },
    "papermill": {
     "duration": 0.33073,
     "end_time": "2021-06-05T08:02:51.207036",
     "exception": false,
     "start_time": "2021-06-05T08:02:50.876306",
     "status": "completed"
    },
    "tags": []
   },
   "outputs": [
    {
     "data": {
      "image/png": "[encoded data removed]",
      "text/plain": [
       "<Figure size 360x360 with 1 Axes>"
      ]
     },
     "metadata": {
      "needs_background": "light"
     },
     "output_type": "display_data"
    }
   ],
   "source": [
    "show_compare_countplot(train_df, \"Fam_type\", \"Survived\", \"Survivor count by family type\")"
   ]
  },
  {
   "cell_type": "markdown",
   "id": "warming-devil",
   "metadata": {
    "papermill": {
     "duration": 0.121117,
     "end_time": "2021-06-05T08:02:51.450663",
     "exception": false,
     "start_time": "2021-06-05T08:02:51.329546",
     "status": "completed"
    },
    "tags": []
   },
   "source": [
    "# 4. Trainng a Classifier\n",
    "* Start by selecting the features will use and isolate the target\n",
    "* Will not consider Cabin and exclude Age\n",
    "* Will not be using Sex as a feature, but will use Titles that also represents the gender"
   ]
  },
  {
   "cell_type": "code",
   "execution_count": 71,
   "id": "adjacent-field",
   "metadata": {
    "execution": {
     "iopub.execute_input": "2021-06-05T08:02:51.700078Z",
     "iopub.status.busy": "2021-06-05T08:02:51.698349Z",
     "iopub.status.idle": "2021-06-05T08:02:51.710092Z",
     "shell.execute_reply": "2021-06-05T08:02:51.710860Z",
     "shell.execute_reply.started": "2021-06-05T07:48:09.033618Z"
    },
    "papermill": {
     "duration": 0.143314,
     "end_time": "2021-06-05T08:02:51.711098",
     "exception": false,
     "start_time": "2021-06-05T08:02:51.567784",
     "status": "completed"
    },
    "tags": []
   },
   "outputs": [
    {
     "data": {
      "text/html": [
       "<div>\n",
       "<style scoped>\n",
       "    .dataframe tbody tr th:only-of-type {\n",
       "        vertical-align: middle;\n",
       "    }\n",
       "\n",
       "    .dataframe tbody tr th {\n",
       "        vertical-align: top;\n",
       "    }\n",
       "\n",
       "    .dataframe thead th {\n",
       "        text-align: right;\n",
       "    }\n",
       "</style>\n",
       "<table border=\"1\" class=\"dataframe\">\n",
       "  <thead>\n",
       "    <tr style=\"text-align: right;\">\n",
       "      <th></th>\n",
       "      <th>Pclass</th>\n",
       "      <th>Fare</th>\n",
       "      <th>Title</th>\n",
       "      <th>Embarked</th>\n",
       "      <th>Fam_type</th>\n",
       "      <th>Ticket_len</th>\n",
       "      <th>Ticket_2letter</th>\n",
       "    </tr>\n",
       "  </thead>\n",
       "  <tbody>\n",
       "    <tr>\n",
       "      <th>0</th>\n",
       "      <td>3</td>\n",
       "      <td>7.2500</td>\n",
       "      <td>Mr</td>\n",
       "      <td>S</td>\n",
       "      <td>Small</td>\n",
       "      <td>9</td>\n",
       "      <td>A/</td>\n",
       "    </tr>\n",
       "    <tr>\n",
       "      <th>1</th>\n",
       "      <td>1</td>\n",
       "      <td>71.2833</td>\n",
       "      <td>Mrs</td>\n",
       "      <td>C</td>\n",
       "      <td>Small</td>\n",
       "      <td>8</td>\n",
       "      <td>PC</td>\n",
       "    </tr>\n",
       "    <tr>\n",
       "      <th>2</th>\n",
       "      <td>3</td>\n",
       "      <td>7.9250</td>\n",
       "      <td>Miss</td>\n",
       "      <td>S</td>\n",
       "      <td>Solo</td>\n",
       "      <td>16</td>\n",
       "      <td>ST</td>\n",
       "    </tr>\n",
       "    <tr>\n",
       "      <th>3</th>\n",
       "      <td>1</td>\n",
       "      <td>53.1000</td>\n",
       "      <td>Mrs</td>\n",
       "      <td>S</td>\n",
       "      <td>Small</td>\n",
       "      <td>6</td>\n",
       "      <td>11</td>\n",
       "    </tr>\n",
       "    <tr>\n",
       "      <th>4</th>\n",
       "      <td>3</td>\n",
       "      <td>8.0500</td>\n",
       "      <td>Mr</td>\n",
       "      <td>S</td>\n",
       "      <td>Solo</td>\n",
       "      <td>6</td>\n",
       "      <td>37</td>\n",
       "    </tr>\n",
       "  </tbody>\n",
       "</table>\n",
       "</div>"
      ],
      "text/plain": [
       "   Pclass     Fare Title Embarked Fam_type  Ticket_len Ticket_2letter\n",
       "0       3   7.2500    Mr        S    Small           9             A/\n",
       "1       1  71.2833   Mrs        C    Small           8             PC\n",
       "2       3   7.9250  Miss        S     Solo          16             ST\n",
       "3       1  53.1000   Mrs        S    Small           6             11\n",
       "4       3   8.0500    Mr        S     Solo           6             37"
      ]
     },
     "execution_count": 71,
     "metadata": {},
     "output_type": "execute_result"
    }
   ],
   "source": [
    "y = train_df['Survived']\n",
    "features = ['Pclass', 'Fare', 'Title', 'Embarked', 'Fam_type', 'Ticket_len', 'Ticket_2letter']\n",
    "X = train_df[features]\n",
    "X.head()"
   ]
  },
  {
   "cell_type": "code",
   "execution_count": 72,
   "id": "electrical-nickname",
   "metadata": {
    "execution": {
     "iopub.execute_input": "2021-06-05T08:02:51.966907Z",
     "iopub.status.busy": "2021-06-05T08:02:51.966202Z",
     "iopub.status.idle": "2021-06-05T08:03:03.623380Z",
     "shell.execute_reply": "2021-06-05T08:03:03.622874Z",
     "shell.execute_reply.started": "2021-06-05T07:59:14.808928Z"
    },
    "papermill": {
     "duration": 11.788301,
     "end_time": "2021-06-05T08:03:03.623520",
     "exception": false,
     "start_time": "2021-06-05T08:02:51.835219",
     "status": "completed"
    },
    "tags": []
   },
   "outputs": [
    {
     "name": "stdout",
     "output_type": "stream",
     "text": [
      "Cross validation score: 0.826\n"
     ]
    }
   ],
   "source": [
    "numerical_cols = ['Fare']\n",
    "categorical_cols = ['Pclass', 'Title', 'Embarked', 'Fam_type', 'Ticket_len', 'Ticket_2letter']\n",
    "\n",
    "# Impute numerical values with median\n",
    "numerical_transformer = SimpleImputer(strategy = 'median')\n",
    "\n",
    "# Imput missing values with most frequent one for categorical data\n",
    "categorical_transformer = Pipeline(steps=[\n",
    "    ('imputer', SimpleImputer(strategy='most_frequent')),\n",
    "    ('onehot', OneHotEncoder(handle_unknown='ignore'))\n",
    "])\n",
    "\n",
    "# Bundle preprocessing for numerical and categorical data\n",
    "preprocessor = ColumnTransformer(\n",
    "    transformers=[\n",
    "        ('num', numerical_transformer, numerical_cols),\n",
    "        ('cat', categorical_transformer, categorical_cols)\n",
    "    ])\n",
    "\n",
    "# Bundle preprocessing and modeling code\n",
    "titanic_pipeline = Pipeline(steps=[\n",
    "    ('preprocessor', preprocessor),\n",
    "    ('model', RandomForestClassifier(random_state=0, n_estimators=500, max_depth=5))\n",
    "])\n",
    "\n",
    "# Training\n",
    "titanic_pipeline.fit(X,y)\n",
    "\n",
    "print('Cross validation score: {:.3f}'.format(cross_val_score(titanic_pipeline, X, y, cv=10).mean()))"
   ]
  },
  {
   "cell_type": "code",
   "execution_count": 73,
   "id": "muslim-median",
   "metadata": {
    "execution": {
     "iopub.execute_input": "2021-06-05T08:03:03.864719Z",
     "iopub.status.busy": "2021-06-05T08:03:03.858878Z",
     "iopub.status.idle": "2021-06-05T08:03:03.874784Z",
     "shell.execute_reply": "2021-06-05T08:03:03.874111Z",
     "shell.execute_reply.started": "2021-06-05T07:59:51.029704Z"
    },
    "papermill": {
     "duration": 0.135542,
     "end_time": "2021-06-05T08:03:03.874921",
     "exception": false,
     "start_time": "2021-06-05T08:03:03.739379",
     "status": "completed"
    },
    "tags": []
   },
   "outputs": [
    {
     "data": {
      "text/html": [
       "<div>\n",
       "<style scoped>\n",
       "    .dataframe tbody tr th:only-of-type {\n",
       "        vertical-align: middle;\n",
       "    }\n",
       "\n",
       "    .dataframe tbody tr th {\n",
       "        vertical-align: top;\n",
       "    }\n",
       "\n",
       "    .dataframe thead th {\n",
       "        text-align: right;\n",
       "    }\n",
       "</style>\n",
       "<table border=\"1\" class=\"dataframe\">\n",
       "  <thead>\n",
       "    <tr style=\"text-align: right;\">\n",
       "      <th></th>\n",
       "      <th>Pclass</th>\n",
       "      <th>Fare</th>\n",
       "      <th>Title</th>\n",
       "      <th>Embarked</th>\n",
       "      <th>Fam_type</th>\n",
       "      <th>Ticket_len</th>\n",
       "      <th>Ticket_2letter</th>\n",
       "    </tr>\n",
       "  </thead>\n",
       "  <tbody>\n",
       "    <tr>\n",
       "      <th>0</th>\n",
       "      <td>3</td>\n",
       "      <td>7.8292</td>\n",
       "      <td>Mr</td>\n",
       "      <td>Q</td>\n",
       "      <td>Solo</td>\n",
       "      <td>6</td>\n",
       "      <td>A/</td>\n",
       "    </tr>\n",
       "    <tr>\n",
       "      <th>1</th>\n",
       "      <td>3</td>\n",
       "      <td>7.0000</td>\n",
       "      <td>Mrs</td>\n",
       "      <td>S</td>\n",
       "      <td>Small</td>\n",
       "      <td>6</td>\n",
       "      <td>PC</td>\n",
       "    </tr>\n",
       "    <tr>\n",
       "      <th>2</th>\n",
       "      <td>2</td>\n",
       "      <td>9.6875</td>\n",
       "      <td>Mr</td>\n",
       "      <td>Q</td>\n",
       "      <td>Solo</td>\n",
       "      <td>6</td>\n",
       "      <td>ST</td>\n",
       "    </tr>\n",
       "    <tr>\n",
       "      <th>3</th>\n",
       "      <td>3</td>\n",
       "      <td>8.6625</td>\n",
       "      <td>Mr</td>\n",
       "      <td>S</td>\n",
       "      <td>Solo</td>\n",
       "      <td>6</td>\n",
       "      <td>11</td>\n",
       "    </tr>\n",
       "    <tr>\n",
       "      <th>4</th>\n",
       "      <td>3</td>\n",
       "      <td>12.2875</td>\n",
       "      <td>Mrs</td>\n",
       "      <td>S</td>\n",
       "      <td>Small</td>\n",
       "      <td>7</td>\n",
       "      <td>37</td>\n",
       "    </tr>\n",
       "  </tbody>\n",
       "</table>\n",
       "</div>"
      ],
      "text/plain": [
       "   Pclass     Fare Title Embarked Fam_type  Ticket_len Ticket_2letter\n",
       "0       3   7.8292    Mr        Q     Solo           6             A/\n",
       "1       3   7.0000   Mrs        S    Small           6             PC\n",
       "2       2   9.6875    Mr        Q     Solo           6             ST\n",
       "3       3   8.6625    Mr        S     Solo           6             11\n",
       "4       3  12.2875   Mrs        S    Small           7             37"
      ]
     },
     "execution_count": 73,
     "metadata": {},
     "output_type": "execute_result"
    }
   ],
   "source": [
    "X_test = test_df[features]\n",
    "X_test.head()"
   ]
  },
  {
   "cell_type": "code",
   "execution_count": 74,
   "id": "certain-illinois",
   "metadata": {
    "execution": {
     "iopub.execute_input": "2021-06-05T08:03:04.117574Z",
     "iopub.status.busy": "2021-06-05T08:03:04.116600Z",
     "iopub.status.idle": "2021-06-05T08:03:04.190753Z",
     "shell.execute_reply": "2021-06-05T08:03:04.190213Z",
     "shell.execute_reply.started": "2021-06-05T08:00:21.857639Z"
    },
    "papermill": {
     "duration": 0.202041,
     "end_time": "2021-06-05T08:03:04.190910",
     "exception": false,
     "start_time": "2021-06-05T08:03:03.988869",
     "status": "completed"
    },
    "tags": []
   },
   "outputs": [],
   "source": [
    "predictions = titanic_pipeline.predict(X_test)"
   ]
  },
  {
   "cell_type": "code",
   "execution_count": 75,
   "id": "empirical-situation",
   "metadata": {
    "execution": {
     "iopub.execute_input": "2021-06-05T08:03:04.428681Z",
     "iopub.status.busy": "2021-06-05T08:03:04.427985Z",
     "iopub.status.idle": "2021-06-05T08:03:04.435907Z",
     "shell.execute_reply": "2021-06-05T08:03:04.436362Z",
     "shell.execute_reply.started": "2021-06-05T08:01:36.740197Z"
    },
    "papermill": {
     "duration": 0.129731,
     "end_time": "2021-06-05T08:03:04.436541",
     "exception": false,
     "start_time": "2021-06-05T08:03:04.306810",
     "status": "completed"
    },
    "tags": []
   },
   "outputs": [
    {
     "name": "stdout",
     "output_type": "stream",
     "text": [
      "Submission successfully saved!\n"
     ]
    }
   ],
   "source": [
    "output = pd.DataFrame({'PassengerId': test_df.PassengerId, 'Survived': predictions})\n",
    "output.to_csv('my_submission.csv', index=False)\n",
    "print(\"Submission successfully saved!\")"
   ]
  }
 ],
 "metadata": {
  "kernelspec": {
   "display_name": "Python 3",
   "language": "python",
   "name": "python3"
  },
  "language_info": {
   "codemirror_mode": {
    "name": "ipython",
    "version": 3
   },
   "file_extension": ".py",
   "mimetype": "text/x-python",
   "name": "python",
   "nbconvert_exporter": "python",
   "pygments_lexer": "ipython3",
   "version": "3.7.10"
  },
  "papermill": {
   "default_parameters": {},
   "duration": 55.865091,
   "end_time": "2021-06-05T08:03:05.363822",
   "environment_variables": {},
   "exception": null,
   "input_path": "__notebook__.ipynb",
   "output_path": "__notebook__.ipynb",
   "parameters": {},
   "start_time": "2021-06-05T08:02:09.498731",
   "version": "2.3.3"
  }
 },
 "nbformat": 4,
 "nbformat_minor": 5
}
